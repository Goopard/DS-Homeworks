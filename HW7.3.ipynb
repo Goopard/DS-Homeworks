{
 "cells": [
  {
   "cell_type": "code",
   "execution_count": 3,
   "metadata": {},
   "outputs": [],
   "source": [
    "import tensorflow as tf\n",
    "import numpy as np\n",
    "from tensorflow.keras.preprocessing.image import ImageDataGenerator, array_to_img, img_to_array, load_img\n",
    "from tensorflow.keras.models import Sequential\n",
    "from tensorflow.keras.layers import Conv2D, MaxPooling2D\n",
    "from tensorflow.keras.layers import Activation, Dropout, Flatten, Dense\n",
    "from tensorflow.keras.optimizers import Adam\n",
    "\n",
    "from sklearn.metrics import accuracy_score"
   ]
  },
  {
   "cell_type": "markdown",
   "metadata": {},
   "source": [
    "## Preparing data"
   ]
  },
  {
   "cell_type": "code",
   "execution_count": 105,
   "metadata": {},
   "outputs": [
    {
     "name": "stdout",
     "output_type": "stream",
     "text": [
      "Found 498 images belonging to 2 classes.\n",
      "Found 500 images belonging to 2 classes.\n"
     ]
    }
   ],
   "source": [
    "batch_size = 16\n",
    "\n",
    "train_datagen = ImageDataGenerator(\n",
    "        rescale=1./255,\n",
    "        shear_range=0.4,\n",
    "        zoom_range=0.4,\n",
    "        horizontal_flip=True\n",
    ")\n",
    "test_datagen = ImageDataGenerator(rescale=1./255)\n",
    "\n",
    "train_generator = train_datagen.flow_from_directory('train', target_size=(150, 150), batch_size=batch_size, class_mode='binary', shuffle=False)\n",
    "test_generator = test_datagen.flow_from_directory('test', target_size=(150, 150), batch_size=batch_size, class_mode='binary', shuffle=False)"
   ]
  },
  {
   "cell_type": "code",
   "execution_count": 48,
   "metadata": {},
   "outputs": [],
   "source": [
    "train_labels = []\n",
    "\n",
    "for image, label in train_generator:\n",
    "    if len(train_labels) == 498:\n",
    "        break\n",
    "    train_labels += list(label)\n",
    "    \n",
    "test_labels = []\n",
    "\n",
    "for image, label in test_generator:\n",
    "    if len(test_labels) == 500:\n",
    "        break\n",
    "    test_labels += list(label)"
   ]
  },
  {
   "cell_type": "code",
   "execution_count": 49,
   "metadata": {},
   "outputs": [
    {
     "data": {
      "text/plain": [
       "(498, 500)"
      ]
     },
     "execution_count": 49,
     "metadata": {},
     "output_type": "execute_result"
    }
   ],
   "source": [
    "len(train_labels), len(test_labels)"
   ]
  },
  {
   "cell_type": "markdown",
   "metadata": {},
   "source": [
    "# Modelling"
   ]
  },
  {
   "cell_type": "markdown",
   "metadata": {},
   "source": [
    "## Simple model"
   ]
  },
  {
   "cell_type": "code",
   "execution_count": 26,
   "metadata": {},
   "outputs": [],
   "source": [
    "model = Sequential()\n",
    "model.add(Conv2D(64, (3, 3), input_shape=(150, 150, 3)))\n",
    "model.add(Activation('relu'))\n",
    "model.add(MaxPooling2D(pool_size=(2, 2)))\n",
    "\n",
    "model.add(Conv2D(64, (3, 3)))\n",
    "model.add(Activation('relu'))\n",
    "model.add(MaxPooling2D(pool_size=(2, 2)))\n",
    "\n",
    "model.add(Flatten())\n",
    "model.add(Dense(64))\n",
    "model.add(Activation('relu'))\n",
    "model.add(Dropout(0.5))\n",
    "model.add(Dense(1))\n",
    "model.add(Activation('sigmoid'))\n",
    "\n",
    "model.compile(loss='binary_crossentropy', optimizer='rmsprop', metrics=['accuracy'])"
   ]
  },
  {
   "cell_type": "code",
   "execution_count": 27,
   "metadata": {},
   "outputs": [
    {
     "name": "stdout",
     "output_type": "stream",
     "text": [
      "Epoch 1/8\n",
      "100/100 [==============================] - 66s 661ms/step - loss: 0.7902 - accuracy: 0.5558\n",
      "Epoch 2/8\n",
      "100/100 [==============================] - 65s 653ms/step - loss: 0.6924 - accuracy: 0.5873\n",
      "Epoch 3/8\n",
      "100/100 [==============================] - 65s 651ms/step - loss: 0.7035 - accuracy: 0.5834\n",
      "Epoch 4/8\n",
      "100/100 [==============================] - 64s 637ms/step - loss: 0.6438 - accuracy: 0.6463\n",
      "Epoch 5/8\n",
      "100/100 [==============================] - 64s 639ms/step - loss: 0.6273 - accuracy: 0.6697\n",
      "Epoch 6/8\n",
      "100/100 [==============================] - 64s 636ms/step - loss: 0.6121 - accuracy: 0.6900\n",
      "Epoch 7/8\n",
      "100/100 [==============================] - 64s 635ms/step - loss: 0.5868 - accuracy: 0.7022\n",
      "Epoch 8/8\n",
      "100/100 [==============================] - 62s 618ms/step - loss: 0.5495 - accuracy: 0.7317\n"
     ]
    },
    {
     "data": {
      "text/plain": [
       "<tensorflow.python.keras.callbacks.History at 0x7f9525f098d0>"
      ]
     },
     "execution_count": 27,
     "metadata": {},
     "output_type": "execute_result"
    }
   ],
   "source": [
    "model.fit_generator(\n",
    "    train_generator,\n",
    "    steps_per_epoch=100,\n",
    "    epochs=8\n",
    ")"
   ]
  },
  {
   "cell_type": "code",
   "execution_count": 28,
   "metadata": {},
   "outputs": [
    {
     "data": {
      "text/plain": [
       "0.558"
      ]
     },
     "execution_count": 28,
     "metadata": {},
     "output_type": "execute_result"
    }
   ],
   "source": [
    "predicts = model.predict_generator(test_generator)\n",
    "accuracy_score(labels, predicts.reshape(-1) >= 0.5)"
   ]
  },
  {
   "cell_type": "markdown",
   "metadata": {},
   "source": [
    "## Using pre-trained VGG-16"
   ]
  },
  {
   "cell_type": "code",
   "execution_count": 29,
   "metadata": {},
   "outputs": [],
   "source": [
    "from tensorflow.keras.applications import VGG16"
   ]
  },
  {
   "cell_type": "code",
   "execution_count": 30,
   "metadata": {},
   "outputs": [
    {
     "name": "stdout",
     "output_type": "stream",
     "text": [
      "Downloading data from https://github.com/fchollet/deep-learning-models/releases/download/v0.1/vgg16_weights_tf_dim_ordering_tf_kernels_notop.h5\n",
      "58892288/58889256 [==============================] - 16s 0us/step\n"
     ]
    }
   ],
   "source": [
    "vgg_model = VGG16(include_top=False, weights='imagenet')"
   ]
  },
  {
   "cell_type": "code",
   "execution_count": 106,
   "metadata": {},
   "outputs": [],
   "source": [
    "vgg_train = list(vgg_model.predict(train_generator))\n",
    "vgg_test = list(vgg_model.predict(test_generator))"
   ]
  },
  {
   "cell_type": "code",
   "execution_count": 107,
   "metadata": {},
   "outputs": [],
   "source": [
    "vgg_train_other = np.array([array.reshape(-1) for array in vgg_train])\n",
    "vgg_test_other = np.array([array.reshape(-1) for array in vgg_test])"
   ]
  },
  {
   "cell_type": "code",
   "execution_count": 121,
   "metadata": {},
   "outputs": [
    {
     "name": "stdout",
     "output_type": "stream",
     "text": [
      "Epoch 1/30\n",
      "498/498 [==============================] - 1s 1ms/sample - loss: 1.2471 - accuracy: 0.5703\n",
      "Epoch 2/30\n",
      "498/498 [==============================] - 0s 902us/sample - loss: 0.6245 - accuracy: 0.6767\n",
      "Epoch 3/30\n",
      "498/498 [==============================] - 0s 957us/sample - loss: 0.5279 - accuracy: 0.7570\n",
      "Epoch 4/30\n",
      "498/498 [==============================] - 0s 932us/sample - loss: 0.4759 - accuracy: 0.7892\n",
      "Epoch 5/30\n",
      "498/498 [==============================] - 0s 958us/sample - loss: 0.4351 - accuracy: 0.8052\n",
      "Epoch 6/30\n",
      "498/498 [==============================] - 0s 919us/sample - loss: 0.3800 - accuracy: 0.8213\n",
      "Epoch 7/30\n",
      "498/498 [==============================] - 0s 907us/sample - loss: 0.3839 - accuracy: 0.8353\n",
      "Epoch 8/30\n",
      "498/498 [==============================] - 0s 900us/sample - loss: 0.3252 - accuracy: 0.8394\n",
      "Epoch 9/30\n",
      "498/498 [==============================] - 0s 907us/sample - loss: 0.2209 - accuracy: 0.9076\n",
      "Epoch 10/30\n",
      "498/498 [==============================] - 1s 1ms/sample - loss: 0.2413 - accuracy: 0.8855\n",
      "Epoch 11/30\n",
      "498/498 [==============================] - 0s 942us/sample - loss: 0.2102 - accuracy: 0.9357\n",
      "Epoch 12/30\n",
      "498/498 [==============================] - 0s 920us/sample - loss: 0.1143 - accuracy: 0.9618\n",
      "Epoch 13/30\n",
      "498/498 [==============================] - 0s 897us/sample - loss: 0.1666 - accuracy: 0.9337\n",
      "Epoch 14/30\n",
      "498/498 [==============================] - 0s 925us/sample - loss: 0.1087 - accuracy: 0.9578\n",
      "Epoch 15/30\n",
      "498/498 [==============================] - 0s 977us/sample - loss: 0.1200 - accuracy: 0.9558\n",
      "Epoch 16/30\n",
      "498/498 [==============================] - 0s 940us/sample - loss: 0.0509 - accuracy: 0.9819\n",
      "Epoch 17/30\n",
      "498/498 [==============================] - 0s 929us/sample - loss: 0.0677 - accuracy: 0.9699\n",
      "Epoch 18/30\n",
      "498/498 [==============================] - 0s 948us/sample - loss: 0.0563 - accuracy: 0.9819\n",
      "Epoch 19/30\n",
      "498/498 [==============================] - 0s 939us/sample - loss: 0.0812 - accuracy: 0.9719\n",
      "Epoch 20/30\n",
      "498/498 [==============================] - 0s 924us/sample - loss: 0.0923 - accuracy: 0.9598\n",
      "Epoch 21/30\n",
      "498/498 [==============================] - 0s 923us/sample - loss: 0.0151 - accuracy: 0.9940\n",
      "Epoch 22/30\n",
      "498/498 [==============================] - 0s 924us/sample - loss: 0.0563 - accuracy: 0.9779\n",
      "Epoch 23/30\n",
      "498/498 [==============================] - 0s 943us/sample - loss: 0.0221 - accuracy: 0.9920\n",
      "Epoch 24/30\n",
      "498/498 [==============================] - 0s 935us/sample - loss: 0.0409 - accuracy: 0.9880\n",
      "Epoch 25/30\n",
      "498/498 [==============================] - 0s 991us/sample - loss: 0.0143 - accuracy: 0.9940\n",
      "Epoch 26/30\n",
      "498/498 [==============================] - 0s 924us/sample - loss: 0.0407 - accuracy: 0.9859\n",
      "Epoch 27/30\n",
      "498/498 [==============================] - 0s 958us/sample - loss: 0.0073 - accuracy: 1.0000\n",
      "Epoch 28/30\n",
      "498/498 [==============================] - 0s 954us/sample - loss: 0.0452 - accuracy: 0.9799\n",
      "Epoch 29/30\n",
      "498/498 [==============================] - 0s 918us/sample - loss: 0.0109 - accuracy: 0.9940\n",
      "Epoch 30/30\n",
      "498/498 [==============================] - 0s 934us/sample - loss: 0.0338 - accuracy: 0.9859\n"
     ]
    },
    {
     "data": {
      "text/plain": [
       "<tensorflow.python.keras.callbacks.History at 0x7f948fa45ba8>"
      ]
     },
     "execution_count": 121,
     "metadata": {},
     "output_type": "execute_result"
    }
   ],
   "source": [
    "model = Sequential()\n",
    "model.add(Dense(256, activation='relu'))\n",
    "model.add(Dropout(0.5))\n",
    "model.add(Dense(1, activation='sigmoid'))\n",
    "\n",
    "model.compile(optimizer='rmsprop', loss='binary_crossentropy', metrics=['accuracy'])\n",
    "\n",
    "model.fit(vgg_train_other, np.array(train_labels), epochs=30, batch_size=batch_size)"
   ]
  },
  {
   "cell_type": "code",
   "execution_count": 122,
   "metadata": {},
   "outputs": [
    {
     "data": {
      "text/plain": [
       "0.766"
      ]
     },
     "execution_count": 122,
     "metadata": {},
     "output_type": "execute_result"
    }
   ],
   "source": [
    "predictions = model.predict(vgg_test_other).reshape(-1)\n",
    "accuracy_score([0] * 250 + [1] * 250, predictions >= 0.5)"
   ]
  },
  {
   "cell_type": "code",
   "execution_count": null,
   "metadata": {},
   "outputs": [],
   "source": []
  }
 ],
 "metadata": {
  "kernelspec": {
   "display_name": "Python 3",
   "language": "python",
   "name": "python3"
  },
  "language_info": {
   "codemirror_mode": {
    "name": "ipython",
    "version": 3
   },
   "file_extension": ".py",
   "mimetype": "text/x-python",
   "name": "python",
   "nbconvert_exporter": "python",
   "pygments_lexer": "ipython3",
   "version": "3.6.9"
  }
 },
 "nbformat": 4,
 "nbformat_minor": 4
}
