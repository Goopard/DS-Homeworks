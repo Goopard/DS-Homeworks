{
 "cells": [
  {
   "cell_type": "code",
   "execution_count": 102,
   "metadata": {
    "collapsed": true
   },
   "outputs": [],
   "source": [
    "import re\n",
    "import os\n",
    "import pandas as pd\n",
    "import numpy as np\n",
    "import matplotlib.pyplot as plt\n",
    "import requests\n",
    "from pyspark.sql import SparkSession, functions as F\n",
    "\n",
    "from lightgbm import LGBMRegressor\n",
    "from tqdm import tqdm\n",
    "from scipy.stats import pearsonr, spearmanr\n",
    "from sklearn.feature_extraction.text import TfidfVectorizer\n",
    "from sklearn.preprocessing import StandardScaler\n",
    "from sklearn.model_selection import train_test_split, GridSearchCV\n",
    "from sklearn.linear_model import SGDRegressor\n",
    "from sklearn.metrics import mean_squared_error, mean_absolute_error, make_scorer\n",
    "from pandas_profiling import ProfileReport\n",
    "from rdkit import Chem\n",
    "from rdkit.Chem.rdmolops import SanitizeFlags\n",
    "from tqdm import tqdm\n",
    "from xyz import xyz2mol, xyz2AC, AC2mol, read_xyz_file\n",
    "from requests_toolbelt.multipart.encoder import MultipartEncoder"
   ]
  },
  {
   "cell_type": "markdown",
   "metadata": {},
   "source": [
    "# Data loading"
   ]
  },
  {
   "cell_type": "markdown",
   "metadata": {},
   "source": [
    "Apart from original data provided for this competition, we will also be using **RDKit** for creating additional chemical features for each molecule, and **NMR spectres Data Base** for some valuable features for predicting our target. We will also use **RDKit** to create **SMILES** representations of our molecules to build the TF-IDF features for our molecules.\n",
    "\n",
    "First of all, all of this data must be read/downloaded."
   ]
  },
  {
   "cell_type": "code",
   "execution_count": 2,
   "metadata": {
    "collapsed": true
   },
   "outputs": [],
   "source": [
    "train = pd.read_csv('molecules/train.csv')\n",
    "test = pd.read_csv('molecules/test.csv')\n",
    "structs = pd.read_csv('molecules/structures.csv')"
   ]
  },
  {
   "cell_type": "code",
   "execution_count": 10,
   "metadata": {},
   "outputs": [
    {
     "data": {
      "text/html": [
       "<div>\n",
       "<style scoped>\n",
       "    .dataframe tbody tr th:only-of-type {\n",
       "        vertical-align: middle;\n",
       "    }\n",
       "\n",
       "    .dataframe tbody tr th {\n",
       "        vertical-align: top;\n",
       "    }\n",
       "\n",
       "    .dataframe thead th {\n",
       "        text-align: right;\n",
       "    }\n",
       "</style>\n",
       "<table border=\"1\" class=\"dataframe\">\n",
       "  <thead>\n",
       "    <tr style=\"text-align: right;\">\n",
       "      <th></th>\n",
       "      <th>id</th>\n",
       "      <th>molecule_name</th>\n",
       "      <th>atom_index_0</th>\n",
       "      <th>atom_index_1</th>\n",
       "      <th>type</th>\n",
       "      <th>scalar_coupling_constant</th>\n",
       "    </tr>\n",
       "  </thead>\n",
       "  <tbody>\n",
       "    <tr>\n",
       "      <td>0</td>\n",
       "      <td>0</td>\n",
       "      <td>dsgdb9nsd_000001</td>\n",
       "      <td>1</td>\n",
       "      <td>0</td>\n",
       "      <td>1JHC</td>\n",
       "      <td>84.8076</td>\n",
       "    </tr>\n",
       "    <tr>\n",
       "      <td>1</td>\n",
       "      <td>1</td>\n",
       "      <td>dsgdb9nsd_000001</td>\n",
       "      <td>1</td>\n",
       "      <td>2</td>\n",
       "      <td>2JHH</td>\n",
       "      <td>-11.2570</td>\n",
       "    </tr>\n",
       "    <tr>\n",
       "      <td>2</td>\n",
       "      <td>2</td>\n",
       "      <td>dsgdb9nsd_000001</td>\n",
       "      <td>1</td>\n",
       "      <td>3</td>\n",
       "      <td>2JHH</td>\n",
       "      <td>-11.2548</td>\n",
       "    </tr>\n",
       "    <tr>\n",
       "      <td>3</td>\n",
       "      <td>3</td>\n",
       "      <td>dsgdb9nsd_000001</td>\n",
       "      <td>1</td>\n",
       "      <td>4</td>\n",
       "      <td>2JHH</td>\n",
       "      <td>-11.2543</td>\n",
       "    </tr>\n",
       "    <tr>\n",
       "      <td>4</td>\n",
       "      <td>4</td>\n",
       "      <td>dsgdb9nsd_000001</td>\n",
       "      <td>2</td>\n",
       "      <td>0</td>\n",
       "      <td>1JHC</td>\n",
       "      <td>84.8074</td>\n",
       "    </tr>\n",
       "  </tbody>\n",
       "</table>\n",
       "</div>"
      ],
      "text/plain": [
       "   id     molecule_name  atom_index_0  atom_index_1  type  \\\n",
       "0   0  dsgdb9nsd_000001             1             0  1JHC   \n",
       "1   1  dsgdb9nsd_000001             1             2  2JHH   \n",
       "2   2  dsgdb9nsd_000001             1             3  2JHH   \n",
       "3   3  dsgdb9nsd_000001             1             4  2JHH   \n",
       "4   4  dsgdb9nsd_000001             2             0  1JHC   \n",
       "\n",
       "   scalar_coupling_constant  \n",
       "0                   84.8076  \n",
       "1                  -11.2570  \n",
       "2                  -11.2548  \n",
       "3                  -11.2543  \n",
       "4                   84.8074  "
      ]
     },
     "execution_count": 10,
     "metadata": {},
     "output_type": "execute_result"
    }
   ],
   "source": [
    "train.head()"
   ]
  },
  {
   "cell_type": "code",
   "execution_count": 11,
   "metadata": {},
   "outputs": [
    {
     "data": {
      "text/html": [
       "<div>\n",
       "<style scoped>\n",
       "    .dataframe tbody tr th:only-of-type {\n",
       "        vertical-align: middle;\n",
       "    }\n",
       "\n",
       "    .dataframe tbody tr th {\n",
       "        vertical-align: top;\n",
       "    }\n",
       "\n",
       "    .dataframe thead th {\n",
       "        text-align: right;\n",
       "    }\n",
       "</style>\n",
       "<table border=\"1\" class=\"dataframe\">\n",
       "  <thead>\n",
       "    <tr style=\"text-align: right;\">\n",
       "      <th></th>\n",
       "      <th>id</th>\n",
       "      <th>molecule_name</th>\n",
       "      <th>atom_index_0</th>\n",
       "      <th>atom_index_1</th>\n",
       "      <th>type</th>\n",
       "    </tr>\n",
       "  </thead>\n",
       "  <tbody>\n",
       "    <tr>\n",
       "      <td>0</td>\n",
       "      <td>4658147</td>\n",
       "      <td>dsgdb9nsd_000004</td>\n",
       "      <td>2</td>\n",
       "      <td>0</td>\n",
       "      <td>2JHC</td>\n",
       "    </tr>\n",
       "    <tr>\n",
       "      <td>1</td>\n",
       "      <td>4658148</td>\n",
       "      <td>dsgdb9nsd_000004</td>\n",
       "      <td>2</td>\n",
       "      <td>1</td>\n",
       "      <td>1JHC</td>\n",
       "    </tr>\n",
       "    <tr>\n",
       "      <td>2</td>\n",
       "      <td>4658149</td>\n",
       "      <td>dsgdb9nsd_000004</td>\n",
       "      <td>2</td>\n",
       "      <td>3</td>\n",
       "      <td>3JHH</td>\n",
       "    </tr>\n",
       "    <tr>\n",
       "      <td>3</td>\n",
       "      <td>4658150</td>\n",
       "      <td>dsgdb9nsd_000004</td>\n",
       "      <td>3</td>\n",
       "      <td>0</td>\n",
       "      <td>1JHC</td>\n",
       "    </tr>\n",
       "    <tr>\n",
       "      <td>4</td>\n",
       "      <td>4658151</td>\n",
       "      <td>dsgdb9nsd_000004</td>\n",
       "      <td>3</td>\n",
       "      <td>1</td>\n",
       "      <td>2JHC</td>\n",
       "    </tr>\n",
       "  </tbody>\n",
       "</table>\n",
       "</div>"
      ],
      "text/plain": [
       "        id     molecule_name  atom_index_0  atom_index_1  type\n",
       "0  4658147  dsgdb9nsd_000004             2             0  2JHC\n",
       "1  4658148  dsgdb9nsd_000004             2             1  1JHC\n",
       "2  4658149  dsgdb9nsd_000004             2             3  3JHH\n",
       "3  4658150  dsgdb9nsd_000004             3             0  1JHC\n",
       "4  4658151  dsgdb9nsd_000004             3             1  2JHC"
      ]
     },
     "execution_count": 11,
     "metadata": {},
     "output_type": "execute_result"
    }
   ],
   "source": [
    "test.head()"
   ]
  },
  {
   "cell_type": "code",
   "execution_count": 12,
   "metadata": {},
   "outputs": [
    {
     "data": {
      "text/html": [
       "<div>\n",
       "<style scoped>\n",
       "    .dataframe tbody tr th:only-of-type {\n",
       "        vertical-align: middle;\n",
       "    }\n",
       "\n",
       "    .dataframe tbody tr th {\n",
       "        vertical-align: top;\n",
       "    }\n",
       "\n",
       "    .dataframe thead th {\n",
       "        text-align: right;\n",
       "    }\n",
       "</style>\n",
       "<table border=\"1\" class=\"dataframe\">\n",
       "  <thead>\n",
       "    <tr style=\"text-align: right;\">\n",
       "      <th></th>\n",
       "      <th>molecule_name</th>\n",
       "      <th>atom_index</th>\n",
       "      <th>atom</th>\n",
       "      <th>x</th>\n",
       "      <th>y</th>\n",
       "      <th>z</th>\n",
       "    </tr>\n",
       "  </thead>\n",
       "  <tbody>\n",
       "    <tr>\n",
       "      <td>0</td>\n",
       "      <td>dsgdb9nsd_000001</td>\n",
       "      <td>0</td>\n",
       "      <td>C</td>\n",
       "      <td>-0.012698</td>\n",
       "      <td>1.085804</td>\n",
       "      <td>0.008001</td>\n",
       "    </tr>\n",
       "    <tr>\n",
       "      <td>1</td>\n",
       "      <td>dsgdb9nsd_000001</td>\n",
       "      <td>1</td>\n",
       "      <td>H</td>\n",
       "      <td>0.002150</td>\n",
       "      <td>-0.006031</td>\n",
       "      <td>0.001976</td>\n",
       "    </tr>\n",
       "    <tr>\n",
       "      <td>2</td>\n",
       "      <td>dsgdb9nsd_000001</td>\n",
       "      <td>2</td>\n",
       "      <td>H</td>\n",
       "      <td>1.011731</td>\n",
       "      <td>1.463751</td>\n",
       "      <td>0.000277</td>\n",
       "    </tr>\n",
       "    <tr>\n",
       "      <td>3</td>\n",
       "      <td>dsgdb9nsd_000001</td>\n",
       "      <td>3</td>\n",
       "      <td>H</td>\n",
       "      <td>-0.540815</td>\n",
       "      <td>1.447527</td>\n",
       "      <td>-0.876644</td>\n",
       "    </tr>\n",
       "    <tr>\n",
       "      <td>4</td>\n",
       "      <td>dsgdb9nsd_000001</td>\n",
       "      <td>4</td>\n",
       "      <td>H</td>\n",
       "      <td>-0.523814</td>\n",
       "      <td>1.437933</td>\n",
       "      <td>0.906397</td>\n",
       "    </tr>\n",
       "  </tbody>\n",
       "</table>\n",
       "</div>"
      ],
      "text/plain": [
       "      molecule_name  atom_index atom         x         y         z\n",
       "0  dsgdb9nsd_000001           0    C -0.012698  1.085804  0.008001\n",
       "1  dsgdb9nsd_000001           1    H  0.002150 -0.006031  0.001976\n",
       "2  dsgdb9nsd_000001           2    H  1.011731  1.463751  0.000277\n",
       "3  dsgdb9nsd_000001           3    H -0.540815  1.447527 -0.876644\n",
       "4  dsgdb9nsd_000001           4    H -0.523814  1.437933  0.906397"
      ]
     },
     "execution_count": 12,
     "metadata": {},
     "output_type": "execute_result"
    }
   ],
   "source": [
    "structs.head()"
   ]
  },
  {
   "cell_type": "code",
   "execution_count": 3,
   "metadata": {
    "collapsed": true
   },
   "outputs": [],
   "source": [
    "def get_nmr_spectre(molfilename):\n",
    "    with open(molfilename) as file:\n",
    "        data = file.read()\n",
    "\n",
    "    mp_encoder = MultipartEncoder(fields={'molfile': data})\n",
    "    headers = {'Content-Type': mp_encoder.content_type}\n",
    "    res = requests.post(url=\"https://www.nmrdb.org/service/predictor\", data=mp_encoder, headers=headers)\n",
    "    return res.content.decode(encoding='utf-8')\n",
    "\n",
    "def chiral_stereo_check(mol):\n",
    "    # avoid sanitization error e.g., dsgdb9nsd_037900.xyz\n",
    "    Chem.SanitizeMol(mol, SanitizeFlags.SANITIZE_ALL - SanitizeFlags.SANITIZE_PROPERTIES)\n",
    "    Chem.DetectBondStereochemistry(mol,-1)\n",
    "    # ignore stereochemistry for now\n",
    "    #Chem.AssignStereochemistry(mol, flagPossibleStereoCenters=True, force=True)\n",
    "    #Chem.AssignAtomChiralTagsFromStructure(mol,-1)\n",
    "    return mol\n",
    "\n",
    "\n",
    "def xyz2mol(atomicNumList,charge,xyz_coordinates,charged_fragments,quick):\n",
    "    AC,mol = xyz2AC(atomicNumList,xyz_coordinates)\n",
    "    new_mol = AC2mol(mol,AC,atomicNumList,charge,charged_fragments,quick)\n",
    "    new_mol = chiral_stereo_check(new_mol)\n",
    "    return new_mol\n",
    "\n",
    "def mol_from_xyz(filename):\n",
    "    charged_fragments = True\n",
    "    quick = True\n",
    "    atomicNumList, charge, xyz_coordinates = read_xyz_file(filename)\n",
    "    mol = xyz2mol(atomicNumList, charge, xyz_coordinates, charged_fragments, quick)\n",
    "    return mol\n",
    "\n",
    "\n",
    "def mols_from_folder(directory):\n",
    "    molecules = {}\n",
    "    for file in tqdm(os.listdir(directory)):\n",
    "        molecules[file[:-4]] = mol_from_xyz(os.path.join(directory, file))\n",
    "    return molecules\n",
    "\n",
    "def get_smiles_for_mols(mols):\n",
    "    return pd.DataFrame([(name, Chem.MolToSmiles(mols[name])) for name in mols.keys()], columns=['molecule_name', 'SMILES'])\n",
    "\n",
    "def get_nmr_spectres(mols, cache_dir='nmr_cache', cache_freq=500):\n",
    "    res = pd.DataFrame(columns=['molecule_name', 'raw_nmr'])\n",
    "    cache = {}\n",
    "    cache_num = 0\n",
    "    os.makedirs(cache_dir, exist_ok=True)\n",
    "    \n",
    "    cached_files = [file for file in os.listdir(cache_dir) if file.endswith('.csv')]\n",
    "    print('Reading cache from {} files'.format(len(cached_files)))\n",
    "    for file in cached_files:\n",
    "        res = pd.concat([res, pd.read_csv(os.path.join(cache_dir, file))[['molecule_name', 'raw_nmr']]])\n",
    "    \n",
    "    mols_to_read = {name: mols[name] for name in set(mols.keys()) - set(res['molecule_name'])}\n",
    "    print('{} molecules will be downloaded, since {} were cached'.format(len(mols_to_read), res.shape[0]))\n",
    "    \n",
    "    for name, mol in mols_to_read.items():\n",
    "        try:\n",
    "            path = os.path.join('mols', name)\n",
    "            Chem.MolToMolFile(mol, path)\n",
    "            cache[name] = get_nmr_spectre(path)\n",
    "        except Exception as e:\n",
    "            print(\"Failed to load {}, error: {}\".format(name, e.args[0]))\n",
    "        \n",
    "        if len(cache) >= cache_freq:\n",
    "            print('Caching last {} molecules, total downloaded: {}'.format(cache_freq, len(res)))\n",
    "            cache_df = pd.DataFrame(list(cache.items()), columns=['molecule_name', 'raw_nmr'])\n",
    "            cache_df.to_csv(os.path.join(cache_dir, 'cache_{}.csv'.format(cache_num)))\n",
    "            cache = {}\n",
    "            cache_num += 1\n",
    "            res = pd.concat([res, cache_df])\n",
    "    \n",
    "    cache_df = pd.DataFrame(list(cache.items()), columns=['molecule_name', 'raw_nmr'])\n",
    "    cache_df.to_csv(os.path.join(cache_dir, 'cache_{}.csv'.format(cache_num)))\n",
    "    res = pd.concat([res, cache_df])\n",
    "    \n",
    "    return res\n",
    "\n",
    "\n",
    "def parse_raw_nmr(nmr_string):\n",
    "    res = []\n",
    "    for line in nmr_string.split('\\n'):\n",
    "        line = line.split('\\t')\n",
    "        if len(line) >= 3:\n",
    "            res.append((int(line[0]) - 1, float(line[2])))\n",
    "    return pd.DataFrame(res, columns=['atom_index_0', 'delta'])\n",
    "\n",
    "\n",
    "def parse_all_nmrs(raw_nmr):\n",
    "    nmr_dict = {item[1]: item[2] for item in raw_nmr.itertuples()}\n",
    "    res = []\n",
    "    for name in nmr_dict:\n",
    "        pdf = parse_raw_nmr(nmr_dict[name])\n",
    "        pdf['molecule_name'] = name\n",
    "        res.append(pdf)\n",
    "    return pd.concat(res)"
   ]
  },
  {
   "cell_type": "markdown",
   "metadata": {},
   "source": [
    "Building the convenient **RDKit** represenations of our molecules:"
   ]
  },
  {
   "cell_type": "code",
   "execution_count": 4,
   "metadata": {},
   "outputs": [
    {
     "name": "stderr",
     "output_type": "stream",
     "text": [
      "100%|██████████| 130775/130775 [07:03<00:00, 308.88it/s]\n"
     ]
    }
   ],
   "source": [
    "mols = mols_from_folder('structures')"
   ]
  },
  {
   "cell_type": "markdown",
   "metadata": {},
   "source": [
    "Downloading raw NMR spectres for the molecules (represented as strings), then parsing them to get the **delta** feature for each Hydrogen in each molecule:"
   ]
  },
  {
   "cell_type": "code",
   "execution_count": 5,
   "metadata": {},
   "outputs": [
    {
     "name": "stdout",
     "output_type": "stream",
     "text": [
      "Reading cache from 261 files\n",
      "500 molecules will be downloaded, since 130275 were cached\n",
      "Caching last 500 molecules, total downloaded: 130275\n"
     ]
    }
   ],
   "source": [
    "raw_nmr = get_nmr_spectres(mols)"
   ]
  },
  {
   "cell_type": "code",
   "execution_count": 6,
   "metadata": {
    "collapsed": true
   },
   "outputs": [],
   "source": [
    "parsed_nmrs = parse_all_nmrs(raw_nmr.dropna())"
   ]
  },
  {
   "cell_type": "code",
   "execution_count": 7,
   "metadata": {},
   "outputs": [
    {
     "data": {
      "text/html": [
       "<div>\n",
       "<style scoped>\n",
       "    .dataframe tbody tr th:only-of-type {\n",
       "        vertical-align: middle;\n",
       "    }\n",
       "\n",
       "    .dataframe tbody tr th {\n",
       "        vertical-align: top;\n",
       "    }\n",
       "\n",
       "    .dataframe thead th {\n",
       "        text-align: right;\n",
       "    }\n",
       "</style>\n",
       "<table border=\"1\" class=\"dataframe\">\n",
       "  <thead>\n",
       "    <tr style=\"text-align: right;\">\n",
       "      <th></th>\n",
       "      <th>atom_index_0</th>\n",
       "      <th>delta</th>\n",
       "      <th>molecule_name</th>\n",
       "    </tr>\n",
       "  </thead>\n",
       "  <tbody>\n",
       "    <tr>\n",
       "      <td>0</td>\n",
       "      <td>9</td>\n",
       "      <td>8.207</td>\n",
       "      <td>dsgdb9nsd_025055</td>\n",
       "    </tr>\n",
       "    <tr>\n",
       "      <td>1</td>\n",
       "      <td>10</td>\n",
       "      <td>9.160</td>\n",
       "      <td>dsgdb9nsd_025055</td>\n",
       "    </tr>\n",
       "    <tr>\n",
       "      <td>2</td>\n",
       "      <td>11</td>\n",
       "      <td>2.839</td>\n",
       "      <td>dsgdb9nsd_025055</td>\n",
       "    </tr>\n",
       "    <tr>\n",
       "      <td>0</td>\n",
       "      <td>9</td>\n",
       "      <td>2.661</td>\n",
       "      <td>dsgdb9nsd_133073</td>\n",
       "    </tr>\n",
       "    <tr>\n",
       "      <td>1</td>\n",
       "      <td>10</td>\n",
       "      <td>2.661</td>\n",
       "      <td>dsgdb9nsd_133073</td>\n",
       "    </tr>\n",
       "  </tbody>\n",
       "</table>\n",
       "</div>"
      ],
      "text/plain": [
       "  atom_index_0  delta     molecule_name\n",
       "0            9  8.207  dsgdb9nsd_025055\n",
       "1           10  9.160  dsgdb9nsd_025055\n",
       "2           11  2.839  dsgdb9nsd_025055\n",
       "0            9  2.661  dsgdb9nsd_133073\n",
       "1           10  2.661  dsgdb9nsd_133073"
      ]
     },
     "execution_count": 7,
     "metadata": {},
     "output_type": "execute_result"
    }
   ],
   "source": [
    "parsed_nmrs.head()"
   ]
  },
  {
   "cell_type": "markdown",
   "metadata": {},
   "source": [
    "Creating **SMILES** representations for the molecules: "
   ]
  },
  {
   "cell_type": "code",
   "execution_count": 8,
   "metadata": {
    "collapsed": true
   },
   "outputs": [],
   "source": [
    "smiles = get_smiles_for_mols(mols)"
   ]
  },
  {
   "cell_type": "code",
   "execution_count": 9,
   "metadata": {},
   "outputs": [
    {
     "data": {
      "text/html": [
       "<div>\n",
       "<style scoped>\n",
       "    .dataframe tbody tr th:only-of-type {\n",
       "        vertical-align: middle;\n",
       "    }\n",
       "\n",
       "    .dataframe tbody tr th {\n",
       "        vertical-align: top;\n",
       "    }\n",
       "\n",
       "    .dataframe thead th {\n",
       "        text-align: right;\n",
       "    }\n",
       "</style>\n",
       "<table border=\"1\" class=\"dataframe\">\n",
       "  <thead>\n",
       "    <tr style=\"text-align: right;\">\n",
       "      <th></th>\n",
       "      <th>molecule_name</th>\n",
       "      <th>SMILES</th>\n",
       "    </tr>\n",
       "  </thead>\n",
       "  <tbody>\n",
       "    <tr>\n",
       "      <td>0</td>\n",
       "      <td>dsgdb9nsd_046695</td>\n",
       "      <td>[H]N1C([H])([H])C(=O)C2([H])OC3([H])C1([H])C23[H]</td>\n",
       "    </tr>\n",
       "    <tr>\n",
       "      <td>1</td>\n",
       "      <td>dsgdb9nsd_073956</td>\n",
       "      <td>[H]C#CC1=C(C([H])([H])[H])C([H])([H])C([H])([H...</td>\n",
       "    </tr>\n",
       "    <tr>\n",
       "      <td>2</td>\n",
       "      <td>dsgdb9nsd_075970</td>\n",
       "      <td>[H]C([H])([H])N1C(=O)C([H])([H])C([H])([H])C([...</td>\n",
       "    </tr>\n",
       "    <tr>\n",
       "      <td>3</td>\n",
       "      <td>dsgdb9nsd_014749</td>\n",
       "      <td>[H]N(C([H])([H])C#N)C([H])([H])C([H])([H])C([H...</td>\n",
       "    </tr>\n",
       "    <tr>\n",
       "      <td>4</td>\n",
       "      <td>dsgdb9nsd_037068</td>\n",
       "      <td>[H]C1([H])OC23C([H])([H])C([H])([H])C([H])([H]...</td>\n",
       "    </tr>\n",
       "  </tbody>\n",
       "</table>\n",
       "</div>"
      ],
      "text/plain": [
       "      molecule_name                                             SMILES\n",
       "0  dsgdb9nsd_046695  [H]N1C([H])([H])C(=O)C2([H])OC3([H])C1([H])C23[H]\n",
       "1  dsgdb9nsd_073956  [H]C#CC1=C(C([H])([H])[H])C([H])([H])C([H])([H...\n",
       "2  dsgdb9nsd_075970  [H]C([H])([H])N1C(=O)C([H])([H])C([H])([H])C([...\n",
       "3  dsgdb9nsd_014749  [H]N(C([H])([H])C#N)C([H])([H])C([H])([H])C([H...\n",
       "4  dsgdb9nsd_037068  [H]C1([H])OC23C([H])([H])C([H])([H])C([H])([H]..."
      ]
     },
     "execution_count": 9,
     "metadata": {},
     "output_type": "execute_result"
    }
   ],
   "source": [
    "smiles.head()"
   ]
  },
  {
   "cell_type": "markdown",
   "metadata": {},
   "source": [
    "# Feature aggregation"
   ]
  },
  {
   "cell_type": "markdown",
   "metadata": {},
   "source": [
    "Building a TF-IDF vectorizer based on text (only for 2-sized NGrams, so that the TF-IDF will be based on atoms' connections counts):"
   ]
  },
  {
   "cell_type": "code",
   "execution_count": 13,
   "metadata": {
    "collapsed": true
   },
   "outputs": [],
   "source": [
    "tokenizer = lambda smiles: list(smiles)\n",
    "\n",
    "tfidf = TfidfVectorizer(stop_words=[']', '[', 'n', '1', '2', '3', '4', '5', '6', '7', '8', '9', '0', 'h', 'c', 'o', '(', ')', '\\\\', '/', '#', '=', '-', '+', '.'], tokenizer=tokenizer, ngram_range=[2, 2], max_features=200, lowercase=False)\n",
    "smiles_tfidf = tfidf.fit_transform(smiles['SMILES'])\n",
    "smiles_tfidf = pd.DataFrame(smiles_tfidf.todense(), columns=tfidf.get_feature_names())\n",
    "smiles_tfidf['molecule_name'] = smiles['molecule_name']"
   ]
  },
  {
   "cell_type": "code",
   "execution_count": 14,
   "metadata": {},
   "outputs": [
    {
     "data": {
      "text/html": [
       "<div>\n",
       "<style scoped>\n",
       "    .dataframe tbody tr th:only-of-type {\n",
       "        vertical-align: middle;\n",
       "    }\n",
       "\n",
       "    .dataframe tbody tr th {\n",
       "        vertical-align: top;\n",
       "    }\n",
       "\n",
       "    .dataframe thead th {\n",
       "        text-align: right;\n",
       "    }\n",
       "</style>\n",
       "<table border=\"1\" class=\"dataframe\">\n",
       "  <thead>\n",
       "    <tr style=\"text-align: right;\">\n",
       "      <th></th>\n",
       "      <th>C C</th>\n",
       "      <th>C F</th>\n",
       "      <th>C H</th>\n",
       "      <th>C N</th>\n",
       "      <th>C O</th>\n",
       "      <th>F C</th>\n",
       "      <th>F F</th>\n",
       "      <th>F H</th>\n",
       "      <th>F N</th>\n",
       "      <th>F O</th>\n",
       "      <th>...</th>\n",
       "      <th>N F</th>\n",
       "      <th>N H</th>\n",
       "      <th>N N</th>\n",
       "      <th>N O</th>\n",
       "      <th>O C</th>\n",
       "      <th>O F</th>\n",
       "      <th>O H</th>\n",
       "      <th>O N</th>\n",
       "      <th>O O</th>\n",
       "      <th>molecule_name</th>\n",
       "    </tr>\n",
       "  </thead>\n",
       "  <tbody>\n",
       "    <tr>\n",
       "      <td>0</td>\n",
       "      <td>0.000000</td>\n",
       "      <td>0.0</td>\n",
       "      <td>0.673586</td>\n",
       "      <td>0.000000</td>\n",
       "      <td>0.251335</td>\n",
       "      <td>0.0</td>\n",
       "      <td>0.0</td>\n",
       "      <td>0.0</td>\n",
       "      <td>0.0</td>\n",
       "      <td>0.0</td>\n",
       "      <td>...</td>\n",
       "      <td>0.0</td>\n",
       "      <td>0.0</td>\n",
       "      <td>0.0</td>\n",
       "      <td>0.0</td>\n",
       "      <td>0.349252</td>\n",
       "      <td>0.0</td>\n",
       "      <td>0.0</td>\n",
       "      <td>0.0</td>\n",
       "      <td>0.0</td>\n",
       "      <td>dsgdb9nsd_046695</td>\n",
       "    </tr>\n",
       "    <tr>\n",
       "      <td>1</td>\n",
       "      <td>0.663556</td>\n",
       "      <td>0.0</td>\n",
       "      <td>0.408271</td>\n",
       "      <td>0.000000</td>\n",
       "      <td>0.000000</td>\n",
       "      <td>0.0</td>\n",
       "      <td>0.0</td>\n",
       "      <td>0.0</td>\n",
       "      <td>0.0</td>\n",
       "      <td>0.0</td>\n",
       "      <td>...</td>\n",
       "      <td>0.0</td>\n",
       "      <td>0.0</td>\n",
       "      <td>0.0</td>\n",
       "      <td>0.0</td>\n",
       "      <td>0.132304</td>\n",
       "      <td>0.0</td>\n",
       "      <td>0.0</td>\n",
       "      <td>0.0</td>\n",
       "      <td>0.0</td>\n",
       "      <td>dsgdb9nsd_073956</td>\n",
       "    </tr>\n",
       "    <tr>\n",
       "      <td>2</td>\n",
       "      <td>0.000000</td>\n",
       "      <td>0.0</td>\n",
       "      <td>0.473376</td>\n",
       "      <td>0.000000</td>\n",
       "      <td>0.441577</td>\n",
       "      <td>0.0</td>\n",
       "      <td>0.0</td>\n",
       "      <td>0.0</td>\n",
       "      <td>0.0</td>\n",
       "      <td>0.0</td>\n",
       "      <td>...</td>\n",
       "      <td>0.0</td>\n",
       "      <td>0.0</td>\n",
       "      <td>0.0</td>\n",
       "      <td>0.0</td>\n",
       "      <td>0.153402</td>\n",
       "      <td>0.0</td>\n",
       "      <td>0.0</td>\n",
       "      <td>0.0</td>\n",
       "      <td>0.0</td>\n",
       "      <td>dsgdb9nsd_075970</td>\n",
       "    </tr>\n",
       "    <tr>\n",
       "      <td>3</td>\n",
       "      <td>0.000000</td>\n",
       "      <td>0.0</td>\n",
       "      <td>0.493389</td>\n",
       "      <td>0.248323</td>\n",
       "      <td>0.000000</td>\n",
       "      <td>0.0</td>\n",
       "      <td>0.0</td>\n",
       "      <td>0.0</td>\n",
       "      <td>0.0</td>\n",
       "      <td>0.0</td>\n",
       "      <td>...</td>\n",
       "      <td>0.0</td>\n",
       "      <td>0.0</td>\n",
       "      <td>0.0</td>\n",
       "      <td>0.0</td>\n",
       "      <td>0.000000</td>\n",
       "      <td>0.0</td>\n",
       "      <td>0.0</td>\n",
       "      <td>0.0</td>\n",
       "      <td>0.0</td>\n",
       "      <td>dsgdb9nsd_014749</td>\n",
       "    </tr>\n",
       "    <tr>\n",
       "      <td>4</td>\n",
       "      <td>0.324194</td>\n",
       "      <td>0.0</td>\n",
       "      <td>0.598408</td>\n",
       "      <td>0.000000</td>\n",
       "      <td>0.000000</td>\n",
       "      <td>0.0</td>\n",
       "      <td>0.0</td>\n",
       "      <td>0.0</td>\n",
       "      <td>0.0</td>\n",
       "      <td>0.0</td>\n",
       "      <td>...</td>\n",
       "      <td>0.0</td>\n",
       "      <td>0.0</td>\n",
       "      <td>0.0</td>\n",
       "      <td>0.0</td>\n",
       "      <td>0.129280</td>\n",
       "      <td>0.0</td>\n",
       "      <td>0.0</td>\n",
       "      <td>0.0</td>\n",
       "      <td>0.0</td>\n",
       "      <td>dsgdb9nsd_037068</td>\n",
       "    </tr>\n",
       "  </tbody>\n",
       "</table>\n",
       "<p>5 rows × 26 columns</p>\n",
       "</div>"
      ],
      "text/plain": [
       "        C C  C F       C H       C N       C O  F C  F F  F H  F N  F O  ...  \\\n",
       "0  0.000000  0.0  0.673586  0.000000  0.251335  0.0  0.0  0.0  0.0  0.0  ...   \n",
       "1  0.663556  0.0  0.408271  0.000000  0.000000  0.0  0.0  0.0  0.0  0.0  ...   \n",
       "2  0.000000  0.0  0.473376  0.000000  0.441577  0.0  0.0  0.0  0.0  0.0  ...   \n",
       "3  0.000000  0.0  0.493389  0.248323  0.000000  0.0  0.0  0.0  0.0  0.0  ...   \n",
       "4  0.324194  0.0  0.598408  0.000000  0.000000  0.0  0.0  0.0  0.0  0.0  ...   \n",
       "\n",
       "   N F  N H  N N  N O       O C  O F  O H  O N  O O     molecule_name  \n",
       "0  0.0  0.0  0.0  0.0  0.349252  0.0  0.0  0.0  0.0  dsgdb9nsd_046695  \n",
       "1  0.0  0.0  0.0  0.0  0.132304  0.0  0.0  0.0  0.0  dsgdb9nsd_073956  \n",
       "2  0.0  0.0  0.0  0.0  0.153402  0.0  0.0  0.0  0.0  dsgdb9nsd_075970  \n",
       "3  0.0  0.0  0.0  0.0  0.000000  0.0  0.0  0.0  0.0  dsgdb9nsd_014749  \n",
       "4  0.0  0.0  0.0  0.0  0.129280  0.0  0.0  0.0  0.0  dsgdb9nsd_037068  \n",
       "\n",
       "[5 rows x 26 columns]"
      ]
     },
     "execution_count": 14,
     "metadata": {},
     "output_type": "execute_result"
    }
   ],
   "source": [
    "smiles_tfidf.head()"
   ]
  },
  {
   "cell_type": "code",
   "execution_count": 16,
   "metadata": {
    "collapsed": true
   },
   "outputs": [],
   "source": [
    "def atom_features(atom):\n",
    "    prop = {}\n",
    "    nb = [a.GetSymbol() for a in atom.GetNeighbors()] # neighbor atom type symbols\n",
    "    nb_h = sum([_ == 'H' for _ in nb]) # number of hydrogen as neighbor\n",
    "    nb_o = sum([_ == 'O' for _ in nb]) # number of oxygen as neighbor\n",
    "    nb_c = sum([_ == 'C' for _ in nb]) # number of carbon as neighbor\n",
    "    nb_n = sum([_ == 'N' for _ in nb]) # number of nitrogen as neighbor\n",
    "    nb_na = len(nb) - nb_h - nb_o - nb_n - nb_c\n",
    "    prop['degree'] = atom.GetDegree()\n",
    "    prop['hybridization'] = int(atom.GetHybridization())\n",
    "    prop['inring'] = int(atom.IsInRing()) # is the atom in a ring?\n",
    "    prop['inring3'] = int(atom.IsInRingSize(3)) # is the atom in a ring size of 3?\n",
    "    prop['inring4'] = int(atom.IsInRingSize(4)) # is the atom in a ring size of 4?\n",
    "    prop['inring5'] = int(atom.IsInRingSize(5)) # ...\n",
    "    prop['inring6'] = int(atom.IsInRingSize(6))\n",
    "    prop['inring7'] = int(atom.IsInRingSize(7))\n",
    "    prop['inring8'] = int(atom.IsInRingSize(8))\n",
    "    prop['nb_h'] = nb_h\n",
    "    prop['nb_o'] = nb_o\n",
    "    prop['nb_c'] = nb_c\n",
    "    prop['nb_n'] = nb_n\n",
    "    prop['nb_na'] = nb_na\n",
    "    return prop\n",
    "\n",
    "\n",
    "def rdkit_features(mols):\n",
    "    res = []\n",
    "    for name, mol in tqdm(list(mols.items())):\n",
    "        res += [{'molecule_name': name, 'atom_index': i, **atom_features(mol.GetAtomWithIdx(i))} for i in range(mol.GetNumAtoms())]\n",
    "    return pd.DataFrame(res)"
   ]
  },
  {
   "cell_type": "markdown",
   "metadata": {},
   "source": [
    "Let's build some **RDKit** chemical features, such as degree of every atom, it's hybridization, numbers of atoms of each types it is connected to and flags which tell if this atom is participating in rings of different sizes:"
   ]
  },
  {
   "cell_type": "code",
   "execution_count": 17,
   "metadata": {},
   "outputs": [
    {
     "name": "stderr",
     "output_type": "stream",
     "text": [
      "100%|██████████| 130775/130775 [00:34<00:00, 3779.82it/s]\n"
     ]
    }
   ],
   "source": [
    "rdkit_feats = rdkit_features(mols)"
   ]
  },
  {
   "cell_type": "code",
   "execution_count": 18,
   "metadata": {},
   "outputs": [
    {
     "data": {
      "text/html": [
       "<div>\n",
       "<style scoped>\n",
       "    .dataframe tbody tr th:only-of-type {\n",
       "        vertical-align: middle;\n",
       "    }\n",
       "\n",
       "    .dataframe tbody tr th {\n",
       "        vertical-align: top;\n",
       "    }\n",
       "\n",
       "    .dataframe thead th {\n",
       "        text-align: right;\n",
       "    }\n",
       "</style>\n",
       "<table border=\"1\" class=\"dataframe\">\n",
       "  <thead>\n",
       "    <tr style=\"text-align: right;\">\n",
       "      <th></th>\n",
       "      <th>molecule_name</th>\n",
       "      <th>atom_index</th>\n",
       "      <th>degree</th>\n",
       "      <th>hybridization</th>\n",
       "      <th>inring</th>\n",
       "      <th>inring3</th>\n",
       "      <th>inring4</th>\n",
       "      <th>inring5</th>\n",
       "      <th>inring6</th>\n",
       "      <th>inring7</th>\n",
       "      <th>inring8</th>\n",
       "      <th>nb_h</th>\n",
       "      <th>nb_o</th>\n",
       "      <th>nb_c</th>\n",
       "      <th>nb_n</th>\n",
       "      <th>nb_na</th>\n",
       "    </tr>\n",
       "  </thead>\n",
       "  <tbody>\n",
       "    <tr>\n",
       "      <td>0</td>\n",
       "      <td>dsgdb9nsd_046695</td>\n",
       "      <td>0</td>\n",
       "      <td>1</td>\n",
       "      <td>3</td>\n",
       "      <td>0</td>\n",
       "      <td>0</td>\n",
       "      <td>0</td>\n",
       "      <td>0</td>\n",
       "      <td>0</td>\n",
       "      <td>0</td>\n",
       "      <td>0</td>\n",
       "      <td>0</td>\n",
       "      <td>0</td>\n",
       "      <td>1</td>\n",
       "      <td>0</td>\n",
       "      <td>0</td>\n",
       "    </tr>\n",
       "    <tr>\n",
       "      <td>1</td>\n",
       "      <td>dsgdb9nsd_046695</td>\n",
       "      <td>1</td>\n",
       "      <td>3</td>\n",
       "      <td>3</td>\n",
       "      <td>1</td>\n",
       "      <td>0</td>\n",
       "      <td>0</td>\n",
       "      <td>0</td>\n",
       "      <td>1</td>\n",
       "      <td>0</td>\n",
       "      <td>0</td>\n",
       "      <td>0</td>\n",
       "      <td>1</td>\n",
       "      <td>2</td>\n",
       "      <td>0</td>\n",
       "      <td>0</td>\n",
       "    </tr>\n",
       "    <tr>\n",
       "      <td>2</td>\n",
       "      <td>dsgdb9nsd_046695</td>\n",
       "      <td>2</td>\n",
       "      <td>4</td>\n",
       "      <td>4</td>\n",
       "      <td>1</td>\n",
       "      <td>0</td>\n",
       "      <td>0</td>\n",
       "      <td>0</td>\n",
       "      <td>1</td>\n",
       "      <td>0</td>\n",
       "      <td>0</td>\n",
       "      <td>2</td>\n",
       "      <td>0</td>\n",
       "      <td>1</td>\n",
       "      <td>1</td>\n",
       "      <td>0</td>\n",
       "    </tr>\n",
       "    <tr>\n",
       "      <td>3</td>\n",
       "      <td>dsgdb9nsd_046695</td>\n",
       "      <td>3</td>\n",
       "      <td>3</td>\n",
       "      <td>4</td>\n",
       "      <td>1</td>\n",
       "      <td>0</td>\n",
       "      <td>0</td>\n",
       "      <td>0</td>\n",
       "      <td>1</td>\n",
       "      <td>0</td>\n",
       "      <td>0</td>\n",
       "      <td>1</td>\n",
       "      <td>0</td>\n",
       "      <td>2</td>\n",
       "      <td>0</td>\n",
       "      <td>0</td>\n",
       "    </tr>\n",
       "    <tr>\n",
       "      <td>4</td>\n",
       "      <td>dsgdb9nsd_046695</td>\n",
       "      <td>4</td>\n",
       "      <td>4</td>\n",
       "      <td>4</td>\n",
       "      <td>1</td>\n",
       "      <td>1</td>\n",
       "      <td>0</td>\n",
       "      <td>0</td>\n",
       "      <td>1</td>\n",
       "      <td>0</td>\n",
       "      <td>0</td>\n",
       "      <td>1</td>\n",
       "      <td>0</td>\n",
       "      <td>2</td>\n",
       "      <td>1</td>\n",
       "      <td>0</td>\n",
       "    </tr>\n",
       "  </tbody>\n",
       "</table>\n",
       "</div>"
      ],
      "text/plain": [
       "      molecule_name  atom_index  degree  hybridization  inring  inring3  \\\n",
       "0  dsgdb9nsd_046695           0       1              3       0        0   \n",
       "1  dsgdb9nsd_046695           1       3              3       1        0   \n",
       "2  dsgdb9nsd_046695           2       4              4       1        0   \n",
       "3  dsgdb9nsd_046695           3       3              4       1        0   \n",
       "4  dsgdb9nsd_046695           4       4              4       1        1   \n",
       "\n",
       "   inring4  inring5  inring6  inring7  inring8  nb_h  nb_o  nb_c  nb_n  nb_na  \n",
       "0        0        0        0        0        0     0     0     1     0      0  \n",
       "1        0        0        1        0        0     0     1     2     0      0  \n",
       "2        0        0        1        0        0     2     0     1     1      0  \n",
       "3        0        0        1        0        0     1     0     2     0      0  \n",
       "4        0        0        1        0        0     1     0     2     1      0  "
      ]
     },
     "execution_count": 18,
     "metadata": {},
     "output_type": "execute_result"
    }
   ],
   "source": [
    "rdkit_feats.head()"
   ]
  },
  {
   "cell_type": "markdown",
   "metadata": {},
   "source": [
    "## Features built from the original competition data:"
   ]
  },
  {
   "cell_type": "markdown",
   "metadata": {},
   "source": [
    "Now let's proceed to use our original competition data to build some more features with it:"
   ]
  },
  {
   "cell_type": "code",
   "execution_count": 96,
   "metadata": {
    "collapsed": true
   },
   "outputs": [],
   "source": [
    "MASS_MAPPING = {'C': 12, 'N': 14, 'H': 1}\n",
    "\n",
    "\n",
    "def vector_length_from_cols(df, cols):\n",
    "    return sum([df[col]**2 for col in cols]) ** 0.5\n",
    "\n",
    "\n",
    "def add_distances(molecules_df, structs_df):\n",
    "    molecules_df = molecules_df\\\n",
    "        .merge(structs_df.rename({'atom_index': 'atom_index_0', 'x': 'x_0', 'y': 'y_0', 'z': 'z_0', 'atom': 'atom_0'}, axis=1)[['molecule_name', 'atom_index_0', 'x_0', 'y_0', 'z_0', 'atom_0']], on=['molecule_name', 'atom_index_0'])\\\n",
    "        .merge(structs_df.rename({'atom_index': 'atom_index_1', 'x': 'x_1', 'y': 'y_1', 'z': 'z_1', 'atom': 'atom_1'}, axis=1)[['molecule_name', 'atom_index_1', 'x_1', 'y_1', 'z_1', 'atom_1']], on=['molecule_name', 'atom_index_1'])\n",
    "    molecules_df['distance'] = (sum([(molecules_df['{}_0'.format(col)] - molecules_df['{}_1'.format(col)]) ** 2 for col in ['x', 'y', 'z']])) ** 0.5\n",
    "    \n",
    "    molecules_df = molecules_df.merge(molecules_df.groupby(['molecule_name', 'atom_index_0'])['distance'].mean().rename('mean_distance_0').reset_index(), on=['molecule_name', 'atom_index_0'])\n",
    "    molecules_df = molecules_df.merge(molecules_df.groupby(['molecule_name', 'atom_index_1'])['distance'].mean().rename('mean_distance_1').reset_index(), on=['molecule_name', 'atom_index_1'])\n",
    "    \n",
    "    return molecules_df\n",
    "\n",
    "\n",
    "def add_sizes(molecules_df, structs_df):\n",
    "    sizes = (structs_df.groupby('molecule_name')['atom_index'].max() + 1).reset_index().rename({'atom_index': 'size'}, axis=1)\n",
    "    return molecules_df.merge(sizes, on='molecule_name')\n",
    "\n",
    "\n",
    "def add_connections(molecules_df):\n",
    "    left = molecules_df.groupby(['molecule_name', 'atom_index_0']).size().rename('connection_0').reset_index().rename({'atom_index_0': 'atom_index'}, axis=1)\n",
    "    right = molecules_df.groupby(['molecule_name', 'atom_index_1']).size().rename('connection_1').reset_index().rename({'atom_index_1': 'atom_index'}, axis=1)\n",
    "    connections = left.merge(right, on=['molecule_name', 'atom_index'], how='outer').fillna(0)\n",
    "    connections['connections'] = connections['connection_0'] + connections['connection_1']\n",
    "    connections.drop(['connection_0', 'connection_1'], axis=1, inplace=True)\n",
    "    \n",
    "    molecules_df = molecules_df.merge(connections.rename({'atom_index': 'atom_index_0', 'connections': 'connections_0'}, axis=1), on=['molecule_name', 'atom_index_0'])\n",
    "    molecules_df = molecules_df.merge(connections.rename({'atom_index': 'atom_index_1', 'connections': 'connections_1'}, axis=1), on=['molecule_name', 'atom_index_1'])\n",
    "    return molecules_df\n",
    "\n",
    "\n",
    "def add_weights(molecules_df, structs_df):\n",
    "    structs_df['mass'] = structs_df['atom'].map(MASS_MAPPING)\n",
    "    weights = structs_df.groupby('molecule_name')['mass'].sum().rename('mass').reset_index()\n",
    "    return molecules_df.merge(weights, on=['molecule_name'])\n",
    "\n",
    "\n",
    "def add_squares(df, columns):\n",
    "    for col in df[columns]:\n",
    "        df[col + '^2'] = df[col] ** 2\n",
    "    return df\n",
    "\n",
    "\n",
    "def add_gravity(df):\n",
    "    df['atom_0_mass'] = df['atom_0'].map(MASS_MAPPING)\n",
    "    df['atom_1_mass'] = df['atom_1'].map(MASS_MAPPING)\n",
    "    df['gravity'] = df['atom_0_mass'] * df['atom_1_mass'] / (df['distance'] ** 2)\n",
    "    return df\n",
    "\n",
    "\n",
    "def encode_atoms(df):\n",
    "    atoms_mapping = {\n",
    "        'H': 0,\n",
    "        'C': 1,\n",
    "        'N': 2\n",
    "    }\n",
    "    df['atom_0'] = df['atom_0'].map(atoms_mapping)\n",
    "    df['atom_1'] = df['atom_1'].map(atoms_mapping)\n",
    "    return df\n",
    "\n",
    "\n",
    "def encode_types(df):\n",
    "    types_map = {\n",
    "        '1JHC': 0,\n",
    "        '1JHN': 1,\n",
    "        '2JHH': 2,\n",
    "        '2JHN': 3,\n",
    "        '2JHC': 4,\n",
    "        '3JHH': 5,\n",
    "        '3JHC': 6,\n",
    "        '3JHN': 7\n",
    "    }\n",
    "    df['type'] = df['type'].map(types_map)\n",
    "    return df\n",
    "\n",
    "def add_features(df, structs_df):\n",
    "    df = add_distances(df, structs_df)\n",
    "    df = add_sizes(df, structs_df)\n",
    "    df = add_connections(df)\n",
    "    df = add_weights(df, structs_df)\n",
    "    df = add_gravity(df)\n",
    "    df = encode_types(df)\n",
    "    df = encode_atoms(df)\n",
    "    df = add_squares(df, columns=['x_0', 'y_0', 'z_0', 'x_1', 'y_1', 'z_1'])\n",
    "    return df"
   ]
  },
  {
   "cell_type": "code",
   "execution_count": 28,
   "metadata": {},
   "outputs": [
    {
     "data": {
      "text/plain": [
       "(465123, 6)"
      ]
     },
     "execution_count": 28,
     "metadata": {},
     "output_type": "execute_result"
    }
   ],
   "source": [
    "sample_mols = train.drop_duplicates(subset=['molecule_name'])['molecule_name'].sample(frac=0.1)\n",
    "train_sampled = train[train['molecule_name'].isin(sample_mols.values)]\n",
    "train_sampled.shape"
   ]
  },
  {
   "cell_type": "code",
   "execution_count": 136,
   "metadata": {},
   "outputs": [],
   "source": [
    "train_df = add_features(train, structs)\n",
    "test_df = add_features(test, structs)"
   ]
  },
  {
   "cell_type": "markdown",
   "metadata": {},
   "source": [
    "Now let's combine everything that we have created:"
   ]
  },
  {
   "cell_type": "code",
   "execution_count": 137,
   "metadata": {
    "collapsed": true
   },
   "outputs": [],
   "source": [
    "train_df = train_df.merge(rdkit_feats.rename({'atom_index': 'atom_index_0'}, axis=1), on=['molecule_name', 'atom_index_0'])\n",
    "train_df = train_df.merge(rdkit_feats.rename({'atom_index': 'atom_index_1'}, axis=1), on=['molecule_name', 'atom_index_1'])\n",
    "\n",
    "test_df = test_df.merge(rdkit_feats.rename({'atom_index': 'atom_index_0'}, axis=1), on=['molecule_name', 'atom_index_0'])\n",
    "test_df = test_df.merge(rdkit_feats.rename({'atom_index': 'atom_index_1'}, axis=1), on=['molecule_name', 'atom_index_1'])"
   ]
  },
  {
   "cell_type": "code",
   "execution_count": 138,
   "metadata": {
    "collapsed": true
   },
   "outputs": [],
   "source": [
    "train_df = train_df.merge(parsed_nmrs, on=['molecule_name', 'atom_index_0'], how='left')\n",
    "test_df = test_df.merge(parsed_nmrs, on=['molecule_name', 'atom_index_0'], how='left')"
   ]
  },
  {
   "cell_type": "code",
   "execution_count": 139,
   "metadata": {
    "collapsed": true
   },
   "outputs": [],
   "source": [
    "train_df = train_df.merge(smiles_tfidf, on=['molecule_name'])\n",
    "test_df = test_df.merge(smiles_tfidf, on=['molecule_name'])"
   ]
  },
  {
   "cell_type": "code",
   "execution_count": 140,
   "metadata": {},
   "outputs": [
    {
     "data": {
      "text/html": [
       "<div>\n",
       "<style scoped>\n",
       "    .dataframe tbody tr th:only-of-type {\n",
       "        vertical-align: middle;\n",
       "    }\n",
       "\n",
       "    .dataframe tbody tr th {\n",
       "        vertical-align: top;\n",
       "    }\n",
       "\n",
       "    .dataframe thead th {\n",
       "        text-align: right;\n",
       "    }\n",
       "</style>\n",
       "<table border=\"1\" class=\"dataframe\">\n",
       "  <thead>\n",
       "    <tr style=\"text-align: right;\">\n",
       "      <th></th>\n",
       "      <th>id</th>\n",
       "      <th>molecule_name</th>\n",
       "      <th>atom_index_0</th>\n",
       "      <th>atom_index_1</th>\n",
       "      <th>type</th>\n",
       "      <th>scalar_coupling_constant</th>\n",
       "      <th>x_0</th>\n",
       "      <th>y_0</th>\n",
       "      <th>z_0</th>\n",
       "      <th>atom_0</th>\n",
       "      <th>...</th>\n",
       "      <th>N C</th>\n",
       "      <th>N F</th>\n",
       "      <th>N H</th>\n",
       "      <th>N N</th>\n",
       "      <th>N O</th>\n",
       "      <th>O C</th>\n",
       "      <th>O F</th>\n",
       "      <th>O H</th>\n",
       "      <th>O N</th>\n",
       "      <th>O O</th>\n",
       "    </tr>\n",
       "  </thead>\n",
       "  <tbody>\n",
       "    <tr>\n",
       "      <td>0</td>\n",
       "      <td>0</td>\n",
       "      <td>dsgdb9nsd_000001</td>\n",
       "      <td>1</td>\n",
       "      <td>0</td>\n",
       "      <td>0</td>\n",
       "      <td>84.8076</td>\n",
       "      <td>0.002150</td>\n",
       "      <td>-0.006031</td>\n",
       "      <td>0.001976</td>\n",
       "      <td>0</td>\n",
       "      <td>...</td>\n",
       "      <td>0.0</td>\n",
       "      <td>0.0</td>\n",
       "      <td>0.0</td>\n",
       "      <td>0.0</td>\n",
       "      <td>0.0</td>\n",
       "      <td>0.0</td>\n",
       "      <td>0.0</td>\n",
       "      <td>0.0</td>\n",
       "      <td>0.0</td>\n",
       "      <td>0.0</td>\n",
       "    </tr>\n",
       "    <tr>\n",
       "      <td>1</td>\n",
       "      <td>4</td>\n",
       "      <td>dsgdb9nsd_000001</td>\n",
       "      <td>2</td>\n",
       "      <td>0</td>\n",
       "      <td>0</td>\n",
       "      <td>84.8074</td>\n",
       "      <td>1.011731</td>\n",
       "      <td>1.463751</td>\n",
       "      <td>0.000277</td>\n",
       "      <td>0</td>\n",
       "      <td>...</td>\n",
       "      <td>0.0</td>\n",
       "      <td>0.0</td>\n",
       "      <td>0.0</td>\n",
       "      <td>0.0</td>\n",
       "      <td>0.0</td>\n",
       "      <td>0.0</td>\n",
       "      <td>0.0</td>\n",
       "      <td>0.0</td>\n",
       "      <td>0.0</td>\n",
       "      <td>0.0</td>\n",
       "    </tr>\n",
       "    <tr>\n",
       "      <td>2</td>\n",
       "      <td>7</td>\n",
       "      <td>dsgdb9nsd_000001</td>\n",
       "      <td>3</td>\n",
       "      <td>0</td>\n",
       "      <td>0</td>\n",
       "      <td>84.8093</td>\n",
       "      <td>-0.540815</td>\n",
       "      <td>1.447527</td>\n",
       "      <td>-0.876644</td>\n",
       "      <td>0</td>\n",
       "      <td>...</td>\n",
       "      <td>0.0</td>\n",
       "      <td>0.0</td>\n",
       "      <td>0.0</td>\n",
       "      <td>0.0</td>\n",
       "      <td>0.0</td>\n",
       "      <td>0.0</td>\n",
       "      <td>0.0</td>\n",
       "      <td>0.0</td>\n",
       "      <td>0.0</td>\n",
       "      <td>0.0</td>\n",
       "    </tr>\n",
       "    <tr>\n",
       "      <td>3</td>\n",
       "      <td>9</td>\n",
       "      <td>dsgdb9nsd_000001</td>\n",
       "      <td>4</td>\n",
       "      <td>0</td>\n",
       "      <td>0</td>\n",
       "      <td>84.8095</td>\n",
       "      <td>-0.523814</td>\n",
       "      <td>1.437933</td>\n",
       "      <td>0.906397</td>\n",
       "      <td>0</td>\n",
       "      <td>...</td>\n",
       "      <td>0.0</td>\n",
       "      <td>0.0</td>\n",
       "      <td>0.0</td>\n",
       "      <td>0.0</td>\n",
       "      <td>0.0</td>\n",
       "      <td>0.0</td>\n",
       "      <td>0.0</td>\n",
       "      <td>0.0</td>\n",
       "      <td>0.0</td>\n",
       "      <td>0.0</td>\n",
       "    </tr>\n",
       "    <tr>\n",
       "      <td>4</td>\n",
       "      <td>1</td>\n",
       "      <td>dsgdb9nsd_000001</td>\n",
       "      <td>1</td>\n",
       "      <td>2</td>\n",
       "      <td>2</td>\n",
       "      <td>-11.2570</td>\n",
       "      <td>0.002150</td>\n",
       "      <td>-0.006031</td>\n",
       "      <td>0.001976</td>\n",
       "      <td>0</td>\n",
       "      <td>...</td>\n",
       "      <td>0.0</td>\n",
       "      <td>0.0</td>\n",
       "      <td>0.0</td>\n",
       "      <td>0.0</td>\n",
       "      <td>0.0</td>\n",
       "      <td>0.0</td>\n",
       "      <td>0.0</td>\n",
       "      <td>0.0</td>\n",
       "      <td>0.0</td>\n",
       "      <td>0.0</td>\n",
       "    </tr>\n",
       "  </tbody>\n",
       "</table>\n",
       "<p>5 rows × 84 columns</p>\n",
       "</div>"
      ],
      "text/plain": [
       "   id     molecule_name atom_index_0  atom_index_1  type  \\\n",
       "0   0  dsgdb9nsd_000001            1             0     0   \n",
       "1   4  dsgdb9nsd_000001            2             0     0   \n",
       "2   7  dsgdb9nsd_000001            3             0     0   \n",
       "3   9  dsgdb9nsd_000001            4             0     0   \n",
       "4   1  dsgdb9nsd_000001            1             2     2   \n",
       "\n",
       "   scalar_coupling_constant       x_0       y_0       z_0  atom_0  ...  N C  \\\n",
       "0                   84.8076  0.002150 -0.006031  0.001976       0  ...  0.0   \n",
       "1                   84.8074  1.011731  1.463751  0.000277       0  ...  0.0   \n",
       "2                   84.8093 -0.540815  1.447527 -0.876644       0  ...  0.0   \n",
       "3                   84.8095 -0.523814  1.437933  0.906397       0  ...  0.0   \n",
       "4                  -11.2570  0.002150 -0.006031  0.001976       0  ...  0.0   \n",
       "\n",
       "   N F  N H  N N  N O  O C  O F  O H  O N  O O  \n",
       "0  0.0  0.0  0.0  0.0  0.0  0.0  0.0  0.0  0.0  \n",
       "1  0.0  0.0  0.0  0.0  0.0  0.0  0.0  0.0  0.0  \n",
       "2  0.0  0.0  0.0  0.0  0.0  0.0  0.0  0.0  0.0  \n",
       "3  0.0  0.0  0.0  0.0  0.0  0.0  0.0  0.0  0.0  \n",
       "4  0.0  0.0  0.0  0.0  0.0  0.0  0.0  0.0  0.0  \n",
       "\n",
       "[5 rows x 84 columns]"
      ]
     },
     "execution_count": 140,
     "metadata": {},
     "output_type": "execute_result"
    }
   ],
   "source": [
    "train_df.head()"
   ]
  },
  {
   "cell_type": "markdown",
   "metadata": {},
   "source": [
    "# Feature analysis"
   ]
  },
  {
   "cell_type": "code",
   "execution_count": 75,
   "metadata": {},
   "outputs": [],
   "source": [
    "EXCLUDE_COLS = ['id', 'molecule_name', 'atom_index_0', 'atom_index_1', 'type', 'atom_0', 'atom_1']\n",
    "\n",
    "def hist_target_for_type(df, type_name):\n",
    "    print('Distribution of the target variable:'.format(type_name))\n",
    "    df[df['type'] == type_name]['scalar_coupling_constant'].hist(bins=20)\n",
    "    plt.show()\n",
    "    print()\n",
    "\n",
    "    \n",
    "def correlations_for_type(df, type_name, threshold):\n",
    "    print('The highest feature correlations:')\n",
    "    df_filtered = df[df['type'] == type_name].drop(EXCLUDE_COLS, axis=1).fillna(0)\n",
    "    valuable = []\n",
    "    for col in df_filtered.columns:\n",
    "        try:\n",
    "            p = pearsonr(df_filtered[col], df_filtered['scalar_coupling_constant'])[0]\n",
    "            s = spearmanr(df_filtered[col], df_filtered['scalar_coupling_constant'])[0]\n",
    "        \n",
    "            if abs(p) > threshold and abs(s) > threshold and col != 'scalar_coupling_constant':\n",
    "                valuable.append(col)\n",
    "                print('Correlation for feature {} and target: Pearson {}, Spearman {}'.format(col, p, s))\n",
    "        except:\n",
    "            print('Failed to build correlation for {}'.format(col))\n",
    "    print()\n",
    "    return valuable\n",
    "                                                                                      \n",
    "                                                                                          \n",
    "def scatter_features(df, type_name, subset):\n",
    "    df_filtered = df[df['type'] == type_name]\n",
    "    for col in subset:\n",
    "        print('Scatter plot of {} and target'.format(col))\n",
    "        plt.scatter(df_filtered[col], df_filtered['scalar_coupling_constant'])\n",
    "        plt.show()\n",
    "\n",
    "        \n",
    "def type_report(df, type_name, corr_threshold=0.3):\n",
    "    hist_target_for_type(df, type_name)\n",
    "    valuable = correlations_for_type(df, type_name, corr_threshold)\n",
    "    scatter_features(df, type_name, valuable)"
   ]
  },
  {
   "cell_type": "markdown",
   "metadata": {},
   "source": [
    "We have created a lot of different features, so now the time has come to make some analysis of those features and try to find out if some of them are more or less useful.\n",
    "\n",
    "**IMPORTANT**: We will anayze each type of connection differently, since the target variable behaves very differently in each type.\n",
    "\n",
    "All types are: 1JHC, 1JHN, 2JHH, 2JHN, 2JHC, 3JHH, 3JHC, 3JHN"
   ]
  },
  {
   "cell_type": "markdown",
   "metadata": {},
   "source": [
    "### 1JHC"
   ]
  },
  {
   "cell_type": "code",
   "execution_count": 141,
   "metadata": {
    "scrolled": false
   },
   "outputs": [
    {
     "name": "stdout",
     "output_type": "stream",
     "text": [
      "Distribution of the target variable:\n"
     ]
    },
    {
     "data": {
      "image/png": "[encoded data removed]",
      "text/plain": [
       "<Figure size 432x288 with 1 Axes>"
      ]
     },
     "metadata": {
      "needs_background": "light"
     },
     "output_type": "display_data"
    },
    {
     "name": "stdout",
     "output_type": "stream",
     "text": [
      "\n",
      "The highest feature correlations:\n",
      "Correlation for feature distance and target: Pearson -0.7051214851558885, Spearman -0.49533777368585336\n",
      "Correlation for feature size and target: Pearson -0.34281091966691324, Spearman -0.39868118970991123\n",
      "Correlation for feature connections_1 and target: Pearson -0.39428655255888867, Spearman -0.3465737454411275\n",
      "Correlation for feature gravity and target: Pearson 0.7166028399866796, Spearman 0.49533777368585336\n",
      "Correlation for feature degree_y and target: Pearson -0.7823621501092408, Spearman -0.47328107124517055\n",
      "Correlation for feature hybridization_y and target: Pearson -0.7825365499811407, Spearman -0.4734311508963898\n",
      "Correlation for feature inring3_y and target: Pearson 0.3821923668221572, Spearman 0.49851800416086006\n",
      "Correlation for feature nb_h_y and target: Pearson -0.5381649081119362, Spearman -0.5397521608920094\n",
      "Correlation for feature delta and target: Pearson 0.4210097371453389, Spearman 0.4031918414166511\n",
      "\n",
      "Scatter plot of distance and target\n"
     ]
    },
    {
     "data": {
      "image/png": "[encoded data removed]",
      "text/plain": [
       "<Figure size 432x288 with 1 Axes>"
      ]
     },
     "metadata": {
      "needs_background": "light"
     },
     "output_type": "display_data"
    },
    {
     "name": "stdout",
     "output_type": "stream",
     "text": [
      "Scatter plot of size and target\n"
     ]
    },
    {
     "data": {
      "image/png": "[encoded data removed]",
      "text/plain": [
       "<Figure size 432x288 with 1 Axes>"
      ]
     },
     "metadata": {
      "needs_background": "light"
     },
     "output_type": "display_data"
    },
    {
     "name": "stdout",
     "output_type": "stream",
     "text": [
      "Scatter plot of connections_1 and target\n"
     ]
    },
    {
     "data": {
      "image/png": "[encoded data removed]",
      "text/plain": [
       "<Figure size 432x288 with 1 Axes>"
      ]
     },
     "metadata": {
      "needs_background": "light"
     },
     "output_type": "display_data"
    },
    {
     "name": "stdout",
     "output_type": "stream",
     "text": [
      "Scatter plot of gravity and target\n"
     ]
    },
    {
     "data": {
      "image/png": "[encoded data removed]",
      "text/plain": [
       "<Figure size 432x288 with 1 Axes>"
      ]
     },
     "metadata": {
      "needs_background": "light"
     },
     "output_type": "display_data"
    },
    {
     "name": "stdout",
     "output_type": "stream",
     "text": [
      "Scatter plot of degree_y and target\n"
     ]
    },
    {
     "data": {
      "image/png": "[encoded data removed]",
      "text/plain": [
       "<Figure size 432x288 with 1 Axes>"
      ]
     },
     "metadata": {
      "needs_background": "light"
     },
     "output_type": "display_data"
    },
    {
     "name": "stdout",
     "output_type": "stream",
     "text": [
      "Scatter plot of hybridization_y and target\n"
     ]
    },
    {
     "data": {
      "image/png": "[encoded data removed]",
      "text/plain": [
       "<Figure size 432x288 with 1 Axes>"
      ]
     },
     "metadata": {
      "needs_background": "light"
     },
     "output_type": "display_data"
    },
    {
     "name": "stdout",
     "output_type": "stream",
     "text": [
      "Scatter plot of inring3_y and target\n"
     ]
    },
    {
     "data": {
      "image/png": "[encoded data removed]",
      "text/plain": [
       "<Figure size 432x288 with 1 Axes>"
      ]
     },
     "metadata": {
      "needs_background": "light"
     },
     "output_type": "display_data"
    },
    {
     "name": "stdout",
     "output_type": "stream",
     "text": [
      "Scatter plot of nb_h_y and target\n"
     ]
    },
    {
     "data": {
      "image/png": "[encoded data removed]",
      "text/plain": [
       "<Figure size 432x288 with 1 Axes>"
      ]
     },
     "metadata": {
      "needs_background": "light"
     },
     "output_type": "display_data"
    },
    {
     "name": "stdout",
     "output_type": "stream",
     "text": [
      "Scatter plot of delta and target\n"
     ]
    },
    {
     "data": {
      "image/png": "[encoded data removed]",
      "text/plain": [
       "<Figure size 432x288 with 1 Axes>"
      ]
     },
     "metadata": {
      "needs_background": "light"
     },
     "output_type": "display_data"
    }
   ],
   "source": [
    "type_report(train_df, 0)"
   ]
  },
  {
   "cell_type": "markdown",
   "metadata": {},
   "source": [
    "### 1JHN"
   ]
  },
  {
   "cell_type": "code",
   "execution_count": 142,
   "metadata": {
    "scrolled": false
   },
   "outputs": [
    {
     "name": "stdout",
     "output_type": "stream",
     "text": [
      "Distribution of the target variable:\n"
     ]
    },
    {
     "data": {
      "image/png": "[encoded data removed]",
      "text/plain": [
       "<Figure size 432x288 with 1 Axes>"
      ]
     },
     "metadata": {
      "needs_background": "light"
     },
     "output_type": "display_data"
    },
    {
     "name": "stdout",
     "output_type": "stream",
     "text": [
      "\n",
      "The highest feature correlations:\n",
      "Correlation for feature distance and target: Pearson -0.8588319154454735, Spearman -0.9020673559571857\n",
      "Correlation for feature gravity and target: Pearson 0.8670090656407792, Spearman 0.9020673559571857\n",
      "Correlation for feature degree_y and target: Pearson 0.44644612423671387, Spearman 0.45370951486167255\n",
      "Correlation for feature hybridization_y and target: Pearson -0.5966284605134029, Spearman -0.5697302802889657\n",
      "Correlation for feature inring3_y and target: Pearson -0.47436992852856597, Spearman -0.4810889723542561\n",
      "Correlation for feature inring5_y and target: Pearson 0.46219370260297554, Spearman 0.4672706434168812\n",
      "Correlation for feature nb_n_y and target: Pearson 0.41263943305656337, Spearman 0.3862830397818407\n",
      "Correlation for feature C H and target: Pearson -0.38259371803541664, Spearman -0.3972511971726805\n",
      "\n",
      "Scatter plot of distance and target\n"
     ]
    },
    {
     "data": {
      "image/png": "[encoded data removed]",
      "text/plain": [
       "<Figure size 432x288 with 1 Axes>"
      ]
     },
     "metadata": {
      "needs_background": "light"
     },
     "output_type": "display_data"
    },
    {
     "name": "stdout",
     "output_type": "stream",
     "text": [
      "Scatter plot of gravity and target\n"
     ]
    },
    {
     "data": {
      "image/png": "[encoded data removed]",
      "text/plain": [
       "<Figure size 432x288 with 1 Axes>"
      ]
     },
     "metadata": {
      "needs_background": "light"
     },
     "output_type": "display_data"
    },
    {
     "name": "stdout",
     "output_type": "stream",
     "text": [
      "Scatter plot of degree_y and target\n"
     ]
    },
    {
     "data": {
      "image/png": "[encoded data removed]",
      "text/plain": [
       "<Figure size 432x288 with 1 Axes>"
      ]
     },
     "metadata": {
      "needs_background": "light"
     },
     "output_type": "display_data"
    },
    {
     "name": "stdout",
     "output_type": "stream",
     "text": [
      "Scatter plot of hybridization_y and target\n"
     ]
    },
    {
     "data": {
      "image/png": "[encoded data removed]",
      "text/plain": [
       "<Figure size 432x288 with 1 Axes>"
      ]
     },
     "metadata": {
      "needs_background": "light"
     },
     "output_type": "display_data"
    },
    {
     "name": "stdout",
     "output_type": "stream",
     "text": [
      "Scatter plot of inring3_y and target\n"
     ]
    },
    {
     "data": {
      "image/png": "[encoded data removed]",
      "text/plain": [
       "<Figure size 432x288 with 1 Axes>"
      ]
     },
     "metadata": {
      "needs_background": "light"
     },
     "output_type": "display_data"
    },
    {
     "name": "stdout",
     "output_type": "stream",
     "text": [
      "Scatter plot of inring5_y and target\n"
     ]
    },
    {
     "data": {
      "image/png": "[encoded data removed]",
      "text/plain": [
       "<Figure size 432x288 with 1 Axes>"
      ]
     },
     "metadata": {
      "needs_background": "light"
     },
     "output_type": "display_data"
    },
    {
     "name": "stdout",
     "output_type": "stream",
     "text": [
      "Scatter plot of nb_n_y and target\n"
     ]
    },
    {
     "data": {
      "image/png": "[encoded data removed]",
      "text/plain": [
       "<Figure size 432x288 with 1 Axes>"
      ]
     },
     "metadata": {
      "needs_background": "light"
     },
     "output_type": "display_data"
    },
    {
     "name": "stdout",
     "output_type": "stream",
     "text": [
      "Scatter plot of C H and target\n"
     ]
    },
    {
     "data": {
      "image/png": "[encoded data removed]",
      "text/plain": [
       "<Figure size 432x288 with 1 Axes>"
      ]
     },
     "metadata": {
      "needs_background": "light"
     },
     "output_type": "display_data"
    }
   ],
   "source": [
    "type_report(train_df, 1)"
   ]
  },
  {
   "cell_type": "markdown",
   "metadata": {},
   "source": [
    "### 2JHH"
   ]
  },
  {
   "cell_type": "code",
   "execution_count": 143,
   "metadata": {
    "scrolled": false
   },
   "outputs": [
    {
     "name": "stdout",
     "output_type": "stream",
     "text": [
      "Distribution of the target variable:\n"
     ]
    },
    {
     "data": {
      "image/png": "[encoded data removed]",
      "text/plain": [
       "<Figure size 432x288 with 1 Axes>"
      ]
     },
     "metadata": {
      "needs_background": "light"
     },
     "output_type": "display_data"
    },
    {
     "name": "stdout",
     "output_type": "stream",
     "text": [
      "\n",
      "The highest feature correlations:\n",
      "Correlation for feature distance and target: Pearson 0.5322463104101718, Spearman 0.6888563800350999\n",
      "Correlation for feature gravity and target: Pearson -0.4924674722848764, Spearman -0.6888563800350999\n",
      "\n",
      "Scatter plot of distance and target\n"
     ]
    },
    {
     "data": {
      "image/png": "[encoded data removed]",
      "text/plain": [
       "<Figure size 432x288 with 1 Axes>"
      ]
     },
     "metadata": {
      "needs_background": "light"
     },
     "output_type": "display_data"
    },
    {
     "name": "stdout",
     "output_type": "stream",
     "text": [
      "Scatter plot of gravity and target\n"
     ]
    },
    {
     "data": {
      "image/png": "[encoded data removed]",
      "text/plain": [
       "<Figure size 432x288 with 1 Axes>"
      ]
     },
     "metadata": {
      "needs_background": "light"
     },
     "output_type": "display_data"
    }
   ],
   "source": [
    "type_report(train_df, 2)"
   ]
  },
  {
   "cell_type": "markdown",
   "metadata": {},
   "source": [
    "### 2JHN"
   ]
  },
  {
   "cell_type": "code",
   "execution_count": 144,
   "metadata": {
    "scrolled": false
   },
   "outputs": [
    {
     "name": "stdout",
     "output_type": "stream",
     "text": [
      "Distribution of the target variable:\n"
     ]
    },
    {
     "data": {
      "image/png": "[encoded data removed]",
      "text/plain": [
       "<Figure size 432x288 with 1 Axes>"
      ]
     },
     "metadata": {
      "needs_background": "light"
     },
     "output_type": "display_data"
    },
    {
     "name": "stdout",
     "output_type": "stream",
     "text": [
      "\n",
      "The highest feature correlations:\n",
      "Correlation for feature mean_distance_0 and target: Pearson 0.3269997555093145, Spearman 0.41922029541520467\n",
      "Correlation for feature degree_y and target: Pearson -0.34546441726307126, Spearman -0.24380506701854587\n",
      "Correlation for feature inring_y and target: Pearson 0.2468838061959806, Spearman 0.30982673179318876\n",
      "\n",
      "Scatter plot of mean_distance_0 and target\n"
     ]
    },
    {
     "data": {
      "image/png": "[encoded data removed]",
      "text/plain": [
       "<Figure size 432x288 with 1 Axes>"
      ]
     },
     "metadata": {
      "needs_background": "light"
     },
     "output_type": "display_data"
    },
    {
     "name": "stdout",
     "output_type": "stream",
     "text": [
      "Scatter plot of degree_y and target\n"
     ]
    },
    {
     "data": {
      "image/png": "[encoded data removed]",
      "text/plain": [
       "<Figure size 432x288 with 1 Axes>"
      ]
     },
     "metadata": {
      "needs_background": "light"
     },
     "output_type": "display_data"
    },
    {
     "name": "stdout",
     "output_type": "stream",
     "text": [
      "Scatter plot of inring_y and target\n"
     ]
    },
    {
     "data": {
      "image/png": "[encoded data removed]",
      "text/plain": [
       "<Figure size 432x288 with 1 Axes>"
      ]
     },
     "metadata": {
      "needs_background": "light"
     },
     "output_type": "display_data"
    }
   ],
   "source": [
    "type_report(train_df, 3, corr_threshold=0.2)"
   ]
  },
  {
   "cell_type": "markdown",
   "metadata": {},
   "source": [
    "### 2JHC"
   ]
  },
  {
   "cell_type": "code",
   "execution_count": 145,
   "metadata": {
    "scrolled": false
   },
   "outputs": [
    {
     "name": "stdout",
     "output_type": "stream",
     "text": [
      "Distribution of the target variable:\n"
     ]
    },
    {
     "data": {
      "image/png": "[encoded data removed]",
      "text/plain": [
       "<Figure size 432x288 with 1 Axes>"
      ]
     },
     "metadata": {
      "needs_background": "light"
     },
     "output_type": "display_data"
    },
    {
     "name": "stdout",
     "output_type": "stream",
     "text": [
      "\n",
      "The highest feature correlations:\n",
      "Correlation for feature distance and target: Pearson 0.2872530646062482, Spearman 0.42662145800388607\n",
      "Correlation for feature gravity and target: Pearson -0.2771953244854112, Spearman -0.42662145800388607\n",
      "\n",
      "Scatter plot of distance and target\n"
     ]
    },
    {
     "data": {
      "image/png": "[encoded data removed]",
      "text/plain": [
       "<Figure size 432x288 with 1 Axes>"
      ]
     },
     "metadata": {
      "needs_background": "light"
     },
     "output_type": "display_data"
    },
    {
     "name": "stdout",
     "output_type": "stream",
     "text": [
      "Scatter plot of gravity and target\n"
     ]
    },
    {
     "data": {
      "image/png": "[encoded data removed]",
      "text/plain": [
       "<Figure size 432x288 with 1 Axes>"
      ]
     },
     "metadata": {
      "needs_background": "light"
     },
     "output_type": "display_data"
    }
   ],
   "source": [
    "type_report(train_df, 4, corr_threshold=0.2)"
   ]
  },
  {
   "cell_type": "markdown",
   "metadata": {},
   "source": [
    "### 3JHH"
   ]
  },
  {
   "cell_type": "code",
   "execution_count": 146,
   "metadata": {
    "scrolled": false
   },
   "outputs": [
    {
     "name": "stdout",
     "output_type": "stream",
     "text": [
      "Distribution of the target variable:\n"
     ]
    },
    {
     "data": {
      "image/png": "[encoded data removed]",
      "text/plain": [
       "<Figure size 432x288 with 1 Axes>"
      ]
     },
     "metadata": {
      "needs_background": "light"
     },
     "output_type": "display_data"
    },
    {
     "name": "stdout",
     "output_type": "stream",
     "text": [
      "\n",
      "The highest feature correlations:\n",
      "Correlation for feature mean_distance_0 and target: Pearson -0.2577481064809377, Spearman -0.2664338858903963\n",
      "\n",
      "Scatter plot of mean_distance_0 and target\n"
     ]
    },
    {
     "data": {
      "image/png": "[encoded data removed]",
      "text/plain": [
       "<Figure size 432x288 with 1 Axes>"
      ]
     },
     "metadata": {
      "needs_background": "light"
     },
     "output_type": "display_data"
    }
   ],
   "source": [
    "type_report(train_df, 5, corr_threshold=0.2)"
   ]
  },
  {
   "cell_type": "markdown",
   "metadata": {},
   "source": [
    "### 3JHC"
   ]
  },
  {
   "cell_type": "code",
   "execution_count": 147,
   "metadata": {
    "scrolled": false
   },
   "outputs": [
    {
     "name": "stdout",
     "output_type": "stream",
     "text": [
      "Distribution of the target variable:\n"
     ]
    },
    {
     "data": {
      "image/png": "[encoded data removed]",
      "text/plain": [
       "<Figure size 432x288 with 1 Axes>"
      ]
     },
     "metadata": {
      "needs_background": "light"
     },
     "output_type": "display_data"
    },
    {
     "name": "stdout",
     "output_type": "stream",
     "text": [
      "\n",
      "The highest feature correlations:\n",
      "Correlation for feature distance and target: Pearson 0.3196697255180308, Spearman 0.2998921868346927\n",
      "Correlation for feature gravity and target: Pearson -0.28754626693238183, Spearman -0.2998921868346927\n",
      "\n",
      "Scatter plot of distance and target\n"
     ]
    },
    {
     "data": {
      "image/png": "[encoded data removed]",
      "text/plain": [
       "<Figure size 432x288 with 1 Axes>"
      ]
     },
     "metadata": {
      "needs_background": "light"
     },
     "output_type": "display_data"
    },
    {
     "name": "stdout",
     "output_type": "stream",
     "text": [
      "Scatter plot of gravity and target\n"
     ]
    },
    {
     "data": {
      "image/png": "[encoded data removed]",
      "text/plain": [
       "<Figure size 432x288 with 1 Axes>"
      ]
     },
     "metadata": {
      "needs_background": "light"
     },
     "output_type": "display_data"
    }
   ],
   "source": [
    "type_report(train_df, 6, corr_threshold=0.2)"
   ]
  },
  {
   "cell_type": "markdown",
   "metadata": {},
   "source": [
    "### 3JHN"
   ]
  },
  {
   "cell_type": "code",
   "execution_count": 148,
   "metadata": {
    "scrolled": false
   },
   "outputs": [
    {
     "name": "stdout",
     "output_type": "stream",
     "text": [
      "Distribution of the target variable:\n"
     ]
    },
    {
     "data": {
      "image/png": "[encoded data removed]",
      "text/plain": [
       "<Figure size 432x288 with 1 Axes>"
      ]
     },
     "metadata": {
      "needs_background": "light"
     },
     "output_type": "display_data"
    },
    {
     "name": "stdout",
     "output_type": "stream",
     "text": [
      "\n",
      "The highest feature correlations:\n",
      "Correlation for feature distance and target: Pearson 0.27062032457089047, Spearman 0.22609202030040754\n",
      "Correlation for feature gravity and target: Pearson -0.2496024265690058, Spearman -0.22609202030040754\n",
      "\n",
      "Scatter plot of distance and target\n"
     ]
    },
    {
     "data": {
      "image/png": "[encoded data removed]",
      "text/plain": [
       "<Figure size 432x288 with 1 Axes>"
      ]
     },
     "metadata": {
      "needs_background": "light"
     },
     "output_type": "display_data"
    },
    {
     "name": "stdout",
     "output_type": "stream",
     "text": [
      "Scatter plot of gravity and target\n"
     ]
    },
    {
     "data": {
      "image/png": "[encoded data removed]",
      "text/plain": [
       "<Figure size 432x288 with 1 Axes>"
      ]
     },
     "metadata": {
      "needs_background": "light"
     },
     "output_type": "display_data"
    }
   ],
   "source": [
    "type_report(train_df, 7, corr_threshold=0.2)"
   ]
  },
  {
   "cell_type": "markdown",
   "metadata": {},
   "source": [
    "After looking at the correlations, we should say that for most of the types (except the first 2) it is hard to find any features that are strongly correlated with the target, although the **distance** feature seems to be the most correlated in all cases."
   ]
  },
  {
   "cell_type": "markdown",
   "metadata": {},
   "source": [
    "# Evaluating functions"
   ]
  },
  {
   "cell_type": "markdown",
   "metadata": {},
   "source": [
    "We will be using a custom evaluating function, which calculates the mean log MAE across the types."
   ]
  },
  {
   "cell_type": "code",
   "execution_count": 183,
   "metadata": {
    "collapsed": true
   },
   "outputs": [],
   "source": [
    "def evaluate(y_true, predicted_df):\n",
    "    predicted_df['scalar_coupling_constant'] = abs(predicted_df['scalar_coupling_constant'] - y_true)\n",
    "    return np.log(predicted_df.groupby('type')['scalar_coupling_constant'].mean()).sum() / predicted_df['type'].nunique()\n",
    "\n",
    "\n",
    "def feature_importances(model, feature_fields):\n",
    "    return pd.DataFrame({\n",
    "        'feature': feature_fields,\n",
    "        'importance': model.feature_importances_\n",
    "    }).sort_values('importance', ascending=False)\n",
    "\n",
    "\n",
    "champs_scorer = make_scorer(evaluate, greater_is_better=False)"
   ]
  },
  {
   "cell_type": "markdown",
   "metadata": {},
   "source": [
    "# Modeling"
   ]
  },
  {
   "cell_type": "markdown",
   "metadata": {},
   "source": [
    "## Single LGBMRegressor model"
   ]
  },
  {
   "cell_type": "code",
   "execution_count": 99,
   "metadata": {
    "collapsed": true
   },
   "outputs": [],
   "source": [
    "class CHAMPS_LGBMRegressor(LGBMRegressor):\n",
    "    def predict(self, X, **kwargs):\n",
    "        scores = super().predict(X, **kwargs)\n",
    "        return pd.DataFrame({\n",
    "            'type': X['type'],\n",
    "            'score': scores\n",
    "        })"
   ]
  },
  {
   "cell_type": "code",
   "execution_count": 150,
   "metadata": {},
   "outputs": [
    {
     "name": "stdout",
     "output_type": "stream",
     "text": [
      "Training until validation scores don't improve for 20 rounds.\n",
      "[100]\ttraining's l2: 4.03309\ttraining's l1: 1.3879\tvalid_1's l2: 4.09173\tvalid_1's l1: 1.39796\n",
      "[200]\ttraining's l2: 3.44248\ttraining's l1: 1.27492\tvalid_1's l2: 3.55109\tvalid_1's l1: 1.29046\n",
      "[300]\ttraining's l2: 3.12915\ttraining's l1: 1.21059\tvalid_1's l2: 3.27751\tvalid_1's l1: 1.2318\n",
      "[400]\ttraining's l2: 2.92167\ttraining's l1: 1.16801\tvalid_1's l2: 3.1157\tvalid_1's l1: 1.19537\n",
      "[500]\ttraining's l2: 2.75415\ttraining's l1: 1.13405\tvalid_1's l2: 2.98896\tvalid_1's l1: 1.16735\n",
      "[600]\ttraining's l2: 2.62355\ttraining's l1: 1.10623\tvalid_1's l2: 2.89463\tvalid_1's l1: 1.14502\n",
      "[700]\ttraining's l2: 2.52\ttraining's l1: 1.0855\tvalid_1's l2: 2.82651\tvalid_1's l1: 1.12988\n",
      "[800]\ttraining's l2: 2.42023\ttraining's l1: 1.06439\tvalid_1's l2: 2.76096\tvalid_1's l1: 1.11431\n",
      "[900]\ttraining's l2: 2.33578\ttraining's l1: 1.04618\tvalid_1's l2: 2.70784\tvalid_1's l1: 1.10126\n",
      "[1000]\ttraining's l2: 2.26987\ttraining's l1: 1.03193\tvalid_1's l2: 2.67105\tvalid_1's l1: 1.09215\n",
      "[1100]\ttraining's l2: 2.20774\ttraining's l1: 1.01876\tvalid_1's l2: 2.63792\tvalid_1's l1: 1.08425\n",
      "[1200]\ttraining's l2: 2.14723\ttraining's l1: 1.00419\tvalid_1's l2: 2.60027\tvalid_1's l1: 1.07412\n",
      "[1300]\ttraining's l2: 2.09086\ttraining's l1: 0.991464\tvalid_1's l2: 2.56955\tvalid_1's l1: 1.06632\n",
      "[1400]\ttraining's l2: 2.03892\ttraining's l1: 0.979932\tvalid_1's l2: 2.54347\tvalid_1's l1: 1.05976\n",
      "[1500]\ttraining's l2: 1.99087\ttraining's l1: 0.968766\tvalid_1's l2: 2.51927\tvalid_1's l1: 1.05317\n",
      "[1600]\ttraining's l2: 1.95031\ttraining's l1: 0.959669\tvalid_1's l2: 2.50268\tvalid_1's l1: 1.04884\n",
      "[1700]\ttraining's l2: 1.91005\ttraining's l1: 0.950768\tvalid_1's l2: 2.48657\tvalid_1's l1: 1.04489\n",
      "[1800]\ttraining's l2: 1.87298\ttraining's l1: 0.942734\tvalid_1's l2: 2.47186\tvalid_1's l1: 1.04127\n",
      "[1900]\ttraining's l2: 1.83893\ttraining's l1: 0.934477\tvalid_1's l2: 2.45813\tvalid_1's l1: 1.03737\n",
      "[2000]\ttraining's l2: 1.80523\ttraining's l1: 0.926965\tvalid_1's l2: 2.44602\tvalid_1's l1: 1.03448\n",
      "[2100]\ttraining's l2: 1.76805\ttraining's l1: 0.91836\tvalid_1's l2: 2.43061\tvalid_1's l1: 1.03035\n",
      "[2200]\ttraining's l2: 1.73458\ttraining's l1: 0.910938\tvalid_1's l2: 2.41852\tvalid_1's l1: 1.02741\n",
      "[2300]\ttraining's l2: 1.70494\ttraining's l1: 0.903333\tvalid_1's l2: 2.40611\tvalid_1's l1: 1.0239\n",
      "[2400]\ttraining's l2: 1.67827\ttraining's l1: 0.897163\tvalid_1's l2: 2.3967\tvalid_1's l1: 1.02172\n",
      "[2500]\ttraining's l2: 1.65162\ttraining's l1: 0.890514\tvalid_1's l2: 2.38787\tvalid_1's l1: 1.01905\n",
      "[2600]\ttraining's l2: 1.62527\ttraining's l1: 0.883964\tvalid_1's l2: 2.37771\tvalid_1's l1: 1.0163\n",
      "[2700]\ttraining's l2: 1.59747\ttraining's l1: 0.877338\tvalid_1's l2: 2.36816\tvalid_1's l1: 1.01374\n",
      "[2800]\ttraining's l2: 1.57642\ttraining's l1: 0.87173\tvalid_1's l2: 2.36339\tvalid_1's l1: 1.01197\n",
      "[2900]\ttraining's l2: 1.55039\ttraining's l1: 0.86496\tvalid_1's l2: 2.35376\tvalid_1's l1: 1.00906\n",
      "[3000]\ttraining's l2: 1.52778\ttraining's l1: 0.85929\tvalid_1's l2: 2.3471\tvalid_1's l1: 1.00732\n",
      "[3100]\ttraining's l2: 1.50586\ttraining's l1: 0.853558\tvalid_1's l2: 2.34099\tvalid_1's l1: 1.00544\n",
      "[3200]\ttraining's l2: 1.48372\ttraining's l1: 0.848141\tvalid_1's l2: 2.33572\tvalid_1's l1: 1.004\n",
      "[3300]\ttraining's l2: 1.46481\ttraining's l1: 0.842923\tvalid_1's l2: 2.33047\tvalid_1's l1: 1.00234\n",
      "[3400]\ttraining's l2: 1.44571\ttraining's l1: 0.837785\tvalid_1's l2: 2.32542\tvalid_1's l1: 1.00088\n",
      "[3500]\ttraining's l2: 1.42757\ttraining's l1: 0.832686\tvalid_1's l2: 2.32076\tvalid_1's l1: 0.999495\n",
      "[3600]\ttraining's l2: 1.40905\ttraining's l1: 0.827956\tvalid_1's l2: 2.31616\tvalid_1's l1: 0.998387\n",
      "[3700]\ttraining's l2: 1.38913\ttraining's l1: 0.822769\tvalid_1's l2: 2.3098\tvalid_1's l1: 0.996737\n",
      "[3800]\ttraining's l2: 1.37035\ttraining's l1: 0.817759\tvalid_1's l2: 2.3052\tvalid_1's l1: 0.995266\n",
      "[3900]\ttraining's l2: 1.35362\ttraining's l1: 0.813253\tvalid_1's l2: 2.30113\tvalid_1's l1: 0.994159\n",
      "[4000]\ttraining's l2: 1.3372\ttraining's l1: 0.808849\tvalid_1's l2: 2.2974\tvalid_1's l1: 0.993115\n",
      "[4100]\ttraining's l2: 1.31913\ttraining's l1: 0.803964\tvalid_1's l2: 2.29229\tvalid_1's l1: 0.991799\n",
      "[4200]\ttraining's l2: 1.30277\ttraining's l1: 0.799488\tvalid_1's l2: 2.28888\tvalid_1's l1: 0.990678\n",
      "[4300]\ttraining's l2: 1.28742\ttraining's l1: 0.795202\tvalid_1's l2: 2.28519\tvalid_1's l1: 0.989679\n",
      "[4400]\ttraining's l2: 1.27125\ttraining's l1: 0.790777\tvalid_1's l2: 2.28129\tvalid_1's l1: 0.988738\n",
      "[4500]\ttraining's l2: 1.25694\ttraining's l1: 0.786437\tvalid_1's l2: 2.27781\tvalid_1's l1: 0.987534\n",
      "Early stopping, best iteration is:\n",
      "[4557]\ttraining's l2: 1.24822\ttraining's l1: 0.783868\tvalid_1's l2: 2.27552\tvalid_1's l1: 0.986759\n",
      "-0.11257231889429038\n"
     ]
    }
   ],
   "source": [
    "feature_fields = [col for col in train_df.columns if col not in ['id', 'atom_index_0', 'atom_index_1', 'scalar_coupling_constant', 'molecule_name', 'atom_0']]\n",
    "X_train = train_df[feature_fields]\n",
    "y_train = train_df['scalar_coupling_constant']\n",
    "X_train, X_test, y_train, y_test = train_test_split(X_train, y_train, test_size=0.3, random_state=42)\n",
    "X_train, X_valid, y_train, y_valid = train_test_split(X_train, y_train, test_size=0.2, random_state=42)\n",
    "\n",
    "model = CHAMPS_LGBMRegressor(n_estimators=10000, learning_rate=0.5, early_stopping_rounds=20, reg_alpha=2.0)\n",
    "model.fit(X_train, y_train, verbose=100, eval_set=[(X_train, y_train), (X_valid, y_valid)], eval_metric='mae')\n",
    "\n",
    "predictions = model.predict(X_test)\n",
    "print(evaluate(y_test, predictions))"
   ]
  },
  {
   "cell_type": "code",
   "execution_count": 151,
   "metadata": {},
   "outputs": [],
   "source": [
    "param_grid = {\n",
    "    'n_estimators': [10000],\n",
    "    'colsample_bytree': [1, 0.7],\n",
    "    'learning_rate': [0.5, 0.75],\n",
    "    'reg_alpha': [1.0, 2.0],\n",
    "    'reg_lambda': [1.0, 2.0],\n",
    "    'early_stopping_rounds': [20]\n",
    "}\n",
    "\n",
    "gridsearch = GridSearchCV(CHAMPS_LGBMRegressor(), scoring=champs_scorer, param_grid=param_grid, verbose=10, cv=2)"
   ]
  },
  {
   "cell_type": "code",
   "execution_count": 152,
   "metadata": {},
   "outputs": [
    {
     "name": "stdout",
     "output_type": "stream",
     "text": [
      "Fitting 2 folds for each of 16 candidates, totalling 32 fits\n",
      "[CV] colsample_bytree=1, early_stopping_rounds=20, learning_rate=0.5, n_estimators=10000, reg_alpha=1.0, reg_lambda=1.0 \n"
     ]
    },
    {
     "name": "stderr",
     "output_type": "stream",
     "text": [
      "[Parallel(n_jobs=1)]: Using backend SequentialBackend with 1 concurrent workers.\n"
     ]
    },
    {
     "name": "stdout",
     "output_type": "stream",
     "text": [
      "Training until validation scores don't improve for 20 rounds.\n",
      "[100]\tvalid_0's l2: 4.07247\tvalid_0's l1: 1.39296\tvalid_1's l2: 4.13157\tvalid_1's l1: 1.40324\n",
      "[200]\tvalid_0's l2: 3.51416\tvalid_0's l1: 1.28369\tvalid_1's l2: 3.61987\tvalid_1's l1: 1.30039\n",
      "[300]\tvalid_0's l2: 3.22297\tvalid_0's l1: 1.22309\tvalid_1's l2: 3.3705\tvalid_1's l1: 1.24598\n",
      "[400]\tvalid_0's l2: 3.04427\tvalid_0's l1: 1.18684\tvalid_1's l2: 3.22712\tvalid_1's l1: 1.21524\n",
      "[500]\tvalid_0's l2: 2.91164\tvalid_0's l1: 1.15883\tvalid_1's l2: 3.13538\tvalid_1's l1: 1.19368\n",
      "[600]\tvalid_0's l2: 2.8074\tvalid_0's l1: 1.13663\tvalid_1's l2: 3.06909\tvalid_1's l1: 1.17733\n",
      "[700]\tvalid_0's l2: 2.73342\tvalid_0's l1: 1.12013\tvalid_1's l2: 3.02346\tvalid_1's l1: 1.16588\n",
      "[800]\tvalid_0's l2: 2.65547\tvalid_0's l1: 1.10178\tvalid_1's l2: 2.97208\tvalid_1's l1: 1.15233\n",
      "[900]\tvalid_0's l2: 2.59173\tvalid_0's l1: 1.08801\tvalid_1's l2: 2.93489\tvalid_1's l1: 1.14338\n",
      "[1000]\tvalid_0's l2: 2.53515\tvalid_0's l1: 1.07572\tvalid_1's l2: 2.90137\tvalid_1's l1: 1.1356\n",
      "[1100]\tvalid_0's l2: 2.47804\tvalid_0's l1: 1.06277\tvalid_1's l2: 2.86716\tvalid_1's l1: 1.1272\n",
      "[1200]\tvalid_0's l2: 2.43191\tvalid_0's l1: 1.05255\tvalid_1's l2: 2.8439\tvalid_1's l1: 1.12171\n",
      "[1300]\tvalid_0's l2: 2.38556\tvalid_0's l1: 1.04186\tvalid_1's l2: 2.82085\tvalid_1's l1: 1.11577\n",
      "[1400]\tvalid_0's l2: 2.35033\tvalid_0's l1: 1.03386\tvalid_1's l2: 2.8069\tvalid_1's l1: 1.11229\n",
      "[1500]\tvalid_0's l2: 2.31769\tvalid_0's l1: 1.02649\tvalid_1's l2: 2.79435\tvalid_1's l1: 1.10912\n",
      "[1600]\tvalid_0's l2: 2.28986\tvalid_0's l1: 1.01941\tvalid_1's l2: 2.78256\tvalid_1's l1: 1.106\n",
      "[1700]\tvalid_0's l2: 2.26442\tvalid_0's l1: 1.01342\tvalid_1's l2: 2.77522\tvalid_1's l1: 1.10404\n",
      "[1800]\tvalid_0's l2: 2.2339\tvalid_0's l1: 1.00572\tvalid_1's l2: 2.76134\tvalid_1's l1: 1.10043\n",
      "[1900]\tvalid_0's l2: 2.2113\tvalid_0's l1: 1.00025\tvalid_1's l2: 2.75659\tvalid_1's l1: 1.09911\n",
      "[2000]\tvalid_0's l2: 2.18429\tvalid_0's l1: 0.993688\tvalid_1's l2: 2.74443\tvalid_1's l1: 1.09619\n",
      "Early stopping, best iteration is:\n",
      "[2001]\tvalid_0's l2: 2.18378\tvalid_0's l1: 0.993599\tvalid_1's l2: 2.74414\tvalid_1's l1: 1.09614\n",
      "[CV]  colsample_bytree=1, early_stopping_rounds=20, learning_rate=0.5, n_estimators=10000, reg_alpha=1.0, reg_lambda=1.0, score=0.006, total= 5.1min\n",
      "[CV] colsample_bytree=1, early_stopping_rounds=20, learning_rate=0.5, n_estimators=10000, reg_alpha=1.0, reg_lambda=1.0 \n"
     ]
    },
    {
     "name": "stderr",
     "output_type": "stream",
     "text": [
      "[Parallel(n_jobs=1)]: Done   1 out of   1 | elapsed:  5.1min remaining:    0.0s\n"
     ]
    },
    {
     "name": "stdout",
     "output_type": "stream",
     "text": [
      "Training until validation scores don't improve for 20 rounds.\n",
      "[100]\tvalid_0's l2: 4.06881\tvalid_0's l1: 1.39184\tvalid_1's l2: 4.12385\tvalid_1's l1: 1.40238\n",
      "[200]\tvalid_0's l2: 3.50655\tvalid_0's l1: 1.28159\tvalid_1's l2: 3.61015\tvalid_1's l1: 1.29773\n",
      "[300]\tvalid_0's l2: 3.23177\tvalid_0's l1: 1.22531\tvalid_1's l2: 3.38135\tvalid_1's l1: 1.24763\n",
      "[400]\tvalid_0's l2: 3.04383\tvalid_0's l1: 1.18563\tvalid_1's l2: 3.23277\tvalid_1's l1: 1.21439\n",
      "[500]\tvalid_0's l2: 2.90146\tvalid_0's l1: 1.15583\tvalid_1's l2: 3.12674\tvalid_1's l1: 1.19017\n",
      "[600]\tvalid_0's l2: 2.79876\tvalid_0's l1: 1.13365\tvalid_1's l2: 3.05601\tvalid_1's l1: 1.17311\n",
      "[700]\tvalid_0's l2: 2.7102\tvalid_0's l1: 1.11552\tvalid_1's l2: 3.00133\tvalid_1's l1: 1.16074\n",
      "[800]\tvalid_0's l2: 2.64129\tvalid_0's l1: 1.10065\tvalid_1's l2: 2.9626\tvalid_1's l1: 1.15152\n",
      "[900]\tvalid_0's l2: 2.57996\tvalid_0's l1: 1.08712\tvalid_1's l2: 2.92887\tvalid_1's l1: 1.143\n",
      "[1000]\tvalid_0's l2: 2.52343\tvalid_0's l1: 1.07485\tvalid_1's l2: 2.90036\tvalid_1's l1: 1.13593\n",
      "[1100]\tvalid_0's l2: 2.47684\tvalid_0's l1: 1.06397\tvalid_1's l2: 2.87631\tvalid_1's l1: 1.13006\n",
      "[1200]\tvalid_0's l2: 2.43\tvalid_0's l1: 1.05259\tvalid_1's l2: 2.85194\tvalid_1's l1: 1.12305\n",
      "[1300]\tvalid_0's l2: 2.38715\tvalid_0's l1: 1.04263\tvalid_1's l2: 2.83205\tvalid_1's l1: 1.11772\n",
      "[1400]\tvalid_0's l2: 2.34967\tvalid_0's l1: 1.03411\tvalid_1's l2: 2.81651\tvalid_1's l1: 1.11391\n",
      "[1500]\tvalid_0's l2: 2.31627\tvalid_0's l1: 1.02659\tvalid_1's l2: 2.80503\tvalid_1's l1: 1.11099\n",
      "Early stopping, best iteration is:\n",
      "[1579]\tvalid_0's l2: 2.28875\tvalid_0's l1: 1.02026\tvalid_1's l2: 2.79231\tvalid_1's l1: 1.10807\n",
      "[CV]  colsample_bytree=1, early_stopping_rounds=20, learning_rate=0.5, n_estimators=10000, reg_alpha=1.0, reg_lambda=1.0, score=0.005, total= 4.3min\n",
      "[CV] colsample_bytree=1, early_stopping_rounds=20, learning_rate=0.5, n_estimators=10000, reg_alpha=1.0, reg_lambda=2.0 \n"
     ]
    },
    {
     "name": "stderr",
     "output_type": "stream",
     "text": [
      "[Parallel(n_jobs=1)]: Done   2 out of   2 | elapsed:  9.4min remaining:    0.0s\n"
     ]
    },
    {
     "name": "stdout",
     "output_type": "stream",
     "text": [
      "Training until validation scores don't improve for 20 rounds.\n",
      "[100]\tvalid_0's l2: 4.04202\tvalid_0's l1: 1.38845\tvalid_1's l2: 4.09365\tvalid_1's l1: 1.39646\n",
      "[200]\tvalid_0's l2: 3.49957\tvalid_0's l1: 1.2835\tvalid_1's l2: 3.60024\tvalid_1's l1: 1.29824\n",
      "[300]\tvalid_0's l2: 3.22164\tvalid_0's l1: 1.22387\tvalid_1's l2: 3.35919\tvalid_1's l1: 1.24416\n",
      "[400]\tvalid_0's l2: 3.03789\tvalid_0's l1: 1.18659\tvalid_1's l2: 3.21778\tvalid_1's l1: 1.21296\n",
      "[500]\tvalid_0's l2: 2.9028\tvalid_0's l1: 1.15803\tvalid_1's l2: 3.11669\tvalid_1's l1: 1.18998\n",
      "[600]\tvalid_0's l2: 2.79694\tvalid_0's l1: 1.13598\tvalid_1's l2: 3.0383\tvalid_1's l1: 1.17305\n",
      "[700]\tvalid_0's l2: 2.70727\tvalid_0's l1: 1.11654\tvalid_1's l2: 2.97918\tvalid_1's l1: 1.15861\n",
      "[800]\tvalid_0's l2: 2.63126\tvalid_0's l1: 1.09917\tvalid_1's l2: 2.93006\tvalid_1's l1: 1.14616\n",
      "[900]\tvalid_0's l2: 2.56474\tvalid_0's l1: 1.08416\tvalid_1's l2: 2.89145\tvalid_1's l1: 1.13624\n",
      "[1000]\tvalid_0's l2: 2.51495\tvalid_0's l1: 1.07372\tvalid_1's l2: 2.86797\tvalid_1's l1: 1.13065\n",
      "[1100]\tvalid_0's l2: 2.46447\tvalid_0's l1: 1.06115\tvalid_1's l2: 2.83786\tvalid_1's l1: 1.12237\n",
      "[1200]\tvalid_0's l2: 2.42646\tvalid_0's l1: 1.05234\tvalid_1's l2: 2.82249\tvalid_1's l1: 1.11821\n",
      "[1300]\tvalid_0's l2: 2.38674\tvalid_0's l1: 1.0432\tvalid_1's l2: 2.80509\tvalid_1's l1: 1.11377\n",
      "[1400]\tvalid_0's l2: 2.3508\tvalid_0's l1: 1.03514\tvalid_1's l2: 2.79266\tvalid_1's l1: 1.11039\n",
      "[1500]\tvalid_0's l2: 2.31542\tvalid_0's l1: 1.02693\tvalid_1's l2: 2.77637\tvalid_1's l1: 1.10669\n",
      "[1600]\tvalid_0's l2: 2.28678\tvalid_0's l1: 1.01962\tvalid_1's l2: 2.76607\tvalid_1's l1: 1.10363\n",
      "[1700]\tvalid_0's l2: 2.2569\tvalid_0's l1: 1.01268\tvalid_1's l2: 2.75419\tvalid_1's l1: 1.10081\n",
      "[1800]\tvalid_0's l2: 2.2258\tvalid_0's l1: 1.00452\tvalid_1's l2: 2.74112\tvalid_1's l1: 1.09682\n",
      "Early stopping, best iteration is:\n",
      "[1817]\tvalid_0's l2: 2.22016\tvalid_0's l1: 1.00316\tvalid_1's l2: 2.73792\tvalid_1's l1: 1.09603\n",
      "[CV]  colsample_bytree=1, early_stopping_rounds=20, learning_rate=0.5, n_estimators=10000, reg_alpha=1.0, reg_lambda=2.0, score=0.009, total= 4.7min\n",
      "[CV] colsample_bytree=1, early_stopping_rounds=20, learning_rate=0.5, n_estimators=10000, reg_alpha=1.0, reg_lambda=2.0 \n"
     ]
    },
    {
     "name": "stderr",
     "output_type": "stream",
     "text": [
      "[Parallel(n_jobs=1)]: Done   3 out of   3 | elapsed: 14.1min remaining:    0.0s\n"
     ]
    },
    {
     "name": "stdout",
     "output_type": "stream",
     "text": [
      "Training until validation scores don't improve for 20 rounds.\n",
      "[100]\tvalid_0's l2: 4.08844\tvalid_0's l1: 1.39879\tvalid_1's l2: 4.13807\tvalid_1's l1: 1.40692\n",
      "[200]\tvalid_0's l2: 3.53232\tvalid_0's l1: 1.28945\tvalid_1's l2: 3.62693\tvalid_1's l1: 1.30388\n",
      "[300]\tvalid_0's l2: 3.24257\tvalid_0's l1: 1.2289\tvalid_1's l2: 3.38066\tvalid_1's l1: 1.24952\n",
      "[400]\tvalid_0's l2: 3.05955\tvalid_0's l1: 1.19041\tvalid_1's l2: 3.23811\tvalid_1's l1: 1.2173\n",
      "[500]\tvalid_0's l2: 2.92117\tvalid_0's l1: 1.16203\tvalid_1's l2: 3.13796\tvalid_1's l1: 1.19494\n",
      "[600]\tvalid_0's l2: 2.80299\tvalid_0's l1: 1.13585\tvalid_1's l2: 3.05102\tvalid_1's l1: 1.17381\n",
      "[700]\tvalid_0's l2: 2.72064\tvalid_0's l1: 1.11856\tvalid_1's l2: 2.99779\tvalid_1's l1: 1.16161\n",
      "[800]\tvalid_0's l2: 2.64425\tvalid_0's l1: 1.10257\tvalid_1's l2: 2.95144\tvalid_1's l1: 1.15083\n",
      "[900]\tvalid_0's l2: 2.57526\tvalid_0's l1: 1.08818\tvalid_1's l2: 2.9142\tvalid_1's l1: 1.14203\n",
      "[1000]\tvalid_0's l2: 2.51823\tvalid_0's l1: 1.0749\tvalid_1's l2: 2.88162\tvalid_1's l1: 1.13369\n",
      "[1100]\tvalid_0's l2: 2.46798\tvalid_0's l1: 1.06308\tvalid_1's l2: 2.85365\tvalid_1's l1: 1.1261\n",
      "[1200]\tvalid_0's l2: 2.42151\tvalid_0's l1: 1.05304\tvalid_1's l2: 2.83209\tvalid_1's l1: 1.12082\n",
      "[1300]\tvalid_0's l2: 2.38369\tvalid_0's l1: 1.04469\tvalid_1's l2: 2.8186\tvalid_1's l1: 1.11718\n",
      "[1400]\tvalid_0's l2: 2.34753\tvalid_0's l1: 1.03541\tvalid_1's l2: 2.80104\tvalid_1's l1: 1.11222\n",
      "[1500]\tvalid_0's l2: 2.31084\tvalid_0's l1: 1.0263\tvalid_1's l2: 2.78324\tvalid_1's l1: 1.1072\n",
      "[1600]\tvalid_0's l2: 2.27919\tvalid_0's l1: 1.01841\tvalid_1's l2: 2.76983\tvalid_1's l1: 1.10358\n",
      "[1700]\tvalid_0's l2: 2.24982\tvalid_0's l1: 1.01114\tvalid_1's l2: 2.75578\tvalid_1's l1: 1.09998\n",
      "Early stopping, best iteration is:\n",
      "[1750]\tvalid_0's l2: 2.23534\tvalid_0's l1: 1.00764\tvalid_1's l2: 2.74932\tvalid_1's l1: 1.09851\n",
      "[CV]  colsample_bytree=1, early_stopping_rounds=20, learning_rate=0.5, n_estimators=10000, reg_alpha=1.0, reg_lambda=2.0, score=0.012, total= 4.7min\n",
      "[CV] colsample_bytree=1, early_stopping_rounds=20, learning_rate=0.5, n_estimators=10000, reg_alpha=2.0, reg_lambda=1.0 \n"
     ]
    },
    {
     "name": "stderr",
     "output_type": "stream",
     "text": [
      "[Parallel(n_jobs=1)]: Done   4 out of   4 | elapsed: 18.8min remaining:    0.0s\n"
     ]
    },
    {
     "name": "stdout",
     "output_type": "stream",
     "text": [
      "Training until validation scores don't improve for 20 rounds.\n",
      "[100]\tvalid_0's l2: 4.07874\tvalid_0's l1: 1.39351\tvalid_1's l2: 4.12015\tvalid_1's l1: 1.40231\n",
      "[200]\tvalid_0's l2: 3.49934\tvalid_0's l1: 1.27838\tvalid_1's l2: 3.59092\tvalid_1's l1: 1.2938\n",
      "[300]\tvalid_0's l2: 3.22539\tvalid_0's l1: 1.22248\tvalid_1's l2: 3.36263\tvalid_1's l1: 1.24416\n",
      "[400]\tvalid_0's l2: 3.04799\tvalid_0's l1: 1.18749\tvalid_1's l2: 3.23232\tvalid_1's l1: 1.21578\n",
      "[500]\tvalid_0's l2: 2.90882\tvalid_0's l1: 1.15717\tvalid_1's l2: 3.12693\tvalid_1's l1: 1.19091\n",
      "[600]\tvalid_0's l2: 2.80124\tvalid_0's l1: 1.13532\tvalid_1's l2: 3.05456\tvalid_1's l1: 1.17495\n",
      "[700]\tvalid_0's l2: 2.71865\tvalid_0's l1: 1.11767\tvalid_1's l2: 3.00234\tvalid_1's l1: 1.16248\n",
      "[800]\tvalid_0's l2: 2.64464\tvalid_0's l1: 1.10096\tvalid_1's l2: 2.95763\tvalid_1's l1: 1.15099\n",
      "[900]\tvalid_0's l2: 2.57799\tvalid_0's l1: 1.08621\tvalid_1's l2: 2.9187\tvalid_1's l1: 1.1414\n",
      "[1000]\tvalid_0's l2: 2.51947\tvalid_0's l1: 1.07318\tvalid_1's l2: 2.88447\tvalid_1's l1: 1.13306\n",
      "[1100]\tvalid_0's l2: 2.46451\tvalid_0's l1: 1.06047\tvalid_1's l2: 2.8542\tvalid_1's l1: 1.12503\n",
      "[1200]\tvalid_0's l2: 2.42516\tvalid_0's l1: 1.05113\tvalid_1's l2: 2.83752\tvalid_1's l1: 1.12034\n",
      "[1300]\tvalid_0's l2: 2.38607\tvalid_0's l1: 1.04199\tvalid_1's l2: 2.81824\tvalid_1's l1: 1.11547\n",
      "[1400]\tvalid_0's l2: 2.34497\tvalid_0's l1: 1.03275\tvalid_1's l2: 2.7964\tvalid_1's l1: 1.11045\n",
      "[1500]\tvalid_0's l2: 2.31325\tvalid_0's l1: 1.02558\tvalid_1's l2: 2.78488\tvalid_1's l1: 1.1077\n",
      "[1600]\tvalid_0's l2: 2.28571\tvalid_0's l1: 1.01869\tvalid_1's l2: 2.77631\tvalid_1's l1: 1.10514\n",
      "Early stopping, best iteration is:\n",
      "[1584]\tvalid_0's l2: 2.2892\tvalid_0's l1: 1.01953\tvalid_1's l2: 2.77608\tvalid_1's l1: 1.10519\n",
      "[CV]  colsample_bytree=1, early_stopping_rounds=20, learning_rate=0.5, n_estimators=10000, reg_alpha=2.0, reg_lambda=1.0, score=0.001, total= 4.1min\n",
      "[CV] colsample_bytree=1, early_stopping_rounds=20, learning_rate=0.5, n_estimators=10000, reg_alpha=2.0, reg_lambda=1.0 \n"
     ]
    },
    {
     "name": "stderr",
     "output_type": "stream",
     "text": [
      "[Parallel(n_jobs=1)]: Done   5 out of   5 | elapsed: 22.9min remaining:    0.0s\n"
     ]
    },
    {
     "name": "stdout",
     "output_type": "stream",
     "text": [
      "Training until validation scores don't improve for 20 rounds.\n",
      "[100]\tvalid_0's l2: 4.00429\tvalid_0's l1: 1.38076\tvalid_1's l2: 4.06096\tvalid_1's l1: 1.39054\n",
      "[200]\tvalid_0's l2: 3.46101\tvalid_0's l1: 1.27341\tvalid_1's l2: 3.57241\tvalid_1's l1: 1.28959\n",
      "[300]\tvalid_0's l2: 3.20932\tvalid_0's l1: 1.22136\tvalid_1's l2: 3.36398\tvalid_1's l1: 1.24382\n",
      "[400]\tvalid_0's l2: 3.01604\tvalid_0's l1: 1.17947\tvalid_1's l2: 3.20731\tvalid_1's l1: 1.20734\n",
      "[500]\tvalid_0's l2: 2.88965\tvalid_0's l1: 1.15294\tvalid_1's l2: 3.11647\tvalid_1's l1: 1.18597\n",
      "[600]\tvalid_0's l2: 2.7759\tvalid_0's l1: 1.1286\tvalid_1's l2: 3.03319\tvalid_1's l1: 1.16697\n",
      "[700]\tvalid_0's l2: 2.68385\tvalid_0's l1: 1.10836\tvalid_1's l2: 2.971\tvalid_1's l1: 1.15212\n",
      "[800]\tvalid_0's l2: 2.61508\tvalid_0's l1: 1.09414\tvalid_1's l2: 2.9321\tvalid_1's l1: 1.14321\n",
      "[900]\tvalid_0's l2: 2.5521\tvalid_0's l1: 1.07918\tvalid_1's l2: 2.89563\tvalid_1's l1: 1.13334\n",
      "[1000]\tvalid_0's l2: 2.50096\tvalid_0's l1: 1.06806\tvalid_1's l2: 2.87192\tvalid_1's l1: 1.12738\n",
      "[1100]\tvalid_0's l2: 2.45136\tvalid_0's l1: 1.05732\tvalid_1's l2: 2.84649\tvalid_1's l1: 1.12117\n",
      "[1200]\tvalid_0's l2: 2.40007\tvalid_0's l1: 1.04553\tvalid_1's l2: 2.81894\tvalid_1's l1: 1.11405\n",
      "[1300]\tvalid_0's l2: 2.36033\tvalid_0's l1: 1.03563\tvalid_1's l2: 2.80041\tvalid_1's l1: 1.10857\n",
      "[1400]\tvalid_0's l2: 2.32129\tvalid_0's l1: 1.0265\tvalid_1's l2: 2.78334\tvalid_1's l1: 1.10392\n",
      "[1500]\tvalid_0's l2: 2.28882\tvalid_0's l1: 1.0188\tvalid_1's l2: 2.76924\tvalid_1's l1: 1.10047\n",
      "[1600]\tvalid_0's l2: 2.26195\tvalid_0's l1: 1.01233\tvalid_1's l2: 2.76055\tvalid_1's l1: 1.09802\n",
      "[1700]\tvalid_0's l2: 2.23792\tvalid_0's l1: 1.00674\tvalid_1's l2: 2.75528\tvalid_1's l1: 1.09664\n",
      "[1800]\tvalid_0's l2: 2.21064\tvalid_0's l1: 1.00043\tvalid_1's l2: 2.74513\tvalid_1's l1: 1.09425\n",
      "[1900]\tvalid_0's l2: 2.18212\tvalid_0's l1: 0.992944\tvalid_1's l2: 2.73318\tvalid_1's l1: 1.09071\n",
      "[2000]\tvalid_0's l2: 2.15772\tvalid_0's l1: 0.98655\tvalid_1's l2: 2.72382\tvalid_1's l1: 1.088\n",
      "[2100]\tvalid_0's l2: 2.1351\tvalid_0's l1: 0.980755\tvalid_1's l2: 2.71641\tvalid_1's l1: 1.08596\n",
      "[2200]\tvalid_0's l2: 2.113\tvalid_0's l1: 0.974902\tvalid_1's l2: 2.70835\tvalid_1's l1: 1.08358\n",
      "[2300]\tvalid_0's l2: 2.09102\tvalid_0's l1: 0.969476\tvalid_1's l2: 2.70151\tvalid_1's l1: 1.08173\n",
      "[2400]\tvalid_0's l2: 2.07015\tvalid_0's l1: 0.964286\tvalid_1's l2: 2.69362\tvalid_1's l1: 1.08003\n",
      "Early stopping, best iteration is:\n",
      "[2459]\tvalid_0's l2: 2.05778\tvalid_0's l1: 0.961284\tvalid_1's l2: 2.69039\tvalid_1's l1: 1.07917\n",
      "[CV]  colsample_bytree=1, early_stopping_rounds=20, learning_rate=0.5, n_estimators=10000, reg_alpha=2.0, reg_lambda=1.0, score=0.023, total= 6.4min\n",
      "[CV] colsample_bytree=1, early_stopping_rounds=20, learning_rate=0.5, n_estimators=10000, reg_alpha=2.0, reg_lambda=2.0 \n"
     ]
    },
    {
     "name": "stderr",
     "output_type": "stream",
     "text": [
      "[Parallel(n_jobs=1)]: Done   6 out of   6 | elapsed: 29.3min remaining:    0.0s\n"
     ]
    },
    {
     "name": "stdout",
     "output_type": "stream",
     "text": [
      "Training until validation scores don't improve for 20 rounds.\n",
      "[100]\tvalid_0's l2: 4.12846\tvalid_0's l1: 1.40103\tvalid_1's l2: 4.17293\tvalid_1's l1: 1.41049\n",
      "[200]\tvalid_0's l2: 3.51075\tvalid_0's l1: 1.27976\tvalid_1's l2: 3.60767\tvalid_1's l1: 1.29554\n",
      "[300]\tvalid_0's l2: 3.22014\tvalid_0's l1: 1.22183\tvalid_1's l2: 3.36524\tvalid_1's l1: 1.24392\n",
      "[400]\tvalid_0's l2: 3.06268\tvalid_0's l1: 1.18906\tvalid_1's l2: 3.24375\tvalid_1's l1: 1.21663\n",
      "[500]\tvalid_0's l2: 2.92142\tvalid_0's l1: 1.15994\tvalid_1's l2: 3.13723\tvalid_1's l1: 1.19331\n",
      "[600]\tvalid_0's l2: 2.81124\tvalid_0's l1: 1.13626\tvalid_1's l2: 3.05944\tvalid_1's l1: 1.17513\n",
      "[700]\tvalid_0's l2: 2.71513\tvalid_0's l1: 1.11482\tvalid_1's l2: 2.99153\tvalid_1's l1: 1.15866\n",
      "[800]\tvalid_0's l2: 2.64539\tvalid_0's l1: 1.10034\tvalid_1's l2: 2.95063\tvalid_1's l1: 1.14919\n",
      "[900]\tvalid_0's l2: 2.58816\tvalid_0's l1: 1.08844\tvalid_1's l2: 2.92299\tvalid_1's l1: 1.14253\n",
      "[1000]\tvalid_0's l2: 2.52747\tvalid_0's l1: 1.07535\tvalid_1's l2: 2.8878\tvalid_1's l1: 1.13397\n",
      "[1100]\tvalid_0's l2: 2.47795\tvalid_0's l1: 1.06353\tvalid_1's l2: 2.85805\tvalid_1's l1: 1.12653\n",
      "[1200]\tvalid_0's l2: 2.43759\tvalid_0's l1: 1.0546\tvalid_1's l2: 2.84095\tvalid_1's l1: 1.12226\n",
      "[1300]\tvalid_0's l2: 2.39695\tvalid_0's l1: 1.04529\tvalid_1's l2: 2.8217\tvalid_1's l1: 1.11719\n",
      "[1400]\tvalid_0's l2: 2.36052\tvalid_0's l1: 1.03681\tvalid_1's l2: 2.80528\tvalid_1's l1: 1.1133\n",
      "[1500]\tvalid_0's l2: 2.32057\tvalid_0's l1: 1.02782\tvalid_1's l2: 2.78563\tvalid_1's l1: 1.10863\n",
      "[1600]\tvalid_0's l2: 2.28482\tvalid_0's l1: 1.01916\tvalid_1's l2: 2.76824\tvalid_1's l1: 1.10412\n",
      "[1700]\tvalid_0's l2: 2.25489\tvalid_0's l1: 1.01188\tvalid_1's l2: 2.75611\tvalid_1's l1: 1.10081\n",
      "[1800]\tvalid_0's l2: 2.22743\tvalid_0's l1: 1.00537\tvalid_1's l2: 2.74528\tvalid_1's l1: 1.09826\n",
      "[1900]\tvalid_0's l2: 2.20144\tvalid_0's l1: 0.998809\tvalid_1's l2: 2.73526\tvalid_1's l1: 1.09541\n",
      "[2000]\tvalid_0's l2: 2.17453\tvalid_0's l1: 0.991988\tvalid_1's l2: 2.72418\tvalid_1's l1: 1.09253\n",
      "[2100]\tvalid_0's l2: 2.15292\tvalid_0's l1: 0.986387\tvalid_1's l2: 2.71826\tvalid_1's l1: 1.09073\n",
      "[2200]\tvalid_0's l2: 2.13044\tvalid_0's l1: 0.980528\tvalid_1's l2: 2.70999\tvalid_1's l1: 1.08857\n",
      "[2300]\tvalid_0's l2: 2.10761\tvalid_0's l1: 0.974489\tvalid_1's l2: 2.70225\tvalid_1's l1: 1.08618\n",
      "Early stopping, best iteration is:\n",
      "[2375]\tvalid_0's l2: 2.09223\tvalid_0's l1: 0.970471\tvalid_1's l2: 2.69712\tvalid_1's l1: 1.0847\n",
      "[CV]  colsample_bytree=1, early_stopping_rounds=20, learning_rate=0.5, n_estimators=10000, reg_alpha=2.0, reg_lambda=2.0, score=0.020, total= 5.9min\n",
      "[CV] colsample_bytree=1, early_stopping_rounds=20, learning_rate=0.5, n_estimators=10000, reg_alpha=2.0, reg_lambda=2.0 \n"
     ]
    },
    {
     "name": "stderr",
     "output_type": "stream",
     "text": [
      "[Parallel(n_jobs=1)]: Done   7 out of   7 | elapsed: 35.3min remaining:    0.0s\n"
     ]
    },
    {
     "name": "stdout",
     "output_type": "stream",
     "text": [
      "Training until validation scores don't improve for 20 rounds.\n",
      "[100]\tvalid_0's l2: 4.08425\tvalid_0's l1: 1.39442\tvalid_1's l2: 4.13947\tvalid_1's l1: 1.4044\n",
      "[200]\tvalid_0's l2: 3.54518\tvalid_0's l1: 1.28862\tvalid_1's l2: 3.65373\tvalid_1's l1: 1.30479\n",
      "[300]\tvalid_0's l2: 3.23351\tvalid_0's l1: 1.22587\tvalid_1's l2: 3.39193\tvalid_1's l1: 1.24842\n",
      "[400]\tvalid_0's l2: 3.05674\tvalid_0's l1: 1.18991\tvalid_1's l2: 3.25812\tvalid_1's l1: 1.21844\n",
      "[500]\tvalid_0's l2: 2.92104\tvalid_0's l1: 1.16367\tvalid_1's l2: 3.15664\tvalid_1's l1: 1.19781\n",
      "[600]\tvalid_0's l2: 2.80334\tvalid_0's l1: 1.13851\tvalid_1's l2: 3.07207\tvalid_1's l1: 1.17833\n",
      "[700]\tvalid_0's l2: 2.71878\tvalid_0's l1: 1.11974\tvalid_1's l2: 3.01553\tvalid_1's l1: 1.16449\n",
      "[800]\tvalid_0's l2: 2.64291\tvalid_0's l1: 1.10355\tvalid_1's l2: 2.97116\tvalid_1's l1: 1.15356\n",
      "[900]\tvalid_0's l2: 2.58627\tvalid_0's l1: 1.09159\tvalid_1's l2: 2.94248\tvalid_1's l1: 1.14664\n",
      "[1000]\tvalid_0's l2: 2.52763\tvalid_0's l1: 1.07822\tvalid_1's l2: 2.90838\tvalid_1's l1: 1.13815\n",
      "[1100]\tvalid_0's l2: 2.47841\tvalid_0's l1: 1.06687\tvalid_1's l2: 2.88168\tvalid_1's l1: 1.13166\n",
      "[1200]\tvalid_0's l2: 2.43349\tvalid_0's l1: 1.05644\tvalid_1's l2: 2.85894\tvalid_1's l1: 1.12591\n",
      "[1300]\tvalid_0's l2: 2.38527\tvalid_0's l1: 1.04565\tvalid_1's l2: 2.83318\tvalid_1's l1: 1.11973\n",
      "[1400]\tvalid_0's l2: 2.35065\tvalid_0's l1: 1.0379\tvalid_1's l2: 2.81896\tvalid_1's l1: 1.11651\n",
      "[1500]\tvalid_0's l2: 2.31618\tvalid_0's l1: 1.02903\tvalid_1's l2: 2.80109\tvalid_1's l1: 1.11152\n",
      "[1600]\tvalid_0's l2: 2.28599\tvalid_0's l1: 1.02153\tvalid_1's l2: 2.78852\tvalid_1's l1: 1.10799\n",
      "[1700]\tvalid_0's l2: 2.25584\tvalid_0's l1: 1.01355\tvalid_1's l2: 2.7748\tvalid_1's l1: 1.10381\n",
      "[1800]\tvalid_0's l2: 2.22921\tvalid_0's l1: 1.007\tvalid_1's l2: 2.76368\tvalid_1's l1: 1.10092\n",
      "[1900]\tvalid_0's l2: 2.20502\tvalid_0's l1: 1.00083\tvalid_1's l2: 2.75477\tvalid_1's l1: 1.09856\n",
      "[2000]\tvalid_0's l2: 2.1742\tvalid_0's l1: 0.993105\tvalid_1's l2: 2.73866\tvalid_1's l1: 1.09443\n",
      "[2100]\tvalid_0's l2: 2.15143\tvalid_0's l1: 0.987681\tvalid_1's l2: 2.73092\tvalid_1's l1: 1.09265\n",
      "Early stopping, best iteration is:\n",
      "[2140]\tvalid_0's l2: 2.14121\tvalid_0's l1: 0.985111\tvalid_1's l2: 2.72615\tvalid_1's l1: 1.09154\n",
      "[CV]  colsample_bytree=1, early_stopping_rounds=20, learning_rate=0.5, n_estimators=10000, reg_alpha=2.0, reg_lambda=2.0, score=0.014, total= 5.5min\n",
      "[CV] colsample_bytree=1, early_stopping_rounds=20, learning_rate=0.75, n_estimators=10000, reg_alpha=1.0, reg_lambda=1.0 \n"
     ]
    },
    {
     "name": "stderr",
     "output_type": "stream",
     "text": [
      "[Parallel(n_jobs=1)]: Done   8 out of   8 | elapsed: 40.8min remaining:    0.0s\n"
     ]
    },
    {
     "name": "stdout",
     "output_type": "stream",
     "text": [
      "Training until validation scores don't improve for 20 rounds.\n",
      "[100]\tvalid_0's l2: 3.96689\tvalid_0's l1: 1.36526\tvalid_1's l2: 4.04907\tvalid_1's l1: 1.37849\n",
      "[200]\tvalid_0's l2: 3.49642\tvalid_0's l1: 1.27693\tvalid_1's l2: 3.66098\tvalid_1's l1: 1.3011\n",
      "[300]\tvalid_0's l2: 3.23074\tvalid_0's l1: 1.2217\tvalid_1's l2: 3.46043\tvalid_1's l1: 1.25505\n",
      "[400]\tvalid_0's l2: 3.0769\tvalid_0's l1: 1.19232\tvalid_1's l2: 3.36582\tvalid_1's l1: 1.23393\n",
      "[500]\tvalid_0's l2: 2.95962\tvalid_0's l1: 1.16858\tvalid_1's l2: 3.2969\tvalid_1's l1: 1.21823\n",
      "[600]\tvalid_0's l2: 2.85517\tvalid_0's l1: 1.1463\tvalid_1's l2: 3.23619\tvalid_1's l1: 1.20322\n",
      "[700]\tvalid_0's l2: 2.77995\tvalid_0's l1: 1.13095\tvalid_1's l2: 3.20868\tvalid_1's l1: 1.19603\n",
      "[800]\tvalid_0's l2: 2.71558\tvalid_0's l1: 1.11708\tvalid_1's l2: 3.18281\tvalid_1's l1: 1.18904\n",
      "[900]\tvalid_0's l2: 2.66564\tvalid_0's l1: 1.10615\tvalid_1's l2: 3.16968\tvalid_1's l1: 1.18522\n",
      "Early stopping, best iteration is:\n",
      "[947]\tvalid_0's l2: 2.64653\tvalid_0's l1: 1.1018\tvalid_1's l2: 3.16524\tvalid_1's l1: 1.18407\n",
      "[CV]  colsample_bytree=1, early_stopping_rounds=20, learning_rate=0.75, n_estimators=10000, reg_alpha=1.0, reg_lambda=1.0, score=-0.089, total= 2.7min\n",
      "[CV] colsample_bytree=1, early_stopping_rounds=20, learning_rate=0.75, n_estimators=10000, reg_alpha=1.0, reg_lambda=1.0 \n"
     ]
    },
    {
     "name": "stderr",
     "output_type": "stream",
     "text": [
      "[Parallel(n_jobs=1)]: Done   9 out of   9 | elapsed: 43.5min remaining:    0.0s\n"
     ]
    },
    {
     "name": "stdout",
     "output_type": "stream",
     "text": [
      "Training until validation scores don't improve for 20 rounds.\n",
      "[100]\tvalid_0's l2: 4.06363\tvalid_0's l1: 1.38472\tvalid_1's l2: 4.1373\tvalid_1's l1: 1.39581\n",
      "[200]\tvalid_0's l2: 3.58015\tvalid_0's l1: 1.29437\tvalid_1's l2: 3.73439\tvalid_1's l1: 1.31555\n",
      "[300]\tvalid_0's l2: 3.31135\tvalid_0's l1: 1.24216\tvalid_1's l2: 3.53267\tvalid_1's l1: 1.27262\n",
      "[400]\tvalid_0's l2: 3.12212\tvalid_0's l1: 1.20407\tvalid_1's l2: 3.40181\tvalid_1's l1: 1.2422\n",
      "[500]\tvalid_0's l2: 2.98449\tvalid_0's l1: 1.17519\tvalid_1's l2: 3.314\tvalid_1's l1: 1.22142\n",
      "[600]\tvalid_0's l2: 2.89953\tvalid_0's l1: 1.15807\tvalid_1's l2: 3.27568\tvalid_1's l1: 1.21234\n",
      "[700]\tvalid_0's l2: 2.82088\tvalid_0's l1: 1.1421\tvalid_1's l2: 3.23858\tvalid_1's l1: 1.20428\n",
      "Early stopping, best iteration is:\n",
      "[688]\tvalid_0's l2: 2.82585\tvalid_0's l1: 1.14298\tvalid_1's l2: 3.23772\tvalid_1's l1: 1.20429\n",
      "[CV]  colsample_bytree=1, early_stopping_rounds=20, learning_rate=0.75, n_estimators=10000, reg_alpha=1.0, reg_lambda=1.0, score=-0.099, total= 2.1min\n",
      "[CV] colsample_bytree=1, early_stopping_rounds=20, learning_rate=0.75, n_estimators=10000, reg_alpha=1.0, reg_lambda=2.0 \n",
      "Training until validation scores don't improve for 20 rounds.\n",
      "[100]\tvalid_0's l2: 3.99678\tvalid_0's l1: 1.37246\tvalid_1's l2: 4.06385\tvalid_1's l1: 1.38485\n",
      "[200]\tvalid_0's l2: 3.51242\tvalid_0's l1: 1.28008\tvalid_1's l2: 3.66028\tvalid_1's l1: 1.30209\n",
      "[300]\tvalid_0's l2: 3.26436\tvalid_0's l1: 1.23041\tvalid_1's l2: 3.47842\tvalid_1's l1: 1.26206\n",
      "[400]\tvalid_0's l2: 3.08521\tvalid_0's l1: 1.19196\tvalid_1's l2: 3.35331\tvalid_1's l1: 1.23201\n",
      "[500]\tvalid_0's l2: 2.95052\tvalid_0's l1: 1.16434\tvalid_1's l2: 3.27113\tvalid_1's l1: 1.21286\n",
      "[600]\tvalid_0's l2: 2.85916\tvalid_0's l1: 1.14662\tvalid_1's l2: 3.23128\tvalid_1's l1: 1.20265\n",
      "[700]\tvalid_0's l2: 2.7869\tvalid_0's l1: 1.13093\tvalid_1's l2: 3.19876\tvalid_1's l1: 1.19466\n",
      "[800]\tvalid_0's l2: 2.71722\tvalid_0's l1: 1.11534\tvalid_1's l2: 3.16755\tvalid_1's l1: 1.18613\n",
      "[900]\tvalid_0's l2: 2.66343\tvalid_0's l1: 1.10362\tvalid_1's l2: 3.14998\tvalid_1's l1: 1.18147\n",
      "[1000]\tvalid_0's l2: 2.60682\tvalid_0's l1: 1.09202\tvalid_1's l2: 3.13195\tvalid_1's l1: 1.17707\n",
      "Early stopping, best iteration is:\n",
      "[999]\tvalid_0's l2: 2.60714\tvalid_0's l1: 1.09208\tvalid_1's l2: 3.13167\tvalid_1's l1: 1.17707\n",
      "[CV]  colsample_bytree=1, early_stopping_rounds=20, learning_rate=0.75, n_estimators=10000, reg_alpha=1.0, reg_lambda=2.0, score=-0.083, total= 2.8min\n",
      "[CV] colsample_bytree=1, early_stopping_rounds=20, learning_rate=0.75, n_estimators=10000, reg_alpha=1.0, reg_lambda=2.0 \n",
      "Training until validation scores don't improve for 20 rounds.\n",
      "[100]\tvalid_0's l2: 4.07873\tvalid_0's l1: 1.3957\tvalid_1's l2: 4.17626\tvalid_1's l1: 1.40923\n",
      "[200]\tvalid_0's l2: 3.56583\tvalid_0's l1: 1.294\tvalid_1's l2: 3.72826\tvalid_1's l1: 1.31571\n",
      "[300]\tvalid_0's l2: 3.29751\tvalid_0's l1: 1.23892\tvalid_1's l2: 3.52065\tvalid_1's l1: 1.26945\n",
      "[400]\tvalid_0's l2: 3.12243\tvalid_0's l1: 1.20284\tvalid_1's l2: 3.4068\tvalid_1's l1: 1.2425\n",
      "[500]\tvalid_0's l2: 2.99929\tvalid_0's l1: 1.1795\tvalid_1's l2: 3.3404\tvalid_1's l1: 1.22797\n",
      "[600]\tvalid_0's l2: 2.90182\tvalid_0's l1: 1.15941\tvalid_1's l2: 3.29252\tvalid_1's l1: 1.21641\n",
      "[700]\tvalid_0's l2: 2.82083\tvalid_0's l1: 1.14101\tvalid_1's l2: 3.25166\tvalid_1's l1: 1.20524\n",
      "[800]\tvalid_0's l2: 2.74873\tvalid_0's l1: 1.12678\tvalid_1's l2: 3.2241\tvalid_1's l1: 1.19829\n",
      "[900]\tvalid_0's l2: 2.69389\tvalid_0's l1: 1.1146\tvalid_1's l2: 3.20437\tvalid_1's l1: 1.19285\n",
      "Early stopping, best iteration is:\n",
      "[919]\tvalid_0's l2: 2.68117\tvalid_0's l1: 1.11177\tvalid_1's l2: 3.19723\tvalid_1's l1: 1.1912\n",
      "[CV]  colsample_bytree=1, early_stopping_rounds=20, learning_rate=0.75, n_estimators=10000, reg_alpha=1.0, reg_lambda=2.0, score=-0.087, total= 2.6min\n",
      "[CV] colsample_bytree=1, early_stopping_rounds=20, learning_rate=0.75, n_estimators=10000, reg_alpha=2.0, reg_lambda=1.0 \n",
      "Training until validation scores don't improve for 20 rounds.\n",
      "[100]\tvalid_0's l2: 4.00662\tvalid_0's l1: 1.37465\tvalid_1's l2: 4.08424\tvalid_1's l1: 1.38562\n",
      "[200]\tvalid_0's l2: 3.50407\tvalid_0's l1: 1.27795\tvalid_1's l2: 3.65341\tvalid_1's l1: 1.29856\n",
      "[300]\tvalid_0's l2: 3.26301\tvalid_0's l1: 1.22977\tvalid_1's l2: 3.47527\tvalid_1's l1: 1.25909\n",
      "[400]\tvalid_0's l2: 3.09916\tvalid_0's l1: 1.196\tvalid_1's l2: 3.36881\tvalid_1's l1: 1.23439\n",
      "[500]\tvalid_0's l2: 2.97274\tvalid_0's l1: 1.16921\tvalid_1's l2: 3.29368\tvalid_1's l1: 1.21631\n",
      "[600]\tvalid_0's l2: 2.87465\tvalid_0's l1: 1.14939\tvalid_1's l2: 3.23892\tvalid_1's l1: 1.20421\n",
      "Early stopping, best iteration is:\n",
      "[675]\tvalid_0's l2: 2.8067\tvalid_0's l1: 1.13619\tvalid_1's l2: 3.21399\tvalid_1's l1: 1.19781\n",
      "[CV]  colsample_bytree=1, early_stopping_rounds=20, learning_rate=0.75, n_estimators=10000, reg_alpha=2.0, reg_lambda=1.0, score=-0.101, total= 2.1min\n",
      "[CV] colsample_bytree=1, early_stopping_rounds=20, learning_rate=0.75, n_estimators=10000, reg_alpha=2.0, reg_lambda=1.0 \n",
      "Training until validation scores don't improve for 20 rounds.\n",
      "[100]\tvalid_0's l2: 4.08136\tvalid_0's l1: 1.3909\tvalid_1's l2: 4.16329\tvalid_1's l1: 1.40418\n",
      "[200]\tvalid_0's l2: 3.5135\tvalid_0's l1: 1.28081\tvalid_1's l2: 3.67636\tvalid_1's l1: 1.30403\n",
      "[300]\tvalid_0's l2: 3.25939\tvalid_0's l1: 1.23137\tvalid_1's l2: 3.48347\tvalid_1's l1: 1.26377\n",
      "[400]\tvalid_0's l2: 3.10967\tvalid_0's l1: 1.20101\tvalid_1's l2: 3.38717\tvalid_1's l1: 1.24141\n",
      "[500]\tvalid_0's l2: 2.97017\tvalid_0's l1: 1.17159\tvalid_1's l2: 3.30426\tvalid_1's l1: 1.22017\n",
      "[600]\tvalid_0's l2: 2.86819\tvalid_0's l1: 1.15014\tvalid_1's l2: 3.24987\tvalid_1's l1: 1.207\n",
      "[700]\tvalid_0's l2: 2.79654\tvalid_0's l1: 1.13453\tvalid_1's l2: 3.21644\tvalid_1's l1: 1.19836\n",
      "[800]\tvalid_0's l2: 2.73666\tvalid_0's l1: 1.12197\tvalid_1's l2: 3.19714\tvalid_1's l1: 1.1931\n",
      "Early stopping, best iteration is:\n",
      "[786]\tvalid_0's l2: 2.74249\tvalid_0's l1: 1.12302\tvalid_1's l2: 3.19649\tvalid_1's l1: 1.19307\n",
      "[CV]  colsample_bytree=1, early_stopping_rounds=20, learning_rate=0.75, n_estimators=10000, reg_alpha=2.0, reg_lambda=1.0, score=-0.093, total= 2.3min\n",
      "[CV] colsample_bytree=1, early_stopping_rounds=20, learning_rate=0.75, n_estimators=10000, reg_alpha=2.0, reg_lambda=2.0 \n",
      "Training until validation scores don't improve for 20 rounds.\n",
      "[100]\tvalid_0's l2: 3.99353\tvalid_0's l1: 1.37098\tvalid_1's l2: 4.07424\tvalid_1's l1: 1.3841\n",
      "[200]\tvalid_0's l2: 3.48255\tvalid_0's l1: 1.27367\tvalid_1's l2: 3.64144\tvalid_1's l1: 1.29657\n",
      "[300]\tvalid_0's l2: 3.2133\tvalid_0's l1: 1.21731\tvalid_1's l2: 3.43018\tvalid_1's l1: 1.249\n",
      "[400]\tvalid_0's l2: 3.05258\tvalid_0's l1: 1.18574\tvalid_1's l2: 3.33008\tvalid_1's l1: 1.22636\n",
      "[500]\tvalid_0's l2: 2.93694\tvalid_0's l1: 1.16127\tvalid_1's l2: 3.26137\tvalid_1's l1: 1.21014\n",
      "[600]\tvalid_0's l2: 2.83653\tvalid_0's l1: 1.13971\tvalid_1's l2: 3.20366\tvalid_1's l1: 1.19573\n",
      "[700]\tvalid_0's l2: 2.76095\tvalid_0's l1: 1.12509\tvalid_1's l2: 3.17256\tvalid_1's l1: 1.18876\n",
      "Early stopping, best iteration is:\n",
      "[744]\tvalid_0's l2: 2.73406\tvalid_0's l1: 1.11975\tvalid_1's l2: 3.16551\tvalid_1's l1: 1.18668\n",
      "[CV]  colsample_bytree=1, early_stopping_rounds=20, learning_rate=0.75, n_estimators=10000, reg_alpha=2.0, reg_lambda=2.0, score=-0.089, total= 2.2min\n",
      "[CV] colsample_bytree=1, early_stopping_rounds=20, learning_rate=0.75, n_estimators=10000, reg_alpha=2.0, reg_lambda=2.0 \n",
      "Training until validation scores don't improve for 20 rounds.\n",
      "[100]\tvalid_0's l2: 4.03988\tvalid_0's l1: 1.38241\tvalid_1's l2: 4.12978\tvalid_1's l1: 1.39541\n",
      "[200]\tvalid_0's l2: 3.54304\tvalid_0's l1: 1.28984\tvalid_1's l2: 3.71224\tvalid_1's l1: 1.3131\n",
      "[300]\tvalid_0's l2: 3.29194\tvalid_0's l1: 1.23768\tvalid_1's l2: 3.5164\tvalid_1's l1: 1.2689\n",
      "[400]\tvalid_0's l2: 3.1051\tvalid_0's l1: 1.19961\tvalid_1's l2: 3.38114\tvalid_1's l1: 1.23838\n",
      "[500]\tvalid_0's l2: 2.97804\tvalid_0's l1: 1.17499\tvalid_1's l2: 3.30248\tvalid_1's l1: 1.221\n",
      "[600]\tvalid_0's l2: 2.86649\tvalid_0's l1: 1.15218\tvalid_1's l2: 3.23514\tvalid_1's l1: 1.20603\n",
      "[700]\tvalid_0's l2: 2.79803\tvalid_0's l1: 1.13723\tvalid_1's l2: 3.20736\tvalid_1's l1: 1.19848\n",
      "[800]\tvalid_0's l2: 2.73226\tvalid_0's l1: 1.12299\tvalid_1's l2: 3.17838\tvalid_1's l1: 1.1912\n",
      "[900]\tvalid_0's l2: 2.67748\tvalid_0's l1: 1.11106\tvalid_1's l2: 3.16258\tvalid_1's l1: 1.18635\n",
      "[1000]\tvalid_0's l2: 2.61596\tvalid_0's l1: 1.09813\tvalid_1's l2: 3.13976\tvalid_1's l1: 1.18096\n",
      "Early stopping, best iteration is:\n",
      "[1076]\tvalid_0's l2: 2.58121\tvalid_0's l1: 1.08977\tvalid_1's l2: 3.12705\tvalid_1's l1: 1.17743\n"
     ]
    },
    {
     "name": "stdout",
     "output_type": "stream",
     "text": [
      "[CV]  colsample_bytree=1, early_stopping_rounds=20, learning_rate=0.75, n_estimators=10000, reg_alpha=2.0, reg_lambda=2.0, score=-0.084, total= 3.1min\n",
      "[CV] colsample_bytree=0.7, early_stopping_rounds=20, learning_rate=0.5, n_estimators=10000, reg_alpha=1.0, reg_lambda=1.0 \n",
      "Training until validation scores don't improve for 20 rounds.\n",
      "[100]\tvalid_0's l2: 4.27838\tvalid_0's l1: 1.43419\tvalid_1's l2: 4.32813\tvalid_1's l1: 1.44329\n",
      "[200]\tvalid_0's l2: 3.67898\tvalid_0's l1: 1.31789\tvalid_1's l2: 3.77978\tvalid_1's l1: 1.33379\n",
      "[300]\tvalid_0's l2: 3.40464\tvalid_0's l1: 1.26259\tvalid_1's l2: 3.54729\tvalid_1's l1: 1.28477\n",
      "[400]\tvalid_0's l2: 3.19341\tvalid_0's l1: 1.22054\tvalid_1's l2: 3.37603\tvalid_1's l1: 1.24817\n",
      "[500]\tvalid_0's l2: 3.06605\tvalid_0's l1: 1.19463\tvalid_1's l2: 3.285\tvalid_1's l1: 1.22827\n",
      "[600]\tvalid_0's l2: 2.94497\tvalid_0's l1: 1.17055\tvalid_1's l2: 3.19994\tvalid_1's l1: 1.20912\n",
      "[700]\tvalid_0's l2: 2.84598\tvalid_0's l1: 1.14954\tvalid_1's l2: 3.13024\tvalid_1's l1: 1.19307\n",
      "[800]\tvalid_0's l2: 2.74958\tvalid_0's l1: 1.12668\tvalid_1's l2: 3.05941\tvalid_1's l1: 1.17493\n",
      "[900]\tvalid_0's l2: 2.68524\tvalid_0's l1: 1.11295\tvalid_1's l2: 3.02329\tvalid_1's l1: 1.16647\n",
      "[1000]\tvalid_0's l2: 2.62594\tvalid_0's l1: 1.10037\tvalid_1's l2: 2.9905\tvalid_1's l1: 1.15857\n",
      "[1100]\tvalid_0's l2: 2.57416\tvalid_0's l1: 1.08894\tvalid_1's l2: 2.96357\tvalid_1's l1: 1.15213\n",
      "[1200]\tvalid_0's l2: 2.5161\tvalid_0's l1: 1.07571\tvalid_1's l2: 2.92902\tvalid_1's l1: 1.14347\n",
      "[1300]\tvalid_0's l2: 2.47842\tvalid_0's l1: 1.06747\tvalid_1's l2: 2.91422\tvalid_1's l1: 1.13981\n",
      "[1400]\tvalid_0's l2: 2.43839\tvalid_0's l1: 1.05894\tvalid_1's l2: 2.89731\tvalid_1's l1: 1.13584\n",
      "[1500]\tvalid_0's l2: 2.40425\tvalid_0's l1: 1.05106\tvalid_1's l2: 2.88281\tvalid_1's l1: 1.13196\n",
      "[1600]\tvalid_0's l2: 2.36962\tvalid_0's l1: 1.0427\tvalid_1's l2: 2.86443\tvalid_1's l1: 1.12751\n",
      "[1700]\tvalid_0's l2: 2.33877\tvalid_0's l1: 1.035\tvalid_1's l2: 2.85037\tvalid_1's l1: 1.1236\n",
      "[1800]\tvalid_0's l2: 2.31083\tvalid_0's l1: 1.02831\tvalid_1's l2: 2.83863\tvalid_1's l1: 1.12067\n",
      "[1900]\tvalid_0's l2: 2.28833\tvalid_0's l1: 1.02267\tvalid_1's l2: 2.83211\tvalid_1's l1: 1.11901\n",
      "[2000]\tvalid_0's l2: 2.26092\tvalid_0's l1: 1.01573\tvalid_1's l2: 2.82146\tvalid_1's l1: 1.11603\n",
      "[2100]\tvalid_0's l2: 2.23853\tvalid_0's l1: 1.01008\tvalid_1's l2: 2.81516\tvalid_1's l1: 1.11424\n",
      "[2200]\tvalid_0's l2: 2.21451\tvalid_0's l1: 1.00378\tvalid_1's l2: 2.80526\tvalid_1's l1: 1.11152\n",
      "Early stopping, best iteration is:\n",
      "[2271]\tvalid_0's l2: 2.20089\tvalid_0's l1: 1.00053\tvalid_1's l2: 2.80192\tvalid_1's l1: 1.11078\n",
      "[CV]  colsample_bytree=0.7, early_stopping_rounds=20, learning_rate=0.5, n_estimators=10000, reg_alpha=1.0, reg_lambda=1.0, score=-0.006, total= 5.3min\n",
      "[CV] colsample_bytree=0.7, early_stopping_rounds=20, learning_rate=0.5, n_estimators=10000, reg_alpha=1.0, reg_lambda=1.0 \n",
      "Training until validation scores don't improve for 20 rounds.\n",
      "[100]\tvalid_0's l2: 4.31788\tvalid_0's l1: 1.44297\tvalid_1's l2: 4.37142\tvalid_1's l1: 1.45215\n",
      "[200]\tvalid_0's l2: 3.73186\tvalid_0's l1: 1.32862\tvalid_1's l2: 3.83035\tvalid_1's l1: 1.34288\n",
      "[300]\tvalid_0's l2: 3.40545\tvalid_0's l1: 1.26221\tvalid_1's l2: 3.54056\tvalid_1's l1: 1.28162\n",
      "[400]\tvalid_0's l2: 3.172\tvalid_0's l1: 1.21728\tvalid_1's l2: 3.35387\tvalid_1's l1: 1.24294\n",
      "[500]\tvalid_0's l2: 3.03945\tvalid_0's l1: 1.19083\tvalid_1's l2: 3.25986\tvalid_1's l1: 1.22243\n",
      "[600]\tvalid_0's l2: 2.93147\tvalid_0's l1: 1.16659\tvalid_1's l2: 3.17909\tvalid_1's l1: 1.2031\n",
      "[700]\tvalid_0's l2: 2.83861\tvalid_0's l1: 1.14831\tvalid_1's l2: 3.11895\tvalid_1's l1: 1.19028\n",
      "[800]\tvalid_0's l2: 2.75968\tvalid_0's l1: 1.13175\tvalid_1's l2: 3.06993\tvalid_1's l1: 1.179\n",
      "[900]\tvalid_0's l2: 2.69423\tvalid_0's l1: 1.11636\tvalid_1's l2: 3.02853\tvalid_1's l1: 1.16811\n",
      "[1000]\tvalid_0's l2: 2.63383\tvalid_0's l1: 1.10252\tvalid_1's l2: 2.989\tvalid_1's l1: 1.15841\n",
      "[1100]\tvalid_0's l2: 2.58097\tvalid_0's l1: 1.09115\tvalid_1's l2: 2.96248\tvalid_1's l1: 1.15166\n",
      "[1200]\tvalid_0's l2: 2.53588\tvalid_0's l1: 1.08143\tvalid_1's l2: 2.93899\tvalid_1's l1: 1.14604\n",
      "[1300]\tvalid_0's l2: 2.49256\tvalid_0's l1: 1.07132\tvalid_1's l2: 2.9156\tvalid_1's l1: 1.14049\n",
      "[1400]\tvalid_0's l2: 2.4484\tvalid_0's l1: 1.06142\tvalid_1's l2: 2.89226\tvalid_1's l1: 1.13479\n",
      "[1500]\tvalid_0's l2: 2.41257\tvalid_0's l1: 1.05242\tvalid_1's l2: 2.87452\tvalid_1's l1: 1.12996\n",
      "[1600]\tvalid_0's l2: 2.37965\tvalid_0's l1: 1.04496\tvalid_1's l2: 2.86113\tvalid_1's l1: 1.12666\n",
      "[1700]\tvalid_0's l2: 2.34705\tvalid_0's l1: 1.03753\tvalid_1's l2: 2.84773\tvalid_1's l1: 1.12333\n",
      "[1800]\tvalid_0's l2: 2.31867\tvalid_0's l1: 1.03089\tvalid_1's l2: 2.83852\tvalid_1's l1: 1.12081\n",
      "[1900]\tvalid_0's l2: 2.29096\tvalid_0's l1: 1.02411\tvalid_1's l2: 2.82595\tvalid_1's l1: 1.11776\n",
      "[2000]\tvalid_0's l2: 2.26435\tvalid_0's l1: 1.01769\tvalid_1's l2: 2.81673\tvalid_1's l1: 1.11519\n",
      "Early stopping, best iteration is:\n",
      "[2026]\tvalid_0's l2: 2.25743\tvalid_0's l1: 1.01593\tvalid_1's l2: 2.81357\tvalid_1's l1: 1.11425\n",
      "[CV]  colsample_bytree=0.7, early_stopping_rounds=20, learning_rate=0.5, n_estimators=10000, reg_alpha=1.0, reg_lambda=1.0, score=-0.011, total= 4.7min\n",
      "[CV] colsample_bytree=0.7, early_stopping_rounds=20, learning_rate=0.5, n_estimators=10000, reg_alpha=1.0, reg_lambda=2.0 \n",
      "Training until validation scores don't improve for 20 rounds.\n",
      "[100]\tvalid_0's l2: 4.26821\tvalid_0's l1: 1.43439\tvalid_1's l2: 4.31796\tvalid_1's l1: 1.44283\n",
      "[200]\tvalid_0's l2: 3.6672\tvalid_0's l1: 1.31836\tvalid_1's l2: 3.76682\tvalid_1's l1: 1.33323\n",
      "[300]\tvalid_0's l2: 3.37081\tvalid_0's l1: 1.25947\tvalid_1's l2: 3.51006\tvalid_1's l1: 1.27968\n",
      "[400]\tvalid_0's l2: 3.14708\tvalid_0's l1: 1.21255\tvalid_1's l2: 3.32449\tvalid_1's l1: 1.2382\n",
      "[500]\tvalid_0's l2: 3.02171\tvalid_0's l1: 1.18644\tvalid_1's l2: 3.23253\tvalid_1's l1: 1.21737\n",
      "[600]\tvalid_0's l2: 2.90894\tvalid_0's l1: 1.16357\tvalid_1's l2: 3.15337\tvalid_1's l1: 1.20016\n",
      "[700]\tvalid_0's l2: 2.7975\tvalid_0's l1: 1.14063\tvalid_1's l2: 3.07221\tvalid_1's l1: 1.18233\n",
      "[800]\tvalid_0's l2: 2.71644\tvalid_0's l1: 1.12152\tvalid_1's l2: 3.01329\tvalid_1's l1: 1.16745\n",
      "[900]\tvalid_0's l2: 2.64804\tvalid_0's l1: 1.10731\tvalid_1's l2: 2.97128\tvalid_1's l1: 1.15791\n",
      "[1000]\tvalid_0's l2: 2.59758\tvalid_0's l1: 1.09619\tvalid_1's l2: 2.94593\tvalid_1's l1: 1.15151\n",
      "[1100]\tvalid_0's l2: 2.53924\tvalid_0's l1: 1.08362\tvalid_1's l2: 2.91162\tvalid_1's l1: 1.14349\n",
      "[1200]\tvalid_0's l2: 2.49717\tvalid_0's l1: 1.07397\tvalid_1's l2: 2.89053\tvalid_1's l1: 1.13841\n",
      "[1300]\tvalid_0's l2: 2.45642\tvalid_0's l1: 1.06478\tvalid_1's l2: 2.87187\tvalid_1's l1: 1.13376\n",
      "[1400]\tvalid_0's l2: 2.41849\tvalid_0's l1: 1.05655\tvalid_1's l2: 2.85529\tvalid_1's l1: 1.12997\n",
      "[1500]\tvalid_0's l2: 2.38677\tvalid_0's l1: 1.04873\tvalid_1's l2: 2.8399\tvalid_1's l1: 1.12586\n",
      "[1600]\tvalid_0's l2: 2.35095\tvalid_0's l1: 1.03982\tvalid_1's l2: 2.82321\tvalid_1's l1: 1.12117\n",
      "[1700]\tvalid_0's l2: 2.31797\tvalid_0's l1: 1.03202\tvalid_1's l2: 2.80851\tvalid_1's l1: 1.11735\n",
      "[1800]\tvalid_0's l2: 2.29697\tvalid_0's l1: 1.02639\tvalid_1's l2: 2.80221\tvalid_1's l1: 1.11526\n",
      "[1900]\tvalid_0's l2: 2.27008\tvalid_0's l1: 1.01979\tvalid_1's l2: 2.79306\tvalid_1's l1: 1.1126\n",
      "Early stopping, best iteration is:\n",
      "[1930]\tvalid_0's l2: 2.26282\tvalid_0's l1: 1.01792\tvalid_1's l2: 2.79093\tvalid_1's l1: 1.11196\n",
      "[CV]  colsample_bytree=0.7, early_stopping_rounds=20, learning_rate=0.5, n_estimators=10000, reg_alpha=1.0, reg_lambda=2.0, score=-0.008, total= 4.4min\n",
      "[CV] colsample_bytree=0.7, early_stopping_rounds=20, learning_rate=0.5, n_estimators=10000, reg_alpha=1.0, reg_lambda=2.0 \n",
      "Training until validation scores don't improve for 20 rounds.\n",
      "[100]\tvalid_0's l2: 4.29113\tvalid_0's l1: 1.43518\tvalid_1's l2: 4.33329\tvalid_1's l1: 1.44273\n",
      "[200]\tvalid_0's l2: 3.69096\tvalid_0's l1: 1.32256\tvalid_1's l2: 3.79259\tvalid_1's l1: 1.33665\n",
      "[300]\tvalid_0's l2: 3.40244\tvalid_0's l1: 1.26414\tvalid_1's l2: 3.54484\tvalid_1's l1: 1.28425\n",
      "[400]\tvalid_0's l2: 3.18646\tvalid_0's l1: 1.21937\tvalid_1's l2: 3.36297\tvalid_1's l1: 1.24476\n",
      "[500]\tvalid_0's l2: 3.04175\tvalid_0's l1: 1.18964\tvalid_1's l2: 3.25795\tvalid_1's l1: 1.22093\n",
      "[600]\tvalid_0's l2: 2.92544\tvalid_0's l1: 1.16487\tvalid_1's l2: 3.17757\tvalid_1's l1: 1.20189\n",
      "[700]\tvalid_0's l2: 2.84425\tvalid_0's l1: 1.14811\tvalid_1's l2: 3.12542\tvalid_1's l1: 1.19027\n",
      "[800]\tvalid_0's l2: 2.76958\tvalid_0's l1: 1.13191\tvalid_1's l2: 3.07861\tvalid_1's l1: 1.17927\n"
     ]
    },
    {
     "name": "stdout",
     "output_type": "stream",
     "text": [
      "[900]\tvalid_0's l2: 2.70689\tvalid_0's l1: 1.11896\tvalid_1's l2: 3.04656\tvalid_1's l1: 1.17172\n",
      "[1000]\tvalid_0's l2: 2.64215\tvalid_0's l1: 1.10439\tvalid_1's l2: 3.00486\tvalid_1's l1: 1.16169\n",
      "[1100]\tvalid_0's l2: 2.59214\tvalid_0's l1: 1.09309\tvalid_1's l2: 2.97687\tvalid_1's l1: 1.15473\n",
      "[1200]\tvalid_0's l2: 2.53007\tvalid_0's l1: 1.07929\tvalid_1's l2: 2.93694\tvalid_1's l1: 1.14569\n",
      "Early stopping, best iteration is:\n",
      "[1223]\tvalid_0's l2: 2.52268\tvalid_0's l1: 1.07758\tvalid_1's l2: 2.93416\tvalid_1's l1: 1.14496\n",
      "[CV]  colsample_bytree=0.7, early_stopping_rounds=20, learning_rate=0.5, n_estimators=10000, reg_alpha=1.0, reg_lambda=2.0, score=-0.029, total= 3.0min\n",
      "[CV] colsample_bytree=0.7, early_stopping_rounds=20, learning_rate=0.5, n_estimators=10000, reg_alpha=2.0, reg_lambda=1.0 \n",
      "Training until validation scores don't improve for 20 rounds.\n",
      "[100]\tvalid_0's l2: 4.27171\tvalid_0's l1: 1.43626\tvalid_1's l2: 4.3162\tvalid_1's l1: 1.44464\n",
      "[200]\tvalid_0's l2: 3.73377\tvalid_0's l1: 1.33102\tvalid_1's l2: 3.82793\tvalid_1's l1: 1.34571\n",
      "[300]\tvalid_0's l2: 3.3844\tvalid_0's l1: 1.25869\tvalid_1's l2: 3.51282\tvalid_1's l1: 1.27805\n",
      "[400]\tvalid_0's l2: 3.16365\tvalid_0's l1: 1.21227\tvalid_1's l2: 3.33217\tvalid_1's l1: 1.23723\n",
      "[500]\tvalid_0's l2: 3.0241\tvalid_0's l1: 1.18393\tvalid_1's l2: 3.22868\tvalid_1's l1: 1.21415\n",
      "[600]\tvalid_0's l2: 2.91032\tvalid_0's l1: 1.16034\tvalid_1's l2: 3.14662\tvalid_1's l1: 1.19603\n",
      "[700]\tvalid_0's l2: 2.82404\tvalid_0's l1: 1.14216\tvalid_1's l2: 3.09004\tvalid_1's l1: 1.18294\n",
      "[800]\tvalid_0's l2: 2.72522\tvalid_0's l1: 1.12256\tvalid_1's l2: 3.02454\tvalid_1's l1: 1.16886\n",
      "[900]\tvalid_0's l2: 2.65927\tvalid_0's l1: 1.10828\tvalid_1's l2: 2.98413\tvalid_1's l1: 1.1594\n",
      "[1000]\tvalid_0's l2: 2.60116\tvalid_0's l1: 1.09594\tvalid_1's l2: 2.95362\tvalid_1's l1: 1.152\n",
      "[1100]\tvalid_0's l2: 2.55423\tvalid_0's l1: 1.08496\tvalid_1's l2: 2.92878\tvalid_1's l1: 1.1456\n",
      "[1200]\tvalid_0's l2: 2.51187\tvalid_0's l1: 1.07574\tvalid_1's l2: 2.90686\tvalid_1's l1: 1.14062\n",
      "[1300]\tvalid_0's l2: 2.46421\tvalid_0's l1: 1.06433\tvalid_1's l2: 2.88094\tvalid_1's l1: 1.13377\n",
      "[1400]\tvalid_0's l2: 2.42651\tvalid_0's l1: 1.05535\tvalid_1's l2: 2.86185\tvalid_1's l1: 1.12886\n",
      "[1500]\tvalid_0's l2: 2.3885\tvalid_0's l1: 1.04661\tvalid_1's l2: 2.84331\tvalid_1's l1: 1.12437\n",
      "[1600]\tvalid_0's l2: 2.35833\tvalid_0's l1: 1.03971\tvalid_1's l2: 2.83162\tvalid_1's l1: 1.12148\n",
      "[1700]\tvalid_0's l2: 2.33266\tvalid_0's l1: 1.03348\tvalid_1's l2: 2.82297\tvalid_1's l1: 1.11916\n",
      "[1800]\tvalid_0's l2: 2.3044\tvalid_0's l1: 1.02669\tvalid_1's l2: 2.8114\tvalid_1's l1: 1.1161\n",
      "[1900]\tvalid_0's l2: 2.27548\tvalid_0's l1: 1.01945\tvalid_1's l2: 2.79904\tvalid_1's l1: 1.11269\n",
      "Early stopping, best iteration is:\n",
      "[1962]\tvalid_0's l2: 2.26151\tvalid_0's l1: 1.01603\tvalid_1's l2: 2.79526\tvalid_1's l1: 1.11164\n",
      "[CV]  colsample_bytree=0.7, early_stopping_rounds=20, learning_rate=0.5, n_estimators=10000, reg_alpha=2.0, reg_lambda=1.0, score=-0.009, total= 4.4min\n",
      "[CV] colsample_bytree=0.7, early_stopping_rounds=20, learning_rate=0.5, n_estimators=10000, reg_alpha=2.0, reg_lambda=1.0 \n",
      "Training until validation scores don't improve for 20 rounds.\n",
      "[100]\tvalid_0's l2: 4.28805\tvalid_0's l1: 1.43417\tvalid_1's l2: 4.33641\tvalid_1's l1: 1.44269\n",
      "[200]\tvalid_0's l2: 3.70936\tvalid_0's l1: 1.32246\tvalid_1's l2: 3.80317\tvalid_1's l1: 1.33619\n",
      "[300]\tvalid_0's l2: 3.39265\tvalid_0's l1: 1.25723\tvalid_1's l2: 3.5351\tvalid_1's l1: 1.27767\n",
      "[400]\tvalid_0's l2: 3.21719\tvalid_0's l1: 1.22369\tvalid_1's l2: 3.4025\tvalid_1's l1: 1.25052\n",
      "[500]\tvalid_0's l2: 3.06804\tvalid_0's l1: 1.1936\tvalid_1's l2: 3.2907\tvalid_1's l1: 1.22597\n",
      "[600]\tvalid_0's l2: 2.92061\tvalid_0's l1: 1.16308\tvalid_1's l2: 3.17703\tvalid_1's l1: 1.20037\n",
      "[700]\tvalid_0's l2: 2.84626\tvalid_0's l1: 1.14669\tvalid_1's l2: 3.12833\tvalid_1's l1: 1.18863\n",
      "[800]\tvalid_0's l2: 2.77248\tvalid_0's l1: 1.13067\tvalid_1's l2: 3.08058\tvalid_1's l1: 1.17716\n",
      "[900]\tvalid_0's l2: 2.70503\tvalid_0's l1: 1.11569\tvalid_1's l2: 3.03808\tvalid_1's l1: 1.16695\n",
      "[1000]\tvalid_0's l2: 2.63512\tvalid_0's l1: 1.10058\tvalid_1's l2: 2.99414\tvalid_1's l1: 1.15659\n",
      "[1100]\tvalid_0's l2: 2.57522\tvalid_0's l1: 1.08727\tvalid_1's l2: 2.95655\tvalid_1's l1: 1.14773\n",
      "[1200]\tvalid_0's l2: 2.52255\tvalid_0's l1: 1.07646\tvalid_1's l2: 2.92903\tvalid_1's l1: 1.14188\n",
      "[1300]\tvalid_0's l2: 2.48379\tvalid_0's l1: 1.06765\tvalid_1's l2: 2.91069\tvalid_1's l1: 1.13737\n",
      "[1400]\tvalid_0's l2: 2.44461\tvalid_0's l1: 1.05891\tvalid_1's l2: 2.89149\tvalid_1's l1: 1.13279\n",
      "[1500]\tvalid_0's l2: 2.41062\tvalid_0's l1: 1.05111\tvalid_1's l2: 2.87751\tvalid_1's l1: 1.1291\n",
      "[1600]\tvalid_0's l2: 2.3782\tvalid_0's l1: 1.04398\tvalid_1's l2: 2.8668\tvalid_1's l1: 1.12646\n",
      "[1700]\tvalid_0's l2: 2.34973\tvalid_0's l1: 1.03737\tvalid_1's l2: 2.85589\tvalid_1's l1: 1.12381\n",
      "[1800]\tvalid_0's l2: 2.31911\tvalid_0's l1: 1.02987\tvalid_1's l2: 2.84114\tvalid_1's l1: 1.11989\n",
      "[1900]\tvalid_0's l2: 2.29263\tvalid_0's l1: 1.02348\tvalid_1's l2: 2.83136\tvalid_1's l1: 1.11734\n",
      "[2000]\tvalid_0's l2: 2.26662\tvalid_0's l1: 1.01739\tvalid_1's l2: 2.82147\tvalid_1's l1: 1.11481\n",
      "[2100]\tvalid_0's l2: 2.24704\tvalid_0's l1: 1.0125\tvalid_1's l2: 2.81623\tvalid_1's l1: 1.11341\n",
      "Early stopping, best iteration is:\n",
      "[2112]\tvalid_0's l2: 2.24389\tvalid_0's l1: 1.0116\tvalid_1's l2: 2.81406\tvalid_1's l1: 1.11284\n",
      "[CV]  colsample_bytree=0.7, early_stopping_rounds=20, learning_rate=0.5, n_estimators=10000, reg_alpha=2.0, reg_lambda=1.0, score=-0.004, total= 4.7min\n",
      "[CV] colsample_bytree=0.7, early_stopping_rounds=20, learning_rate=0.5, n_estimators=10000, reg_alpha=2.0, reg_lambda=2.0 \n",
      "Training until validation scores don't improve for 20 rounds.\n",
      "[100]\tvalid_0's l2: 4.28836\tvalid_0's l1: 1.43542\tvalid_1's l2: 4.33121\tvalid_1's l1: 1.44319\n",
      "[200]\tvalid_0's l2: 3.70282\tvalid_0's l1: 1.32379\tvalid_1's l2: 3.79539\tvalid_1's l1: 1.33816\n",
      "[300]\tvalid_0's l2: 3.39786\tvalid_0's l1: 1.26454\tvalid_1's l2: 3.53671\tvalid_1's l1: 1.28484\n",
      "[400]\tvalid_0's l2: 3.17863\tvalid_0's l1: 1.22103\tvalid_1's l2: 3.35477\tvalid_1's l1: 1.24716\n",
      "[500]\tvalid_0's l2: 3.03141\tvalid_0's l1: 1.1887\tvalid_1's l2: 3.23743\tvalid_1's l1: 1.21991\n",
      "[600]\tvalid_0's l2: 2.93035\tvalid_0's l1: 1.16746\tvalid_1's l2: 3.16859\tvalid_1's l1: 1.20408\n",
      "[700]\tvalid_0's l2: 2.82795\tvalid_0's l1: 1.14656\tvalid_1's l2: 3.10082\tvalid_1's l1: 1.18853\n",
      "[800]\tvalid_0's l2: 2.73464\tvalid_0's l1: 1.12579\tvalid_1's l2: 3.03757\tvalid_1's l1: 1.17278\n",
      "[900]\tvalid_0's l2: 2.66935\tvalid_0's l1: 1.11003\tvalid_1's l2: 2.99376\tvalid_1's l1: 1.16125\n",
      "[1000]\tvalid_0's l2: 2.60825\tvalid_0's l1: 1.09611\tvalid_1's l2: 2.9552\tvalid_1's l1: 1.15176\n",
      "[1100]\tvalid_0's l2: 2.55913\tvalid_0's l1: 1.08599\tvalid_1's l2: 2.93105\tvalid_1's l1: 1.14627\n",
      "[1200]\tvalid_0's l2: 2.51182\tvalid_0's l1: 1.07518\tvalid_1's l2: 2.90541\tvalid_1's l1: 1.1397\n",
      "[1300]\tvalid_0's l2: 2.47347\tvalid_0's l1: 1.06659\tvalid_1's l2: 2.88749\tvalid_1's l1: 1.1354\n",
      "[1400]\tvalid_0's l2: 2.43296\tvalid_0's l1: 1.05768\tvalid_1's l2: 2.86846\tvalid_1's l1: 1.13081\n",
      "[1500]\tvalid_0's l2: 2.40096\tvalid_0's l1: 1.05009\tvalid_1's l2: 2.85741\tvalid_1's l1: 1.12755\n",
      "Early stopping, best iteration is:\n",
      "[1490]\tvalid_0's l2: 2.40306\tvalid_0's l1: 1.05053\tvalid_1's l2: 2.85691\tvalid_1's l1: 1.12749\n",
      "[CV]  colsample_bytree=0.7, early_stopping_rounds=20, learning_rate=0.5, n_estimators=10000, reg_alpha=2.0, reg_lambda=2.0, score=-0.021, total= 3.6min\n",
      "[CV] colsample_bytree=0.7, early_stopping_rounds=20, learning_rate=0.5, n_estimators=10000, reg_alpha=2.0, reg_lambda=2.0 \n",
      "Training until validation scores don't improve for 20 rounds.\n",
      "[100]\tvalid_0's l2: 4.26537\tvalid_0's l1: 1.42731\tvalid_1's l2: 4.31616\tvalid_1's l1: 1.43668\n",
      "[200]\tvalid_0's l2: 3.70371\tvalid_0's l1: 1.31946\tvalid_1's l2: 3.80638\tvalid_1's l1: 1.33522\n",
      "[300]\tvalid_0's l2: 3.37933\tvalid_0's l1: 1.25535\tvalid_1's l2: 3.52459\tvalid_1's l1: 1.2771\n",
      "[400]\tvalid_0's l2: 3.19868\tvalid_0's l1: 1.21989\tvalid_1's l2: 3.3866\tvalid_1's l1: 1.24784\n",
      "[500]\tvalid_0's l2: 3.04979\tvalid_0's l1: 1.18832\tvalid_1's l2: 3.26875\tvalid_1's l1: 1.22106\n",
      "[600]\tvalid_0's l2: 2.93596\tvalid_0's l1: 1.16521\tvalid_1's l2: 3.18878\tvalid_1's l1: 1.20295\n",
      "[700]\tvalid_0's l2: 2.85055\tvalid_0's l1: 1.14743\tvalid_1's l2: 3.13104\tvalid_1's l1: 1.18995\n",
      "[800]\tvalid_0's l2: 2.77626\tvalid_0's l1: 1.13236\tvalid_1's l2: 3.0842\tvalid_1's l1: 1.17971\n",
      "[900]\tvalid_0's l2: 2.70196\tvalid_0's l1: 1.11573\tvalid_1's l2: 3.03447\tvalid_1's l1: 1.16772\n"
     ]
    },
    {
     "name": "stdout",
     "output_type": "stream",
     "text": [
      "[1000]\tvalid_0's l2: 2.63226\tvalid_0's l1: 1.10124\tvalid_1's l2: 2.99261\tvalid_1's l1: 1.1582\n",
      "[1100]\tvalid_0's l2: 2.5793\tvalid_0's l1: 1.09002\tvalid_1's l2: 2.965\tvalid_1's l1: 1.15154\n",
      "[1200]\tvalid_0's l2: 2.53172\tvalid_0's l1: 1.07923\tvalid_1's l2: 2.94092\tvalid_1's l1: 1.14535\n",
      "[1300]\tvalid_0's l2: 2.48767\tvalid_0's l1: 1.06896\tvalid_1's l2: 2.91495\tvalid_1's l1: 1.13915\n",
      "[1400]\tvalid_0's l2: 2.44936\tvalid_0's l1: 1.06029\tvalid_1's l2: 2.89787\tvalid_1's l1: 1.13476\n",
      "[1500]\tvalid_0's l2: 2.41331\tvalid_0's l1: 1.05166\tvalid_1's l2: 2.88215\tvalid_1's l1: 1.13022\n",
      "[1600]\tvalid_0's l2: 2.38197\tvalid_0's l1: 1.04419\tvalid_1's l2: 2.86883\tvalid_1's l1: 1.1265\n",
      "[1700]\tvalid_0's l2: 2.35086\tvalid_0's l1: 1.03672\tvalid_1's l2: 2.85522\tvalid_1's l1: 1.12316\n",
      "[1800]\tvalid_0's l2: 2.32214\tvalid_0's l1: 1.03026\tvalid_1's l2: 2.84599\tvalid_1's l1: 1.121\n",
      "[1900]\tvalid_0's l2: 2.29956\tvalid_0's l1: 1.02503\tvalid_1's l2: 2.83987\tvalid_1's l1: 1.11948\n",
      "[2000]\tvalid_0's l2: 2.27052\tvalid_0's l1: 1.01803\tvalid_1's l2: 2.82787\tvalid_1's l1: 1.11629\n",
      "[2100]\tvalid_0's l2: 2.24047\tvalid_0's l1: 1.01105\tvalid_1's l2: 2.81315\tvalid_1's l1: 1.11289\n",
      "[2200]\tvalid_0's l2: 2.21796\tvalid_0's l1: 1.00537\tvalid_1's l2: 2.80526\tvalid_1's l1: 1.11085\n",
      "[2300]\tvalid_0's l2: 2.19821\tvalid_0's l1: 1.0003\tvalid_1's l2: 2.79797\tvalid_1's l1: 1.10918\n",
      "[2400]\tvalid_0's l2: 2.17938\tvalid_0's l1: 0.995381\tvalid_1's l2: 2.79325\tvalid_1's l1: 1.10774\n",
      "Early stopping, best iteration is:\n",
      "[2478]\tvalid_0's l2: 2.16249\tvalid_0's l1: 0.991217\tvalid_1's l2: 2.78749\tvalid_1's l1: 1.10629\n",
      "[CV]  colsample_bytree=0.7, early_stopping_rounds=20, learning_rate=0.5, n_estimators=10000, reg_alpha=2.0, reg_lambda=2.0, score=0.002, total= 5.5min\n",
      "[CV] colsample_bytree=0.7, early_stopping_rounds=20, learning_rate=0.75, n_estimators=10000, reg_alpha=1.0, reg_lambda=1.0 \n",
      "Training until validation scores don't improve for 20 rounds.\n",
      "[100]\tvalid_0's l2: 4.14673\tvalid_0's l1: 1.40082\tvalid_1's l2: 4.23562\tvalid_1's l1: 1.41467\n",
      "[200]\tvalid_0's l2: 3.64919\tvalid_0's l1: 1.309\tvalid_1's l2: 3.80702\tvalid_1's l1: 1.3316\n",
      "[300]\tvalid_0's l2: 3.35936\tvalid_0's l1: 1.2525\tvalid_1's l2: 3.57289\tvalid_1's l1: 1.28246\n",
      "[400]\tvalid_0's l2: 3.18618\tvalid_0's l1: 1.21737\tvalid_1's l2: 3.45403\tvalid_1's l1: 1.25598\n",
      "[500]\tvalid_0's l2: 3.05705\tvalid_0's l1: 1.19093\tvalid_1's l2: 3.36984\tvalid_1's l1: 1.2372\n",
      "[600]\tvalid_0's l2: 2.96233\tvalid_0's l1: 1.17126\tvalid_1's l2: 3.32251\tvalid_1's l1: 1.22532\n",
      "[700]\tvalid_0's l2: 2.8903\tvalid_0's l1: 1.15643\tvalid_1's l2: 3.29292\tvalid_1's l1: 1.21803\n",
      "[800]\tvalid_0's l2: 2.8186\tvalid_0's l1: 1.14142\tvalid_1's l2: 3.25833\tvalid_1's l1: 1.20969\n",
      "[900]\tvalid_0's l2: 2.76412\tvalid_0's l1: 1.13\tvalid_1's l2: 3.24474\tvalid_1's l1: 1.20561\n",
      "[1000]\tvalid_0's l2: 2.72027\tvalid_0's l1: 1.12052\tvalid_1's l2: 3.23588\tvalid_1's l1: 1.20292\n",
      "[1100]\tvalid_0's l2: 2.67506\tvalid_0's l1: 1.11029\tvalid_1's l2: 3.22046\tvalid_1's l1: 1.19852\n",
      "[1200]\tvalid_0's l2: 2.63055\tvalid_0's l1: 1.10029\tvalid_1's l2: 3.20832\tvalid_1's l1: 1.19489\n",
      "Early stopping, best iteration is:\n",
      "[1210]\tvalid_0's l2: 2.62542\tvalid_0's l1: 1.09931\tvalid_1's l2: 3.20568\tvalid_1's l1: 1.19446\n",
      "[CV]  colsample_bytree=0.7, early_stopping_rounds=20, learning_rate=0.75, n_estimators=10000, reg_alpha=1.0, reg_lambda=1.0, score=-0.098, total= 3.0min\n",
      "[CV] colsample_bytree=0.7, early_stopping_rounds=20, learning_rate=0.75, n_estimators=10000, reg_alpha=1.0, reg_lambda=1.0 \n",
      "Training until validation scores don't improve for 20 rounds.\n",
      "[100]\tvalid_0's l2: 4.16642\tvalid_0's l1: 1.40628\tvalid_1's l2: 4.24877\tvalid_1's l1: 1.41847\n",
      "[200]\tvalid_0's l2: 3.6278\tvalid_0's l1: 1.30549\tvalid_1's l2: 3.77913\tvalid_1's l1: 1.32671\n",
      "[300]\tvalid_0's l2: 3.34973\tvalid_0's l1: 1.25218\tvalid_1's l2: 3.57066\tvalid_1's l1: 1.28266\n",
      "[400]\tvalid_0's l2: 3.19126\tvalid_0's l1: 1.21996\tvalid_1's l2: 3.46761\tvalid_1's l1: 1.25915\n",
      "[500]\tvalid_0's l2: 3.06415\tvalid_0's l1: 1.19315\tvalid_1's l2: 3.39075\tvalid_1's l1: 1.24063\n",
      "[600]\tvalid_0's l2: 2.96652\tvalid_0's l1: 1.17316\tvalid_1's l2: 3.33795\tvalid_1's l1: 1.22828\n",
      "[700]\tvalid_0's l2: 2.88334\tvalid_0's l1: 1.15432\tvalid_1's l2: 3.29513\tvalid_1's l1: 1.21645\n",
      "[800]\tvalid_0's l2: 2.82055\tvalid_0's l1: 1.14247\tvalid_1's l2: 3.27586\tvalid_1's l1: 1.21247\n",
      "Early stopping, best iteration is:\n",
      "[785]\tvalid_0's l2: 2.82673\tvalid_0's l1: 1.14352\tvalid_1's l2: 3.27461\tvalid_1's l1: 1.21218\n",
      "[CV]  colsample_bytree=0.7, early_stopping_rounds=20, learning_rate=0.75, n_estimators=10000, reg_alpha=1.0, reg_lambda=1.0, score=-0.111, total= 2.0min\n",
      "[CV] colsample_bytree=0.7, early_stopping_rounds=20, learning_rate=0.75, n_estimators=10000, reg_alpha=1.0, reg_lambda=2.0 \n",
      "Training until validation scores don't improve for 20 rounds.\n",
      "[100]\tvalid_0's l2: 4.14108\tvalid_0's l1: 1.40341\tvalid_1's l2: 4.2168\tvalid_1's l1: 1.41534\n",
      "[200]\tvalid_0's l2: 3.63374\tvalid_0's l1: 1.30524\tvalid_1's l2: 3.77777\tvalid_1's l1: 1.32565\n",
      "[300]\tvalid_0's l2: 3.35614\tvalid_0's l1: 1.25062\tvalid_1's l2: 3.55845\tvalid_1's l1: 1.27935\n",
      "[400]\tvalid_0's l2: 3.19655\tvalid_0's l1: 1.21966\tvalid_1's l2: 3.45396\tvalid_1's l1: 1.25645\n",
      "[500]\tvalid_0's l2: 3.06181\tvalid_0's l1: 1.1918\tvalid_1's l2: 3.36965\tvalid_1's l1: 1.23604\n",
      "[600]\tvalid_0's l2: 2.95236\tvalid_0's l1: 1.16913\tvalid_1's l2: 3.30461\tvalid_1's l1: 1.22038\n",
      "[700]\tvalid_0's l2: 2.87853\tvalid_0's l1: 1.15404\tvalid_1's l2: 3.27365\tvalid_1's l1: 1.21306\n",
      "[800]\tvalid_0's l2: 2.81169\tvalid_0's l1: 1.13979\tvalid_1's l2: 3.24374\tvalid_1's l1: 1.20588\n",
      "[900]\tvalid_0's l2: 2.75682\tvalid_0's l1: 1.12778\tvalid_1's l2: 3.22737\tvalid_1's l1: 1.20078\n",
      "Early stopping, best iteration is:\n",
      "[935]\tvalid_0's l2: 2.73585\tvalid_0's l1: 1.12285\tvalid_1's l2: 3.22085\tvalid_1's l1: 1.19868\n",
      "[CV]  colsample_bytree=0.7, early_stopping_rounds=20, learning_rate=0.75, n_estimators=10000, reg_alpha=1.0, reg_lambda=2.0, score=-0.100, total= 2.5min\n",
      "[CV] colsample_bytree=0.7, early_stopping_rounds=20, learning_rate=0.75, n_estimators=10000, reg_alpha=1.0, reg_lambda=2.0 \n",
      "Training until validation scores don't improve for 20 rounds.\n",
      "[100]\tvalid_0's l2: 4.13072\tvalid_0's l1: 1.4056\tvalid_1's l2: 4.22017\tvalid_1's l1: 1.41921\n",
      "[200]\tvalid_0's l2: 3.64849\tvalid_0's l1: 1.31244\tvalid_1's l2: 3.80211\tvalid_1's l1: 1.33435\n",
      "[300]\tvalid_0's l2: 3.39295\tvalid_0's l1: 1.26222\tvalid_1's l2: 3.60975\tvalid_1's l1: 1.29248\n",
      "[400]\tvalid_0's l2: 3.19335\tvalid_0's l1: 1.22023\tvalid_1's l2: 3.46644\tvalid_1's l1: 1.25888\n",
      "[500]\tvalid_0's l2: 3.06316\tvalid_0's l1: 1.19368\tvalid_1's l2: 3.38777\tvalid_1's l1: 1.2402\n",
      "[600]\tvalid_0's l2: 2.96747\tvalid_0's l1: 1.17504\tvalid_1's l2: 3.34349\tvalid_1's l1: 1.22962\n",
      "[700]\tvalid_0's l2: 2.89327\tvalid_0's l1: 1.16107\tvalid_1's l2: 3.31608\tvalid_1's l1: 1.22319\n",
      "[800]\tvalid_0's l2: 2.82868\tvalid_0's l1: 1.14824\tvalid_1's l2: 3.29396\tvalid_1's l1: 1.21809\n",
      "[900]\tvalid_0's l2: 2.77862\tvalid_0's l1: 1.13742\tvalid_1's l2: 3.28221\tvalid_1's l1: 1.2143\n",
      "[1000]\tvalid_0's l2: 2.72686\tvalid_0's l1: 1.12661\tvalid_1's l2: 3.26651\tvalid_1's l1: 1.21029\n",
      "[1100]\tvalid_0's l2: 2.67187\tvalid_0's l1: 1.11464\tvalid_1's l2: 3.24355\tvalid_1's l1: 1.20454\n",
      "Early stopping, best iteration is:\n",
      "[1148]\tvalid_0's l2: 2.6503\tvalid_0's l1: 1.11005\tvalid_1's l2: 3.2374\tvalid_1's l1: 1.20299\n",
      "[CV]  colsample_bytree=0.7, early_stopping_rounds=20, learning_rate=0.75, n_estimators=10000, reg_alpha=1.0, reg_lambda=2.0, score=-0.104, total= 2.8min\n",
      "[CV] colsample_bytree=0.7, early_stopping_rounds=20, learning_rate=0.75, n_estimators=10000, reg_alpha=2.0, reg_lambda=1.0 \n",
      "Training until validation scores don't improve for 20 rounds.\n",
      "[100]\tvalid_0's l2: 4.13855\tvalid_0's l1: 1.40431\tvalid_1's l2: 4.21481\tvalid_1's l1: 1.41664\n",
      "[200]\tvalid_0's l2: 3.6592\tvalid_0's l1: 1.31116\tvalid_1's l2: 3.81342\tvalid_1's l1: 1.33378\n",
      "[300]\tvalid_0's l2: 3.36717\tvalid_0's l1: 1.2562\tvalid_1's l2: 3.59178\tvalid_1's l1: 1.28768\n",
      "[400]\tvalid_0's l2: 3.18588\tvalid_0's l1: 1.21873\tvalid_1's l2: 3.459\tvalid_1's l1: 1.25779\n",
      "[500]\tvalid_0's l2: 3.04646\tvalid_0's l1: 1.19049\tvalid_1's l2: 3.36558\tvalid_1's l1: 1.23756\n",
      "[600]\tvalid_0's l2: 2.94795\tvalid_0's l1: 1.16927\tvalid_1's l2: 3.31003\tvalid_1's l1: 1.22317\n",
      "[700]\tvalid_0's l2: 2.86966\tvalid_0's l1: 1.15285\tvalid_1's l2: 3.27655\tvalid_1's l1: 1.21452\n",
      "[800]\tvalid_0's l2: 2.80913\tvalid_0's l1: 1.14024\tvalid_1's l2: 3.2541\tvalid_1's l1: 1.20902\n"
     ]
    },
    {
     "name": "stdout",
     "output_type": "stream",
     "text": [
      "Early stopping, best iteration is:\n",
      "[865]\tvalid_0's l2: 2.7715\tvalid_0's l1: 1.13217\tvalid_1's l2: 3.23977\tvalid_1's l1: 1.20579\n",
      "[CV]  colsample_bytree=0.7, early_stopping_rounds=20, learning_rate=0.75, n_estimators=10000, reg_alpha=2.0, reg_lambda=1.0, score=-0.106, total= 2.4min\n",
      "[CV] colsample_bytree=0.7, early_stopping_rounds=20, learning_rate=0.75, n_estimators=10000, reg_alpha=2.0, reg_lambda=1.0 \n",
      "Training until validation scores don't improve for 20 rounds.\n",
      "[100]\tvalid_0's l2: 4.21974\tvalid_0's l1: 1.41399\tvalid_1's l2: 4.3045\tvalid_1's l1: 1.42655\n",
      "[200]\tvalid_0's l2: 3.65977\tvalid_0's l1: 1.31136\tvalid_1's l2: 3.81674\tvalid_1's l1: 1.33357\n",
      "[300]\tvalid_0's l2: 3.39501\tvalid_0's l1: 1.25915\tvalid_1's l2: 3.61776\tvalid_1's l1: 1.29029\n",
      "[400]\tvalid_0's l2: 3.2129\tvalid_0's l1: 1.22404\tvalid_1's l2: 3.48507\tvalid_1's l1: 1.2625\n",
      "[500]\tvalid_0's l2: 3.11018\tvalid_0's l1: 1.20454\tvalid_1's l2: 3.43758\tvalid_1's l1: 1.25154\n",
      "[600]\tvalid_0's l2: 3.02158\tvalid_0's l1: 1.1867\tvalid_1's l2: 3.39945\tvalid_1's l1: 1.24161\n",
      "[700]\tvalid_0's l2: 2.93996\tvalid_0's l1: 1.16808\tvalid_1's l2: 3.35556\tvalid_1's l1: 1.2298\n",
      "[800]\tvalid_0's l2: 2.86618\tvalid_0's l1: 1.15203\tvalid_1's l2: 3.32099\tvalid_1's l1: 1.22087\n",
      "[900]\tvalid_0's l2: 2.79958\tvalid_0's l1: 1.13748\tvalid_1's l2: 3.29429\tvalid_1's l1: 1.21409\n",
      "[1000]\tvalid_0's l2: 2.73763\tvalid_0's l1: 1.12475\tvalid_1's l2: 3.26861\tvalid_1's l1: 1.20814\n",
      "Early stopping, best iteration is:\n",
      "[1064]\tvalid_0's l2: 2.70898\tvalid_0's l1: 1.11844\tvalid_1's l2: 3.26273\tvalid_1's l1: 1.20652\n",
      "[CV]  colsample_bytree=0.7, early_stopping_rounds=20, learning_rate=0.75, n_estimators=10000, reg_alpha=2.0, reg_lambda=1.0, score=-0.104, total= 2.7min\n",
      "[CV] colsample_bytree=0.7, early_stopping_rounds=20, learning_rate=0.75, n_estimators=10000, reg_alpha=2.0, reg_lambda=2.0 \n",
      "Training until validation scores don't improve for 20 rounds.\n",
      "[100]\tvalid_0's l2: 4.10956\tvalid_0's l1: 1.39695\tvalid_1's l2: 4.18282\tvalid_1's l1: 1.40895\n",
      "[200]\tvalid_0's l2: 3.58468\tvalid_0's l1: 1.29613\tvalid_1's l2: 3.73032\tvalid_1's l1: 1.31626\n",
      "[300]\tvalid_0's l2: 3.331\tvalid_0's l1: 1.24479\tvalid_1's l2: 3.53383\tvalid_1's l1: 1.27329\n",
      "[400]\tvalid_0's l2: 3.16853\tvalid_0's l1: 1.21289\tvalid_1's l2: 3.42665\tvalid_1's l1: 1.24953\n",
      "[500]\tvalid_0's l2: 3.04946\tvalid_0's l1: 1.19047\tvalid_1's l2: 3.35773\tvalid_1's l1: 1.23521\n",
      "[600]\tvalid_0's l2: 2.95401\tvalid_0's l1: 1.16892\tvalid_1's l2: 3.30341\tvalid_1's l1: 1.2211\n",
      "[700]\tvalid_0's l2: 2.8637\tvalid_0's l1: 1.15061\tvalid_1's l2: 3.25545\tvalid_1's l1: 1.21007\n",
      "[800]\tvalid_0's l2: 2.79569\tvalid_0's l1: 1.13772\tvalid_1's l2: 3.22593\tvalid_1's l1: 1.20445\n",
      "Early stopping, best iteration is:\n",
      "[831]\tvalid_0's l2: 2.77374\tvalid_0's l1: 1.13254\tvalid_1's l2: 3.21534\tvalid_1's l1: 1.20124\n",
      "[CV]  colsample_bytree=0.7, early_stopping_rounds=20, learning_rate=0.75, n_estimators=10000, reg_alpha=2.0, reg_lambda=2.0, score=-0.099, total= 2.3min\n",
      "[CV] colsample_bytree=0.7, early_stopping_rounds=20, learning_rate=0.75, n_estimators=10000, reg_alpha=2.0, reg_lambda=2.0 \n",
      "Training until validation scores don't improve for 20 rounds.\n",
      "[100]\tvalid_0's l2: 4.1787\tvalid_0's l1: 1.41214\tvalid_1's l2: 4.25082\tvalid_1's l1: 1.42329\n",
      "[200]\tvalid_0's l2: 3.6606\tvalid_0's l1: 1.31176\tvalid_1's l2: 3.80163\tvalid_1's l1: 1.33168\n",
      "[300]\tvalid_0's l2: 3.39649\tvalid_0's l1: 1.25958\tvalid_1's l2: 3.60828\tvalid_1's l1: 1.28846\n",
      "[400]\tvalid_0's l2: 3.20853\tvalid_0's l1: 1.22099\tvalid_1's l2: 3.47392\tvalid_1's l1: 1.25839\n",
      "[500]\tvalid_0's l2: 3.07474\tvalid_0's l1: 1.19459\tvalid_1's l2: 3.38763\tvalid_1's l1: 1.23965\n",
      "[600]\tvalid_0's l2: 2.96303\tvalid_0's l1: 1.17133\tvalid_1's l2: 3.31881\tvalid_1's l1: 1.22365\n",
      "[700]\tvalid_0's l2: 2.88226\tvalid_0's l1: 1.15561\tvalid_1's l2: 3.2884\tvalid_1's l1: 1.21566\n",
      "[800]\tvalid_0's l2: 2.81056\tvalid_0's l1: 1.14053\tvalid_1's l2: 3.25628\tvalid_1's l1: 1.20778\n",
      "[900]\tvalid_0's l2: 2.74668\tvalid_0's l1: 1.12712\tvalid_1's l2: 3.23042\tvalid_1's l1: 1.20115\n",
      "Early stopping, best iteration is:\n",
      "[976]\tvalid_0's l2: 2.70766\tvalid_0's l1: 1.1183\tvalid_1's l2: 3.21754\tvalid_1's l1: 1.19731\n",
      "[CV]  colsample_bytree=0.7, early_stopping_rounds=20, learning_rate=0.75, n_estimators=10000, reg_alpha=2.0, reg_lambda=2.0, score=-0.096, total= 2.4min\n"
     ]
    },
    {
     "name": "stderr",
     "output_type": "stream",
     "text": [
      "[Parallel(n_jobs=1)]: Done  32 out of  32 | elapsed: 116.5min finished\n"
     ]
    },
    {
     "name": "stdout",
     "output_type": "stream",
     "text": [
      "Training until validation scores don't improve for 20 rounds.\n",
      "[100]\ttraining's l2: 4.03438\ttraining's l1: 1.38931\tvalid_1's l2: 4.0834\tvalid_1's l1: 1.39815\n",
      "[200]\ttraining's l2: 3.44111\ttraining's l1: 1.27444\tvalid_1's l2: 3.55049\tvalid_1's l1: 1.28931\n",
      "[300]\ttraining's l2: 3.12699\ttraining's l1: 1.21097\tvalid_1's l2: 3.27822\tvalid_1's l1: 1.23166\n",
      "[400]\ttraining's l2: 2.90136\ttraining's l1: 1.1651\tvalid_1's l2: 3.09287\tvalid_1's l1: 1.19151\n",
      "[500]\ttraining's l2: 2.7356\ttraining's l1: 1.13148\tvalid_1's l2: 2.96667\tvalid_1's l1: 1.16387\n",
      "[600]\ttraining's l2: 2.60722\ttraining's l1: 1.10413\tvalid_1's l2: 2.87659\tvalid_1's l1: 1.14231\n",
      "[700]\ttraining's l2: 2.51099\ttraining's l1: 1.08286\tvalid_1's l2: 2.81075\tvalid_1's l1: 1.12609\n",
      "[800]\ttraining's l2: 2.41959\ttraining's l1: 1.06333\tvalid_1's l2: 2.75032\tvalid_1's l1: 1.11167\n",
      "[900]\ttraining's l2: 2.3423\ttraining's l1: 1.04822\tvalid_1's l2: 2.70707\tvalid_1's l1: 1.10234\n",
      "[1000]\ttraining's l2: 2.26545\ttraining's l1: 1.03106\tvalid_1's l2: 2.65461\tvalid_1's l1: 1.08968\n",
      "[1100]\ttraining's l2: 2.20359\ttraining's l1: 1.01702\tvalid_1's l2: 2.6186\tvalid_1's l1: 1.08049\n",
      "[1200]\ttraining's l2: 2.1448\ttraining's l1: 1.00399\tvalid_1's l2: 2.58519\tvalid_1's l1: 1.07213\n",
      "[1300]\ttraining's l2: 2.09613\ttraining's l1: 0.993094\tvalid_1's l2: 2.55966\tvalid_1's l1: 1.06563\n",
      "[1400]\ttraining's l2: 2.04148\ttraining's l1: 0.981285\tvalid_1's l2: 2.53098\tvalid_1's l1: 1.05872\n",
      "[1500]\ttraining's l2: 1.99143\ttraining's l1: 0.96959\tvalid_1's l2: 2.50477\tvalid_1's l1: 1.05182\n",
      "[1600]\ttraining's l2: 1.94776\ttraining's l1: 0.959379\tvalid_1's l2: 2.48486\tvalid_1's l1: 1.04636\n",
      "[1700]\ttraining's l2: 1.91007\ttraining's l1: 0.950908\tvalid_1's l2: 2.46951\tvalid_1's l1: 1.04244\n",
      "[1800]\ttraining's l2: 1.87118\ttraining's l1: 0.941917\tvalid_1's l2: 2.45094\tvalid_1's l1: 1.03771\n",
      "[1900]\ttraining's l2: 1.8356\ttraining's l1: 0.933871\tvalid_1's l2: 2.43595\tvalid_1's l1: 1.03394\n",
      "[2000]\ttraining's l2: 1.80122\ttraining's l1: 0.92541\tvalid_1's l2: 2.42022\tvalid_1's l1: 1.02968\n",
      "[2100]\ttraining's l2: 1.76984\ttraining's l1: 0.917941\tvalid_1's l2: 2.40753\tvalid_1's l1: 1.02629\n",
      "[2200]\ttraining's l2: 1.73507\ttraining's l1: 0.909335\tvalid_1's l2: 2.3908\tvalid_1's l1: 1.02181\n",
      "[2300]\ttraining's l2: 1.70467\ttraining's l1: 0.902626\tvalid_1's l2: 2.37931\tvalid_1's l1: 1.01929\n",
      "[2400]\ttraining's l2: 1.67468\ttraining's l1: 0.895673\tvalid_1's l2: 2.36842\tvalid_1's l1: 1.01646\n",
      "[2500]\ttraining's l2: 1.65124\ttraining's l1: 0.890006\tvalid_1's l2: 2.36177\tvalid_1's l1: 1.01476\n",
      "[2600]\ttraining's l2: 1.62632\ttraining's l1: 0.88352\tvalid_1's l2: 2.35274\tvalid_1's l1: 1.01208\n",
      "[2700]\ttraining's l2: 1.60217\ttraining's l1: 0.877273\tvalid_1's l2: 2.3438\tvalid_1's l1: 1.00963\n",
      "[2800]\ttraining's l2: 1.5766\ttraining's l1: 0.87131\tvalid_1's l2: 2.33656\tvalid_1's l1: 1.00768\n",
      "[2900]\ttraining's l2: 1.55415\ttraining's l1: 0.865653\tvalid_1's l2: 2.32968\tvalid_1's l1: 1.0058\n",
      "[3000]\ttraining's l2: 1.53039\ttraining's l1: 0.859964\tvalid_1's l2: 2.32155\tvalid_1's l1: 1.00394\n",
      "[3100]\ttraining's l2: 1.50915\ttraining's l1: 0.854408\tvalid_1's l2: 2.31509\tvalid_1's l1: 1.00216\n",
      "[3200]\ttraining's l2: 1.48847\ttraining's l1: 0.848913\tvalid_1's l2: 2.30918\tvalid_1's l1: 1.00042\n",
      "[3300]\ttraining's l2: 1.46692\ttraining's l1: 0.843261\tvalid_1's l2: 2.30118\tvalid_1's l1: 0.99825\n",
      "[3400]\ttraining's l2: 1.44695\ttraining's l1: 0.838273\tvalid_1's l2: 2.29683\tvalid_1's l1: 0.997088\n",
      "[3500]\ttraining's l2: 1.43061\ttraining's l1: 0.83381\tvalid_1's l2: 2.29223\tvalid_1's l1: 0.995905\n",
      "[3600]\ttraining's l2: 1.41293\ttraining's l1: 0.829023\tvalid_1's l2: 2.28685\tvalid_1's l1: 0.994444\n",
      "[3700]\ttraining's l2: 1.39494\ttraining's l1: 0.824182\tvalid_1's l2: 2.28191\tvalid_1's l1: 0.992883\n",
      "[3800]\ttraining's l2: 1.37754\ttraining's l1: 0.819482\tvalid_1's l2: 2.27707\tvalid_1's l1: 0.991754\n",
      "[3900]\ttraining's l2: 1.361\ttraining's l1: 0.814848\tvalid_1's l2: 2.27226\tvalid_1's l1: 0.990329\n",
      "[4000]\ttraining's l2: 1.34528\ttraining's l1: 0.810397\tvalid_1's l2: 2.2686\tvalid_1's l1: 0.98917\n",
      "[4100]\ttraining's l2: 1.32912\ttraining's l1: 0.805704\tvalid_1's l2: 2.26471\tvalid_1's l1: 0.987753\n",
      "[4200]\ttraining's l2: 1.31198\ttraining's l1: 0.801138\tvalid_1's l2: 2.26108\tvalid_1's l1: 0.98665\n",
      "[4300]\ttraining's l2: 1.29715\ttraining's l1: 0.796918\tvalid_1's l2: 2.25775\tvalid_1's l1: 0.985608\n",
      "[4400]\ttraining's l2: 1.28097\ttraining's l1: 0.792404\tvalid_1's l2: 2.25309\tvalid_1's l1: 0.984264\n",
      "[4500]\ttraining's l2: 1.26664\ttraining's l1: 0.788467\tvalid_1's l2: 2.25017\tvalid_1's l1: 0.983409\n",
      "[4600]\ttraining's l2: 1.2525\ttraining's l1: 0.784242\tvalid_1's l2: 2.2464\tvalid_1's l1: 0.982307\n",
      "[4700]\ttraining's l2: 1.23731\ttraining's l1: 0.780055\tvalid_1's l2: 2.2424\tvalid_1's l1: 0.981295\n",
      "[4800]\ttraining's l2: 1.22285\ttraining's l1: 0.775909\tvalid_1's l2: 2.23882\tvalid_1's l1: 0.980292\n",
      "[4900]\ttraining's l2: 1.20933\ttraining's l1: 0.772032\tvalid_1's l2: 2.2358\tvalid_1's l1: 0.97944\n",
      "Early stopping, best iteration is:\n",
      "[4934]\ttraining's l2: 1.20517\ttraining's l1: 0.770756\tvalid_1's l2: 2.23492\tvalid_1's l1: 0.979144\n"
     ]
    }
   ],
   "source": [
    "model = gridsearch.fit(X_train, y_train, verbose=100, eval_set=[(X_train, y_train), (X_valid, y_valid)], eval_metric='mae')"
   ]
  },
  {
   "cell_type": "code",
   "execution_count": 153,
   "metadata": {},
   "outputs": [
    {
     "data": {
      "text/plain": [
       "-0.12465132188397451"
      ]
     },
     "execution_count": 153,
     "metadata": {},
     "output_type": "execute_result"
    }
   ],
   "source": [
    "evaluate(y_test, model.best_estimator_.predict(X_test))"
   ]
  },
  {
   "cell_type": "code",
   "execution_count": 154,
   "metadata": {},
   "outputs": [
    {
     "data": {
      "text/plain": [
       "{'colsample_bytree': 1,\n",
       " 'early_stopping_rounds': 20,\n",
       " 'learning_rate': 0.5,\n",
       " 'n_estimators': 10000,\n",
       " 'reg_alpha': 2.0,\n",
       " 'reg_lambda': 2.0}"
      ]
     },
     "execution_count": 154,
     "metadata": {},
     "output_type": "execute_result"
    }
   ],
   "source": [
    "model.best_params_"
   ]
  },
  {
   "cell_type": "code",
   "execution_count": 157,
   "metadata": {},
   "outputs": [
    {
     "data": {
      "text/html": [
       "<div>\n",
       "<style scoped>\n",
       "    .dataframe tbody tr th:only-of-type {\n",
       "        vertical-align: middle;\n",
       "    }\n",
       "\n",
       "    .dataframe tbody tr th {\n",
       "        vertical-align: top;\n",
       "    }\n",
       "\n",
       "    .dataframe thead th {\n",
       "        text-align: right;\n",
       "    }\n",
       "</style>\n",
       "<table border=\"1\" class=\"dataframe\">\n",
       "  <thead>\n",
       "    <tr style=\"text-align: right;\">\n",
       "      <th></th>\n",
       "      <th>feature</th>\n",
       "      <th>importance</th>\n",
       "    </tr>\n",
       "  </thead>\n",
       "  <tbody>\n",
       "    <tr>\n",
       "      <td>52</td>\n",
       "      <td>delta</td>\n",
       "      <td>13475</td>\n",
       "    </tr>\n",
       "    <tr>\n",
       "      <td>8</td>\n",
       "      <td>distance</td>\n",
       "      <td>11731</td>\n",
       "    </tr>\n",
       "    <tr>\n",
       "      <td>9</td>\n",
       "      <td>mean_distance_0</td>\n",
       "      <td>10442</td>\n",
       "    </tr>\n",
       "    <tr>\n",
       "      <td>10</td>\n",
       "      <td>mean_distance_1</td>\n",
       "      <td>7855</td>\n",
       "    </tr>\n",
       "    <tr>\n",
       "      <td>17</td>\n",
       "      <td>gravity</td>\n",
       "      <td>7738</td>\n",
       "    </tr>\n",
       "    <tr>\n",
       "      <td>20</td>\n",
       "      <td>z_0^2</td>\n",
       "      <td>4594</td>\n",
       "    </tr>\n",
       "    <tr>\n",
       "      <td>2</td>\n",
       "      <td>y_0</td>\n",
       "      <td>4577</td>\n",
       "    </tr>\n",
       "    <tr>\n",
       "      <td>19</td>\n",
       "      <td>y_0^2</td>\n",
       "      <td>4568</td>\n",
       "    </tr>\n",
       "    <tr>\n",
       "      <td>12</td>\n",
       "      <td>connections_0</td>\n",
       "      <td>4535</td>\n",
       "    </tr>\n",
       "    <tr>\n",
       "      <td>18</td>\n",
       "      <td>x_0^2</td>\n",
       "      <td>4531</td>\n",
       "    </tr>\n",
       "    <tr>\n",
       "      <td>22</td>\n",
       "      <td>y_1^2</td>\n",
       "      <td>4405</td>\n",
       "    </tr>\n",
       "    <tr>\n",
       "      <td>23</td>\n",
       "      <td>z_1^2</td>\n",
       "      <td>4362</td>\n",
       "    </tr>\n",
       "    <tr>\n",
       "      <td>21</td>\n",
       "      <td>x_1^2</td>\n",
       "      <td>4256</td>\n",
       "    </tr>\n",
       "    <tr>\n",
       "      <td>5</td>\n",
       "      <td>y_1</td>\n",
       "      <td>4192</td>\n",
       "    </tr>\n",
       "    <tr>\n",
       "      <td>1</td>\n",
       "      <td>x_0</td>\n",
       "      <td>4110</td>\n",
       "    </tr>\n",
       "    <tr>\n",
       "      <td>3</td>\n",
       "      <td>z_0</td>\n",
       "      <td>4018</td>\n",
       "    </tr>\n",
       "    <tr>\n",
       "      <td>4</td>\n",
       "      <td>x_1</td>\n",
       "      <td>3730</td>\n",
       "    </tr>\n",
       "    <tr>\n",
       "      <td>6</td>\n",
       "      <td>z_1</td>\n",
       "      <td>3604</td>\n",
       "    </tr>\n",
       "    <tr>\n",
       "      <td>65</td>\n",
       "      <td>H H</td>\n",
       "      <td>3539</td>\n",
       "    </tr>\n",
       "    <tr>\n",
       "      <td>55</td>\n",
       "      <td>C H</td>\n",
       "      <td>3361</td>\n",
       "    </tr>\n",
       "    <tr>\n",
       "      <td>13</td>\n",
       "      <td>connections_1</td>\n",
       "      <td>2619</td>\n",
       "    </tr>\n",
       "    <tr>\n",
       "      <td>53</td>\n",
       "      <td>C C</td>\n",
       "      <td>2518</td>\n",
       "    </tr>\n",
       "    <tr>\n",
       "      <td>63</td>\n",
       "      <td>H C</td>\n",
       "      <td>2459</td>\n",
       "    </tr>\n",
       "    <tr>\n",
       "      <td>73</td>\n",
       "      <td>O C</td>\n",
       "      <td>2018</td>\n",
       "    </tr>\n",
       "    <tr>\n",
       "      <td>67</td>\n",
       "      <td>H O</td>\n",
       "      <td>1831</td>\n",
       "    </tr>\n",
       "    <tr>\n",
       "      <td>57</td>\n",
       "      <td>C O</td>\n",
       "      <td>1786</td>\n",
       "    </tr>\n",
       "    <tr>\n",
       "      <td>49</td>\n",
       "      <td>nb_c_y</td>\n",
       "      <td>1645</td>\n",
       "    </tr>\n",
       "    <tr>\n",
       "      <td>14</td>\n",
       "      <td>mass</td>\n",
       "      <td>1640</td>\n",
       "    </tr>\n",
       "    <tr>\n",
       "      <td>68</td>\n",
       "      <td>N C</td>\n",
       "      <td>1639</td>\n",
       "    </tr>\n",
       "    <tr>\n",
       "      <td>66</td>\n",
       "      <td>H N</td>\n",
       "      <td>1582</td>\n",
       "    </tr>\n",
       "  </tbody>\n",
       "</table>\n",
       "</div>"
      ],
      "text/plain": [
       "            feature  importance\n",
       "52            delta       13475\n",
       "8          distance       11731\n",
       "9   mean_distance_0       10442\n",
       "10  mean_distance_1        7855\n",
       "17          gravity        7738\n",
       "20            z_0^2        4594\n",
       "2               y_0        4577\n",
       "19            y_0^2        4568\n",
       "12    connections_0        4535\n",
       "18            x_0^2        4531\n",
       "22            y_1^2        4405\n",
       "23            z_1^2        4362\n",
       "21            x_1^2        4256\n",
       "5               y_1        4192\n",
       "1               x_0        4110\n",
       "3               z_0        4018\n",
       "4               x_1        3730\n",
       "6               z_1        3604\n",
       "65              H H        3539\n",
       "55              C H        3361\n",
       "13    connections_1        2619\n",
       "53              C C        2518\n",
       "63              H C        2459\n",
       "73              O C        2018\n",
       "67              H O        1831\n",
       "57              C O        1786\n",
       "49           nb_c_y        1645\n",
       "14             mass        1640\n",
       "68              N C        1639\n",
       "66              H N        1582"
      ]
     },
     "execution_count": 157,
     "metadata": {},
     "output_type": "execute_result"
    }
   ],
   "source": [
    "feature_importances(model.best_estimator_, feature_fields)[:30]"
   ]
  },
  {
   "cell_type": "code",
   "execution_count": 179,
   "metadata": {},
   "outputs": [
    {
     "data": {
      "text/plain": [
       "243"
      ]
     },
     "execution_count": 179,
     "metadata": {},
     "output_type": "execute_result"
    }
   ],
   "source": [
    "import gc\n",
    "gc.collect()"
   ]
  },
  {
   "cell_type": "code",
   "execution_count": 164,
   "metadata": {},
   "outputs": [
    {
     "name": "stdout",
     "output_type": "stream",
     "text": [
      "Training until validation scores don't improve for 20 rounds.\n",
      "[100]\ttraining's l2: 4.13817\ttraining's l1: 1.40447\tvalid_1's l2: 4.15849\tvalid_1's l1: 1.40629\n",
      "[200]\ttraining's l2: 3.48152\ttraining's l1: 1.27525\tvalid_1's l2: 3.54408\tvalid_1's l1: 1.28144\n",
      "[300]\ttraining's l2: 3.1784\ttraining's l1: 1.21413\tvalid_1's l2: 3.27547\tvalid_1's l1: 1.225\n",
      "[400]\ttraining's l2: 2.96903\ttraining's l1: 1.17041\tvalid_1's l2: 3.0947\tvalid_1's l1: 1.18527\n",
      "[500]\ttraining's l2: 2.80358\ttraining's l1: 1.13669\tvalid_1's l2: 2.95909\tvalid_1's l1: 1.15557\n",
      "[600]\ttraining's l2: 2.67156\ttraining's l1: 1.10964\tvalid_1's l2: 2.85629\tvalid_1's l1: 1.13277\n",
      "[700]\ttraining's l2: 2.57046\ttraining's l1: 1.08786\tvalid_1's l2: 2.77806\tvalid_1's l1: 1.11485\n",
      "[800]\ttraining's l2: 2.48058\ttraining's l1: 1.06848\tvalid_1's l2: 2.71259\tvalid_1's l1: 1.09944\n",
      "[900]\ttraining's l2: 2.39879\ttraining's l1: 1.0509\tvalid_1's l2: 2.65194\tvalid_1's l1: 1.08551\n",
      "[1000]\ttraining's l2: 2.32451\ttraining's l1: 1.03503\tvalid_1's l2: 2.59735\tvalid_1's l1: 1.07327\n",
      "[1100]\ttraining's l2: 2.26263\ttraining's l1: 1.02189\tvalid_1's l2: 2.55582\tvalid_1's l1: 1.06368\n",
      "[1200]\ttraining's l2: 2.21015\ttraining's l1: 1.00983\tvalid_1's l2: 2.52422\tvalid_1's l1: 1.05528\n",
      "[1300]\ttraining's l2: 2.15572\ttraining's l1: 0.998504\tvalid_1's l2: 2.49007\tvalid_1's l1: 1.04749\n",
      "[1400]\ttraining's l2: 2.10896\ttraining's l1: 0.988416\tvalid_1's l2: 2.46303\tvalid_1's l1: 1.04106\n",
      "[1500]\ttraining's l2: 2.064\ttraining's l1: 0.978803\tvalid_1's l2: 2.43631\tvalid_1's l1: 1.03482\n",
      "[1600]\ttraining's l2: 2.02284\ttraining's l1: 0.969189\tvalid_1's l2: 2.411\tvalid_1's l1: 1.02834\n",
      "[1700]\ttraining's l2: 1.98392\ttraining's l1: 0.960318\tvalid_1's l2: 2.38989\tvalid_1's l1: 1.02307\n",
      "[1800]\ttraining's l2: 1.94904\ttraining's l1: 0.9523\tvalid_1's l2: 2.37019\tvalid_1's l1: 1.01824\n",
      "[1900]\ttraining's l2: 1.91634\ttraining's l1: 0.944714\tvalid_1's l2: 2.35455\tvalid_1's l1: 1.01397\n",
      "[2000]\ttraining's l2: 1.88071\ttraining's l1: 0.936215\tvalid_1's l2: 2.33367\tvalid_1's l1: 1.00862\n",
      "[2100]\ttraining's l2: 1.85062\ttraining's l1: 0.92925\tvalid_1's l2: 2.31953\tvalid_1's l1: 1.00492\n",
      "[2200]\ttraining's l2: 1.82018\ttraining's l1: 0.921592\tvalid_1's l2: 2.30179\tvalid_1's l1: 1.00018\n",
      "[2300]\ttraining's l2: 1.79109\ttraining's l1: 0.915101\tvalid_1's l2: 2.28784\tvalid_1's l1: 0.996789\n",
      "[2400]\ttraining's l2: 1.76063\ttraining's l1: 0.907828\tvalid_1's l2: 2.27056\tvalid_1's l1: 0.992468\n",
      "[2500]\ttraining's l2: 1.7326\ttraining's l1: 0.901703\tvalid_1's l2: 2.25758\tvalid_1's l1: 0.989376\n",
      "[2600]\ttraining's l2: 1.70894\ttraining's l1: 0.895879\tvalid_1's l2: 2.24658\tvalid_1's l1: 0.986567\n",
      "[2700]\ttraining's l2: 1.68632\ttraining's l1: 0.89048\tvalid_1's l2: 2.23696\tvalid_1's l1: 0.984119\n",
      "[2800]\ttraining's l2: 1.66349\ttraining's l1: 0.884619\tvalid_1's l2: 2.22673\tvalid_1's l1: 0.981154\n",
      "[2900]\ttraining's l2: 1.64378\ttraining's l1: 0.879586\tvalid_1's l2: 2.21843\tvalid_1's l1: 0.978819\n",
      "[3000]\ttraining's l2: 1.62453\ttraining's l1: 0.874957\tvalid_1's l2: 2.21121\tvalid_1's l1: 0.976894\n",
      "[3100]\ttraining's l2: 1.60217\ttraining's l1: 0.8695\tvalid_1's l2: 2.20154\tvalid_1's l1: 0.974112\n",
      "[3200]\ttraining's l2: 1.58312\ttraining's l1: 0.864623\tvalid_1's l2: 2.1938\tvalid_1's l1: 0.971916\n",
      "[3300]\ttraining's l2: 1.56604\ttraining's l1: 0.860463\tvalid_1's l2: 2.18776\tvalid_1's l1: 0.970277\n",
      "[3400]\ttraining's l2: 1.54607\ttraining's l1: 0.855478\tvalid_1's l2: 2.17894\tvalid_1's l1: 0.967886\n",
      "[3500]\ttraining's l2: 1.52694\ttraining's l1: 0.850784\tvalid_1's l2: 2.17239\tvalid_1's l1: 0.966147\n",
      "[3600]\ttraining's l2: 1.51004\ttraining's l1: 0.846655\tvalid_1's l2: 2.16681\tvalid_1's l1: 0.964728\n",
      "[3700]\ttraining's l2: 1.49406\ttraining's l1: 0.842585\tvalid_1's l2: 2.16143\tvalid_1's l1: 0.963247\n",
      "[3800]\ttraining's l2: 1.47781\ttraining's l1: 0.838102\tvalid_1's l2: 2.15424\tvalid_1's l1: 0.961232\n",
      "[3900]\ttraining's l2: 1.46076\ttraining's l1: 0.833789\tvalid_1's l2: 2.14845\tvalid_1's l1: 0.959611\n",
      "[4000]\ttraining's l2: 1.4448\ttraining's l1: 0.829696\tvalid_1's l2: 2.14209\tvalid_1's l1: 0.958061\n",
      "[4100]\ttraining's l2: 1.43019\ttraining's l1: 0.82592\tvalid_1's l2: 2.1377\tvalid_1's l1: 0.956856\n",
      "[4200]\ttraining's l2: 1.41398\ttraining's l1: 0.821695\tvalid_1's l2: 2.1313\tvalid_1's l1: 0.955115\n",
      "[4300]\ttraining's l2: 1.39963\ttraining's l1: 0.817901\tvalid_1's l2: 2.12599\tvalid_1's l1: 0.953643\n",
      "[4400]\ttraining's l2: 1.38574\ttraining's l1: 0.814492\tvalid_1's l2: 2.12204\tvalid_1's l1: 0.95281\n",
      "[4500]\ttraining's l2: 1.37304\ttraining's l1: 0.810895\tvalid_1's l2: 2.11763\tvalid_1's l1: 0.951458\n",
      "[4600]\ttraining's l2: 1.35892\ttraining's l1: 0.807304\tvalid_1's l2: 2.11273\tvalid_1's l1: 0.950246\n",
      "[4700]\ttraining's l2: 1.3454\ttraining's l1: 0.803762\tvalid_1's l2: 2.1091\tvalid_1's l1: 0.949156\n",
      "[4800]\ttraining's l2: 1.33168\ttraining's l1: 0.800228\tvalid_1's l2: 2.1057\tvalid_1's l1: 0.948111\n",
      "[4900]\ttraining's l2: 1.31847\ttraining's l1: 0.796707\tvalid_1's l2: 2.10113\tvalid_1's l1: 0.946963\n",
      "[5000]\ttraining's l2: 1.30588\ttraining's l1: 0.793234\tvalid_1's l2: 2.09675\tvalid_1's l1: 0.945783\n",
      "[5100]\ttraining's l2: 1.294\ttraining's l1: 0.789944\tvalid_1's l2: 2.09296\tvalid_1's l1: 0.944702\n",
      "[5200]\ttraining's l2: 1.2812\ttraining's l1: 0.786467\tvalid_1's l2: 2.08879\tvalid_1's l1: 0.943559\n",
      "[5300]\ttraining's l2: 1.26948\ttraining's l1: 0.783081\tvalid_1's l2: 2.08495\tvalid_1's l1: 0.942381\n",
      "[5400]\ttraining's l2: 1.25712\ttraining's l1: 0.779655\tvalid_1's l2: 2.08114\tvalid_1's l1: 0.941292\n",
      "[5500]\ttraining's l2: 1.24682\ttraining's l1: 0.7768\tvalid_1's l2: 2.07897\tvalid_1's l1: 0.940729\n",
      "[5600]\ttraining's l2: 1.23562\ttraining's l1: 0.773511\tvalid_1's l2: 2.07579\tvalid_1's l1: 0.939654\n",
      "[5700]\ttraining's l2: 1.22547\ttraining's l1: 0.770539\tvalid_1's l2: 2.07323\tvalid_1's l1: 0.938891\n",
      "[5800]\ttraining's l2: 1.21556\ttraining's l1: 0.767769\tvalid_1's l2: 2.07089\tvalid_1's l1: 0.938272\n",
      "[5900]\ttraining's l2: 1.20503\ttraining's l1: 0.764651\tvalid_1's l2: 2.06763\tvalid_1's l1: 0.937265\n",
      "Early stopping, best iteration is:\n",
      "[5970]\ttraining's l2: 1.19836\ttraining's l1: 0.762597\tvalid_1's l2: 2.06551\tvalid_1's l1: 0.936632\n"
     ]
    },
    {
     "data": {
      "text/plain": [
       "CHAMPS_LGBMRegressor(boosting_type='gbdt', class_weight=None,\n",
       "                     colsample_bytree=1, early_stopping_rounds=20,\n",
       "                     importance_type='split', learning_rate=0.5, max_depth=-1,\n",
       "                     min_child_samples=20, min_child_weight=0.001,\n",
       "                     min_split_gain=0.0, n_estimators=10000, n_jobs=-1,\n",
       "                     num_leaves=31, objective=None, random_state=None,\n",
       "                     reg_alpha=2.0, reg_lambda=2.0, silent=True, subsample=1.0,\n",
       "                     subsample_for_bin=200000, subsample_freq=0)"
      ]
     },
     "execution_count": 164,
     "metadata": {},
     "output_type": "execute_result"
    }
   ],
   "source": [
    "X_train = train_df[feature_fields]\n",
    "y_train = train_df['scalar_coupling_constant']\n",
    "X_test = test_df[feature_fields]\n",
    "X_train, X_valid, y_train, y_valid = train_test_split(X_train, y_train, test_size=0.2, random_state=42)\n",
    "\n",
    "#model = model.best_estimator_\n",
    "model.fit(X_train, y_train, verbose=100, eval_set=[(X_train, y_train), (X_valid, y_valid)], eval_metric='mae')"
   ]
  },
  {
   "cell_type": "code",
   "execution_count": 165,
   "metadata": {
    "collapsed": true
   },
   "outputs": [],
   "source": [
    "predictions = model.predict(X_test)"
   ]
  },
  {
   "cell_type": "code",
   "execution_count": 170,
   "metadata": {
    "collapsed": true
   },
   "outputs": [],
   "source": [
    "predictions['id'] = test_df['id']\n",
    "predictions = predictions.drop('type', axis=1)"
   ]
  },
  {
   "cell_type": "code",
   "execution_count": 171,
   "metadata": {},
   "outputs": [],
   "source": [
    "predictions.to_csv('submission_new.csv', header=True, index=False)"
   ]
  },
  {
   "cell_type": "markdown",
   "metadata": {},
   "source": [
    "**Kaggle result: -0.165** "
   ]
  },
  {
   "cell_type": "markdown",
   "metadata": {},
   "source": [
    "## Ensembling"
   ]
  },
  {
   "cell_type": "markdown",
   "metadata": {},
   "source": [
    "### Model per each type"
   ]
  },
  {
   "cell_type": "markdown",
   "metadata": {},
   "source": [
    "Let's try to use a couple of different ensembling techniques, first of all let's try to train a model per each type of connections and then combine the results."
   ]
  },
  {
   "cell_type": "code",
   "execution_count": 193,
   "metadata": {
    "collapsed": true
   },
   "outputs": [],
   "source": [
    "class ModelPerType:\n",
    "    def __init__(self, **lgbm_config):\n",
    "        self.lgbm_config = lgbm_config\n",
    "        self.model_dict = {}\n",
    "    \n",
    "    def fit(self, X, **lgbm_fit_params):\n",
    "        types = X['type'].unique()\n",
    "        self.feature_fields = [col for col in train_df.columns if col not in ['id', 'atom_index_0', 'atom_index_1', 'scalar_coupling_constant', 'molecule_name', 'atom_0', 'type', 'scalar_coupling_constant']]\n",
    "        \n",
    "        for type_name in types:\n",
    "            X_train = X[X['type'] == type_name]\n",
    "            y_train = X_train['scalar_coupling_constant']\n",
    "            X_train = X_train[self.feature_fields]\n",
    "            X_train, X_valid, y_train, y_valid = train_test_split(X_train, y_train, test_size=0.2)\n",
    "            \n",
    "            model = LGBMRegressor(**self.lgbm_config)\n",
    "            print('Fitting model for type {}'.format(type_name))\n",
    "            model.fit(X_train, y_train, eval_set=[(X_train, y_train), (X_valid, y_valid)], **lgbm_fit_params)\n",
    "            self.model_dict[type_name] = model\n",
    "    \n",
    "    def predict(self, X):\n",
    "        predictions = None\n",
    "        for type_name, model in self.model_dict.items():\n",
    "            X_pred = X[X['type'] == type_name]\n",
    "            type_score = pd.DataFrame({\n",
    "                'id': X_pred['id'],\n",
    "                'type': type_name,\n",
    "                'scalar_coupling_constant': model.predict(X_pred[self.feature_fields])\n",
    "            })\n",
    "            if predictions is None:\n",
    "                predictions = type_score\n",
    "            else:\n",
    "                predictions = pd.concat([predictions, type_score])\n",
    "        return predictions.sort_values('id')"
   ]
  },
  {
   "cell_type": "code",
   "execution_count": 180,
   "metadata": {},
   "outputs": [
    {
     "name": "stdout",
     "output_type": "stream",
     "text": [
      "Fitting model for type 3\n",
      "Training until validation scores don't improve for 20 rounds.\n",
      "[100]\ttraining's l2: 0.534449\ttraining's l1: 0.499893\tvalid_1's l2: 0.777299\tvalid_1's l1: 0.591006\n",
      "[200]\ttraining's l2: 0.346992\ttraining's l1: 0.411232\tvalid_1's l2: 0.713073\tvalid_1's l1: 0.567332\n",
      "Early stopping, best iteration is:\n",
      "[265]\ttraining's l2: 0.27853\ttraining's l1: 0.371875\tvalid_1's l2: 0.695684\tvalid_1's l1: 0.559891\n",
      "Fitting model for type 6\n",
      "Training until validation scores don't improve for 20 rounds.\n",
      "[100]\ttraining's l2: 2.45842\ttraining's l1: 1.12078\tvalid_1's l2: 2.56933\tvalid_1's l1: 1.13479\n",
      "[200]\ttraining's l2: 2.05993\ttraining's l1: 1.02045\tvalid_1's l2: 2.23155\tvalid_1's l1: 1.04803\n",
      "[300]\ttraining's l2: 1.85761\ttraining's l1: 0.971112\tvalid_1's l2: 2.08558\tvalid_1's l1: 1.01161\n",
      "[400]\ttraining's l2: 1.70096\ttraining's l1: 0.931688\tvalid_1's l2: 1.99039\tvalid_1's l1: 0.985355\n",
      "[500]\ttraining's l2: 1.57963\ttraining's l1: 0.899299\tvalid_1's l2: 1.91978\tvalid_1's l1: 0.966289\n",
      "[600]\ttraining's l2: 1.4757\ttraining's l1: 0.872084\tvalid_1's l2: 1.85716\tvalid_1's l1: 0.950369\n",
      "[700]\ttraining's l2: 1.40044\ttraining's l1: 0.850442\tvalid_1's l2: 1.8207\tvalid_1's l1: 0.939959\n",
      "[800]\ttraining's l2: 1.32677\ttraining's l1: 0.828744\tvalid_1's l2: 1.78203\tvalid_1's l1: 0.928624\n",
      "[900]\ttraining's l2: 1.27117\ttraining's l1: 0.811788\tvalid_1's l2: 1.75945\tvalid_1's l1: 0.92174\n",
      "[1000]\ttraining's l2: 1.2161\ttraining's l1: 0.794654\tvalid_1's l2: 1.73559\tvalid_1's l1: 0.914742\n",
      "[1100]\ttraining's l2: 1.16764\ttraining's l1: 0.779866\tvalid_1's l2: 1.7168\tvalid_1's l1: 0.90976\n",
      "[1200]\ttraining's l2: 1.12295\ttraining's l1: 0.765476\tvalid_1's l2: 1.70237\tvalid_1's l1: 0.905085\n",
      "[1300]\ttraining's l2: 1.08173\ttraining's l1: 0.752656\tvalid_1's l2: 1.68941\tvalid_1's l1: 0.901915\n",
      "[1400]\ttraining's l2: 1.04588\ttraining's l1: 0.741111\tvalid_1's l2: 1.68133\tvalid_1's l1: 0.899546\n",
      "[1500]\ttraining's l2: 1.00565\ttraining's l1: 0.72772\tvalid_1's l2: 1.66596\tvalid_1's l1: 0.894759\n",
      "[1600]\ttraining's l2: 0.974276\ttraining's l1: 0.716963\tvalid_1's l2: 1.65794\tvalid_1's l1: 0.892374\n",
      "[1700]\ttraining's l2: 0.940624\ttraining's l1: 0.705224\tvalid_1's l2: 1.64534\tvalid_1's l1: 0.888791\n",
      "[1800]\ttraining's l2: 0.911903\ttraining's l1: 0.695038\tvalid_1's l2: 1.63831\tvalid_1's l1: 0.886691\n",
      "[1900]\ttraining's l2: 0.883986\ttraining's l1: 0.684964\tvalid_1's l2: 1.63047\tvalid_1's l1: 0.884388\n",
      "Early stopping, best iteration is:\n",
      "[1938]\ttraining's l2: 0.873257\ttraining's l1: 0.681102\tvalid_1's l2: 1.62749\tvalid_1's l1: 0.883681\n",
      "Fitting model for type 0\n",
      "Training until validation scores don't improve for 20 rounds.\n",
      "[100]\ttraining's l2: 7.67841\ttraining's l1: 2.04164\tvalid_1's l2: 8.16747\tvalid_1's l1: 2.10105\n",
      "[200]\ttraining's l2: 6.43861\ttraining's l1: 1.87051\tvalid_1's l2: 7.36554\tvalid_1's l1: 1.98366\n",
      "[300]\ttraining's l2: 5.68598\ttraining's l1: 1.75655\tvalid_1's l2: 6.96431\tvalid_1's l1: 1.92002\n",
      "[400]\ttraining's l2: 5.17806\ttraining's l1: 1.68032\tvalid_1's l2: 6.77418\tvalid_1's l1: 1.89123\n",
      "[500]\ttraining's l2: 4.76261\ttraining's l1: 1.61601\tvalid_1's l2: 6.62944\tvalid_1's l1: 1.86881\n",
      "[600]\ttraining's l2: 4.38685\ttraining's l1: 1.55429\tvalid_1's l2: 6.50448\tvalid_1's l1: 1.84894\n",
      "[700]\ttraining's l2: 4.08778\ttraining's l1: 1.50163\tvalid_1's l2: 6.42504\tvalid_1's l1: 1.83452\n",
      "[800]\ttraining's l2: 3.83859\ttraining's l1: 1.45602\tvalid_1's l2: 6.37956\tvalid_1's l1: 1.82574\n",
      "[900]\ttraining's l2: 3.59693\ttraining's l1: 1.41176\tvalid_1's l2: 6.32077\tvalid_1's l1: 1.81615\n",
      "[1000]\ttraining's l2: 3.39809\ttraining's l1: 1.37271\tvalid_1's l2: 6.28776\tvalid_1's l1: 1.80928\n",
      "[1100]\ttraining's l2: 3.21257\ttraining's l1: 1.33575\tvalid_1's l2: 6.25912\tvalid_1's l1: 1.80285\n",
      "Early stopping, best iteration is:\n",
      "[1135]\ttraining's l2: 3.15614\ttraining's l1: 1.32389\tvalid_1's l2: 6.24306\tvalid_1's l1: 1.80004\n",
      "Fitting model for type 4\n",
      "Training until validation scores don't improve for 20 rounds.\n",
      "[100]\ttraining's l2: 2.22957\ttraining's l1: 1.01233\tvalid_1's l2: 2.37867\tvalid_1's l1: 1.03277\n",
      "[200]\ttraining's l2: 1.88356\ttraining's l1: 0.930972\tvalid_1's l2: 2.13096\tvalid_1's l1: 0.970502\n",
      "[300]\ttraining's l2: 1.6728\ttraining's l1: 0.883202\tvalid_1's l2: 2.00412\tvalid_1's l1: 0.940559\n",
      "[400]\ttraining's l2: 1.51715\ttraining's l1: 0.844374\tvalid_1's l2: 1.91828\tvalid_1's l1: 0.918671\n",
      "[500]\ttraining's l2: 1.40877\ttraining's l1: 0.817136\tvalid_1's l2: 1.86818\tvalid_1's l1: 0.905938\n",
      "[600]\ttraining's l2: 1.31299\ttraining's l1: 0.791387\tvalid_1's l2: 1.82914\tvalid_1's l1: 0.895113\n",
      "[700]\ttraining's l2: 1.22949\ttraining's l1: 0.76869\tvalid_1's l2: 1.7952\tvalid_1's l1: 0.886187\n",
      "[800]\ttraining's l2: 1.16561\ttraining's l1: 0.751257\tvalid_1's l2: 1.77752\tvalid_1's l1: 0.88176\n",
      "[900]\ttraining's l2: 1.10518\ttraining's l1: 0.733438\tvalid_1's l2: 1.75626\tvalid_1's l1: 0.876575\n",
      "[1000]\ttraining's l2: 1.0511\ttraining's l1: 0.717114\tvalid_1's l2: 1.74166\tvalid_1's l1: 0.872565\n",
      "[1100]\ttraining's l2: 0.998662\ttraining's l1: 0.700596\tvalid_1's l2: 1.7237\tvalid_1's l1: 0.867538\n",
      "[1200]\ttraining's l2: 0.955174\ttraining's l1: 0.686417\tvalid_1's l2: 1.71432\tvalid_1's l1: 0.864569\n",
      "[1300]\ttraining's l2: 0.912877\ttraining's l1: 0.67248\tvalid_1's l2: 1.7043\tvalid_1's l1: 0.861765\n",
      "[1400]\ttraining's l2: 0.877117\ttraining's l1: 0.65987\tvalid_1's l2: 1.69294\tvalid_1's l1: 0.858567\n",
      "Early stopping, best iteration is:\n",
      "[1443]\ttraining's l2: 0.862039\ttraining's l1: 0.654463\tvalid_1's l2: 1.68978\tvalid_1's l1: 0.857423\n",
      "Fitting model for type 2\n",
      "Training until validation scores don't improve for 20 rounds.\n",
      "[100]\ttraining's l2: 0.537139\ttraining's l1: 0.495782\tvalid_1's l2: 0.668979\tvalid_1's l1: 0.537992\n",
      "[200]\ttraining's l2: 0.40936\ttraining's l1: 0.440353\tvalid_1's l2: 0.610598\tvalid_1's l1: 0.510018\n",
      "[300]\ttraining's l2: 0.339709\ttraining's l1: 0.406437\tvalid_1's l2: 0.590398\tvalid_1's l1: 0.498279\n",
      "[400]\ttraining's l2: 0.289848\ttraining's l1: 0.379012\tvalid_1's l2: 0.575684\tvalid_1's l1: 0.490695\n",
      "[500]\ttraining's l2: 0.251434\ttraining's l1: 0.355756\tvalid_1's l2: 0.56549\tvalid_1's l1: 0.484375\n",
      "[600]\ttraining's l2: 0.221038\ttraining's l1: 0.335894\tvalid_1's l2: 0.559012\tvalid_1's l1: 0.480455\n",
      "[700]\ttraining's l2: 0.198313\ttraining's l1: 0.320093\tvalid_1's l2: 0.554358\tvalid_1's l1: 0.478261\n",
      "[800]\ttraining's l2: 0.178776\ttraining's l1: 0.305189\tvalid_1's l2: 0.55153\tvalid_1's l1: 0.476144\n",
      "[900]\ttraining's l2: 0.161681\ttraining's l1: 0.291511\tvalid_1's l2: 0.549361\tvalid_1's l1: 0.474732\n",
      "Early stopping, best iteration is:\n",
      "[883]\ttraining's l2: 0.164386\ttraining's l1: 0.293679\tvalid_1's l2: 0.549234\tvalid_1's l1: 0.474644\n",
      "Fitting model for type 5\n",
      "Training until validation scores don't improve for 20 rounds.\n",
      "[100]\ttraining's l2: 1.05255\ttraining's l1: 0.726033\tvalid_1's l2: 1.16093\tvalid_1's l1: 0.756189\n",
      "[200]\ttraining's l2: 0.839969\ttraining's l1: 0.649102\tvalid_1's l2: 1.01372\tvalid_1's l1: 0.702115\n",
      "[300]\ttraining's l2: 0.713198\ttraining's l1: 0.599376\tvalid_1's l2: 0.93701\tvalid_1's l1: 0.672484\n",
      "[400]\ttraining's l2: 0.632232\ttraining's l1: 0.565283\tvalid_1's l2: 0.898148\tvalid_1's l1: 0.656302\n",
      "[500]\ttraining's l2: 0.572593\ttraining's l1: 0.538273\tvalid_1's l2: 0.874866\tvalid_1's l1: 0.64653\n",
      "[600]\ttraining's l2: 0.517767\ttraining's l1: 0.513079\tvalid_1's l2: 0.853075\tvalid_1's l1: 0.637741\n",
      "[700]\ttraining's l2: 0.475729\ttraining's l1: 0.492981\tvalid_1's l2: 0.839593\tvalid_1's l1: 0.631823\n",
      "[800]\ttraining's l2: 0.43882\ttraining's l1: 0.474844\tvalid_1's l2: 0.830887\tvalid_1's l1: 0.627722\n",
      "[900]\ttraining's l2: 0.406143\ttraining's l1: 0.458167\tvalid_1's l2: 0.823365\tvalid_1's l1: 0.624681\n",
      "[1000]\ttraining's l2: 0.379606\ttraining's l1: 0.443724\tvalid_1's l2: 0.816893\tvalid_1's l1: 0.622257\n",
      "[1100]\ttraining's l2: 0.354197\ttraining's l1: 0.429881\tvalid_1's l2: 0.810866\tvalid_1's l1: 0.620299\n",
      "[1200]\ttraining's l2: 0.331857\ttraining's l1: 0.416441\tvalid_1's l2: 0.806594\tvalid_1's l1: 0.617913\n",
      "[1300]\ttraining's l2: 0.310461\ttraining's l1: 0.403845\tvalid_1's l2: 0.801998\tvalid_1's l1: 0.615999\n",
      "[1400]\ttraining's l2: 0.292537\ttraining's l1: 0.39244\tvalid_1's l2: 0.798032\tvalid_1's l1: 0.61436\n",
      "Early stopping, best iteration is:\n",
      "[1433]\ttraining's l2: 0.286855\ttraining's l1: 0.388721\tvalid_1's l2: 0.796605\tvalid_1's l1: 0.613671\n",
      "Fitting model for type 7\n",
      "Training until validation scores don't improve for 20 rounds.\n"
     ]
    },
    {
     "name": "stdout",
     "output_type": "stream",
     "text": [
      "[100]\ttraining's l2: 0.211968\ttraining's l1: 0.317221\tvalid_1's l2: 0.296154\tvalid_1's l1: 0.359859\n",
      "[200]\ttraining's l2: 0.148234\ttraining's l1: 0.269111\tvalid_1's l2: 0.27251\tvalid_1's l1: 0.343912\n",
      "[300]\ttraining's l2: 0.111031\ttraining's l1: 0.236314\tvalid_1's l2: 0.261156\tvalid_1's l1: 0.335657\n",
      "[400]\ttraining's l2: 0.0884992\ttraining's l1: 0.213251\tvalid_1's l2: 0.256627\tvalid_1's l1: 0.332627\n",
      "[500]\ttraining's l2: 0.0716089\ttraining's l1: 0.193488\tvalid_1's l2: 0.252823\tvalid_1's l1: 0.329807\n",
      "Early stopping, best iteration is:\n",
      "[559]\ttraining's l2: 0.0637466\ttraining's l1: 0.183516\tvalid_1's l2: 0.250374\tvalid_1's l1: 0.327953\n",
      "Fitting model for type 1\n",
      "Training until validation scores don't improve for 20 rounds.\n",
      "[100]\ttraining's l2: 0.958937\ttraining's l1: 0.724226\tvalid_1's l2: 2.20139\tvalid_1's l1: 1.0716\n",
      "Early stopping, best iteration is:\n",
      "[163]\ttraining's l2: 0.612502\ttraining's l1: 0.581853\tvalid_1's l2: 2.1283\tvalid_1's l1: 1.0553\n"
     ]
    }
   ],
   "source": [
    "best_grid_params = {\n",
    "    'colsample_bytree': 1,\n",
    "    'early_stopping_rounds': 20,\n",
    "    'learning_rate': 0.5,\n",
    "    'n_estimators': 10000,\n",
    "    'reg_alpha': 2.0,\n",
    "    'reg_lambda': 2.0\n",
    "}\n",
    "\n",
    "model = ModelPerType(**best_grid_params)\n",
    "X_train, X_test = train_test_split(train_df, test_size=0.3, random_state=42)\n",
    "model.fit(X_train, verbose=100, eval_metric='mae')"
   ]
  },
  {
   "cell_type": "code",
   "execution_count": 191,
   "metadata": {
    "collapsed": true
   },
   "outputs": [],
   "source": [
    "X_test = X_test.sort_values('id')\n",
    "predictions = model.predict(X_test)"
   ]
  },
  {
   "cell_type": "code",
   "execution_count": 192,
   "metadata": {},
   "outputs": [
    {
     "data": {
      "text/plain": [
       "-0.3206572720076211"
      ]
     },
     "execution_count": 192,
     "metadata": {},
     "output_type": "execute_result"
    }
   ],
   "source": [
    "evaluate(X_test['scalar_coupling_constant'], predictions)"
   ]
  },
  {
   "cell_type": "markdown",
   "metadata": {},
   "source": [
    "Wow, outstanding result! Let's train this model on the whole data and send the predictions to kaggle."
   ]
  },
  {
   "cell_type": "code",
   "execution_count": 194,
   "metadata": {},
   "outputs": [
    {
     "name": "stdout",
     "output_type": "stream",
     "text": [
      "Fitting model for type 0\n",
      "Training until validation scores don't improve for 20 rounds.\n",
      "[100]\ttraining's l2: 7.67079\ttraining's l1: 2.03719\tvalid_1's l2: 8.10597\tvalid_1's l1: 2.07871\n",
      "[200]\ttraining's l2: 6.54521\ttraining's l1: 1.88293\tvalid_1's l2: 7.29051\tvalid_1's l1: 1.96471\n",
      "[300]\ttraining's l2: 5.8648\ttraining's l1: 1.7842\tvalid_1's l2: 6.85844\tvalid_1's l1: 1.89986\n",
      "[400]\ttraining's l2: 5.35466\ttraining's l1: 1.70725\tvalid_1's l2: 6.56676\tvalid_1's l1: 1.85479\n",
      "[500]\ttraining's l2: 5.0031\ttraining's l1: 1.64858\tvalid_1's l2: 6.40674\tvalid_1's l1: 1.82712\n",
      "[600]\ttraining's l2: 4.68528\ttraining's l1: 1.59729\tvalid_1's l2: 6.27166\tvalid_1's l1: 1.80586\n",
      "[700]\ttraining's l2: 4.42239\ttraining's l1: 1.55369\tvalid_1's l2: 6.18348\tvalid_1's l1: 1.79101\n",
      "[800]\ttraining's l2: 4.18608\ttraining's l1: 1.51273\tvalid_1's l2: 6.0941\tvalid_1's l1: 1.77589\n",
      "[900]\ttraining's l2: 3.9567\ttraining's l1: 1.47404\tvalid_1's l2: 6.00733\tvalid_1's l1: 1.76245\n",
      "[1000]\ttraining's l2: 3.77828\ttraining's l1: 1.44181\tvalid_1's l2: 5.95805\tvalid_1's l1: 1.75494\n",
      "[1100]\ttraining's l2: 3.60142\ttraining's l1: 1.40759\tvalid_1's l2: 5.90311\tvalid_1's l1: 1.7445\n",
      "[1200]\ttraining's l2: 3.45301\ttraining's l1: 1.37858\tvalid_1's l2: 5.87171\tvalid_1's l1: 1.73826\n",
      "[1300]\ttraining's l2: 3.30235\ttraining's l1: 1.35048\tvalid_1's l2: 5.83099\tvalid_1's l1: 1.73194\n",
      "[1400]\ttraining's l2: 3.15453\ttraining's l1: 1.32145\tvalid_1's l2: 5.79224\tvalid_1's l1: 1.72456\n",
      "[1500]\ttraining's l2: 3.03101\ttraining's l1: 1.29663\tvalid_1's l2: 5.77034\tvalid_1's l1: 1.7204\n",
      "[1600]\ttraining's l2: 2.9106\ttraining's l1: 1.2712\tvalid_1's l2: 5.74049\tvalid_1's l1: 1.715\n",
      "[1700]\ttraining's l2: 2.79907\ttraining's l1: 1.24658\tvalid_1's l2: 5.7117\tvalid_1's l1: 1.70962\n",
      "[1800]\ttraining's l2: 2.68735\ttraining's l1: 1.22248\tvalid_1's l2: 5.68642\tvalid_1's l1: 1.70488\n",
      "Early stopping, best iteration is:\n",
      "[1865]\ttraining's l2: 2.62583\ttraining's l1: 1.20824\tvalid_1's l2: 5.67869\tvalid_1's l1: 1.70327\n",
      "Fitting model for type 2\n",
      "Training until validation scores don't improve for 20 rounds.\n",
      "[100]\ttraining's l2: 0.552599\ttraining's l1: 0.501838\tvalid_1's l2: 0.639033\tvalid_1's l1: 0.527166\n",
      "[200]\ttraining's l2: 0.440881\ttraining's l1: 0.45501\tvalid_1's l2: 0.582996\tvalid_1's l1: 0.502097\n",
      "[300]\ttraining's l2: 0.371496\ttraining's l1: 0.421855\tvalid_1's l2: 0.552201\tvalid_1's l1: 0.485726\n",
      "[400]\ttraining's l2: 0.322133\ttraining's l1: 0.394604\tvalid_1's l2: 0.530889\tvalid_1's l1: 0.472717\n",
      "[500]\ttraining's l2: 0.283995\ttraining's l1: 0.373675\tvalid_1's l2: 0.517547\tvalid_1's l1: 0.465954\n",
      "[600]\ttraining's l2: 0.255135\ttraining's l1: 0.356668\tvalid_1's l2: 0.508875\tvalid_1's l1: 0.461716\n",
      "[700]\ttraining's l2: 0.231272\ttraining's l1: 0.341339\tvalid_1's l2: 0.502377\tvalid_1's l1: 0.457744\n",
      "[800]\ttraining's l2: 0.21104\ttraining's l1: 0.327162\tvalid_1's l2: 0.497529\tvalid_1's l1: 0.45414\n",
      "[900]\ttraining's l2: 0.194037\ttraining's l1: 0.315225\tvalid_1's l2: 0.4934\tvalid_1's l1: 0.451573\n",
      "[1000]\ttraining's l2: 0.178105\ttraining's l1: 0.303269\tvalid_1's l2: 0.489179\tvalid_1's l1: 0.449052\n",
      "[1100]\ttraining's l2: 0.165453\ttraining's l1: 0.293415\tvalid_1's l2: 0.487065\tvalid_1's l1: 0.447656\n",
      "[1200]\ttraining's l2: 0.153835\ttraining's l1: 0.283893\tvalid_1's l2: 0.484447\tvalid_1's l1: 0.446066\n",
      "[1300]\ttraining's l2: 0.142745\ttraining's l1: 0.274529\tvalid_1's l2: 0.481905\tvalid_1's l1: 0.444635\n",
      "[1400]\ttraining's l2: 0.133554\ttraining's l1: 0.266243\tvalid_1's l2: 0.479876\tvalid_1's l1: 0.443294\n",
      "[1500]\ttraining's l2: 0.125068\ttraining's l1: 0.258488\tvalid_1's l2: 0.478498\tvalid_1's l1: 0.44259\n",
      "Early stopping, best iteration is:\n",
      "[1524]\ttraining's l2: 0.122826\ttraining's l1: 0.256511\tvalid_1's l2: 0.477724\tvalid_1's l1: 0.442196\n",
      "Fitting model for type 1\n",
      "Training until validation scores don't improve for 20 rounds.\n",
      "[100]\ttraining's l2: 1.07505\ttraining's l1: 0.766864\tvalid_1's l2: 2.18307\tvalid_1's l1: 1.02466\n",
      "[200]\ttraining's l2: 0.61574\ttraining's l1: 0.584681\tvalid_1's l2: 2.04932\tvalid_1's l1: 0.988404\n",
      "[300]\ttraining's l2: 0.391179\ttraining's l1: 0.470763\tvalid_1's l2: 1.98976\tvalid_1's l1: 0.972742\n",
      "[400]\ttraining's l2: 0.264749\ttraining's l1: 0.388894\tvalid_1's l2: 1.95707\tvalid_1's l1: 0.96631\n",
      "[500]\ttraining's l2: 0.185172\ttraining's l1: 0.327019\tvalid_1's l2: 1.94443\tvalid_1's l1: 0.962387\n",
      "Early stopping, best iteration is:\n",
      "[490]\ttraining's l2: 0.192047\ttraining's l1: 0.332706\tvalid_1's l2: 1.94306\tvalid_1's l1: 0.961989\n",
      "Fitting model for type 3\n",
      "Training until validation scores don't improve for 20 rounds.\n",
      "[100]\ttraining's l2: 0.54615\ttraining's l1: 0.504008\tvalid_1's l2: 0.741662\tvalid_1's l1: 0.572833\n",
      "[200]\ttraining's l2: 0.387468\ttraining's l1: 0.427986\tvalid_1's l2: 0.675573\tvalid_1's l1: 0.542941\n",
      "[300]\ttraining's l2: 0.292862\ttraining's l1: 0.376593\tvalid_1's l2: 0.636581\tvalid_1's l1: 0.527637\n",
      "Early stopping, best iteration is:\n",
      "[359]\ttraining's l2: 0.25147\ttraining's l1: 0.352588\tvalid_1's l2: 0.625344\tvalid_1's l1: 0.522979\n",
      "Fitting model for type 4\n",
      "Training until validation scores don't improve for 20 rounds.\n",
      "[100]\ttraining's l2: 2.22217\ttraining's l1: 1.00972\tvalid_1's l2: 2.3401\tvalid_1's l1: 1.0269\n",
      "[200]\ttraining's l2: 1.8844\ttraining's l1: 0.930748\tvalid_1's l2: 2.0731\tvalid_1's l1: 0.961033\n",
      "[300]\ttraining's l2: 1.6947\ttraining's l1: 0.884112\tvalid_1's l2: 1.94428\tvalid_1's l1: 0.927221\n",
      "[400]\ttraining's l2: 1.54137\ttraining's l1: 0.846599\tvalid_1's l2: 1.8468\tvalid_1's l1: 0.902071\n",
      "[500]\ttraining's l2: 1.43829\ttraining's l1: 0.820565\tvalid_1's l2: 1.79194\tvalid_1's l1: 0.887784\n",
      "[600]\ttraining's l2: 1.35791\ttraining's l1: 0.800015\tvalid_1's l2: 1.7546\tvalid_1's l1: 0.877804\n",
      "[700]\ttraining's l2: 1.28248\ttraining's l1: 0.778585\tvalid_1's l2: 1.71597\tvalid_1's l1: 0.866252\n",
      "[800]\ttraining's l2: 1.22286\ttraining's l1: 0.762181\tvalid_1's l2: 1.68739\tvalid_1's l1: 0.858823\n",
      "[900]\ttraining's l2: 1.16638\ttraining's l1: 0.746213\tvalid_1's l2: 1.66222\tvalid_1's l1: 0.851982\n",
      "[1000]\ttraining's l2: 1.11922\ttraining's l1: 0.731849\tvalid_1's l2: 1.6447\tvalid_1's l1: 0.846584\n",
      "[1100]\ttraining's l2: 1.07065\ttraining's l1: 0.717847\tvalid_1's l2: 1.62303\tvalid_1's l1: 0.84138\n",
      "[1200]\ttraining's l2: 1.03083\ttraining's l1: 0.706057\tvalid_1's l2: 1.6093\tvalid_1's l1: 0.837756\n",
      "[1300]\ttraining's l2: 0.99456\ttraining's l1: 0.694595\tvalid_1's l2: 1.59858\tvalid_1's l1: 0.834414\n",
      "[1400]\ttraining's l2: 0.960788\ttraining's l1: 0.683418\tvalid_1's l2: 1.58691\tvalid_1's l1: 0.830899\n",
      "Early stopping, best iteration is:\n",
      "[1437]\ttraining's l2: 0.948153\ttraining's l1: 0.679298\tvalid_1's l2: 1.58279\tvalid_1's l1: 0.829564\n",
      "Fitting model for type 5\n",
      "Training until validation scores don't improve for 20 rounds.\n",
      "[100]\ttraining's l2: 1.05595\ttraining's l1: 0.726504\tvalid_1's l2: 1.11427\tvalid_1's l1: 0.742133\n",
      "[200]\ttraining's l2: 0.850909\ttraining's l1: 0.652344\tvalid_1's l2: 0.957362\tvalid_1's l1: 0.684035\n",
      "[300]\ttraining's l2: 0.746702\ttraining's l1: 0.611269\tvalid_1's l2: 0.89478\tvalid_1's l1: 0.658703\n",
      "[400]\ttraining's l2: 0.663438\ttraining's l1: 0.576151\tvalid_1's l2: 0.845231\tvalid_1's l1: 0.637358\n",
      "[500]\ttraining's l2: 0.605215\ttraining's l1: 0.550486\tvalid_1's l2: 0.816199\tvalid_1's l1: 0.624271\n",
      "[600]\ttraining's l2: 0.558366\ttraining's l1: 0.529637\tvalid_1's l2: 0.793249\tvalid_1's l1: 0.614355\n",
      "[700]\ttraining's l2: 0.517212\ttraining's l1: 0.510582\tvalid_1's l2: 0.77558\tvalid_1's l1: 0.606951\n",
      "[800]\ttraining's l2: 0.481055\ttraining's l1: 0.493354\tvalid_1's l2: 0.759332\tvalid_1's l1: 0.600003\n",
      "[900]\ttraining's l2: 0.450158\ttraining's l1: 0.478608\tvalid_1's l2: 0.749031\tvalid_1's l1: 0.595397\n",
      "[1000]\ttraining's l2: 0.424095\ttraining's l1: 0.465526\tvalid_1's l2: 0.741639\tvalid_1's l1: 0.592155\n",
      "[1100]\ttraining's l2: 0.401796\ttraining's l1: 0.453693\tvalid_1's l2: 0.735702\tvalid_1's l1: 0.589573\n",
      "[1200]\ttraining's l2: 0.378474\ttraining's l1: 0.441199\tvalid_1's l2: 0.728017\tvalid_1's l1: 0.586154\n",
      "[1300]\ttraining's l2: 0.358874\ttraining's l1: 0.430356\tvalid_1's l2: 0.723218\tvalid_1's l1: 0.584289\n",
      "[1400]\ttraining's l2: 0.341299\ttraining's l1: 0.42054\tvalid_1's l2: 0.718792\tvalid_1's l1: 0.58247\n",
      "[1500]\ttraining's l2: 0.325536\ttraining's l1: 0.411057\tvalid_1's l2: 0.714889\tvalid_1's l1: 0.580435\n",
      "[1600]\ttraining's l2: 0.310959\ttraining's l1: 0.402137\tvalid_1's l2: 0.710972\tvalid_1's l1: 0.578582\n",
      "[1700]\ttraining's l2: 0.296661\ttraining's l1: 0.393325\tvalid_1's l2: 0.707314\tvalid_1's l1: 0.57682\n"
     ]
    },
    {
     "name": "stdout",
     "output_type": "stream",
     "text": [
      "[1800]\ttraining's l2: 0.283638\ttraining's l1: 0.385087\tvalid_1's l2: 0.704101\tvalid_1's l1: 0.575575\n",
      "[1900]\ttraining's l2: 0.270939\ttraining's l1: 0.376725\tvalid_1's l2: 0.7004\tvalid_1's l1: 0.573746\n",
      "[2000]\ttraining's l2: 0.25874\ttraining's l1: 0.368787\tvalid_1's l2: 0.696596\tvalid_1's l1: 0.572236\n",
      "[2100]\ttraining's l2: 0.248102\ttraining's l1: 0.361451\tvalid_1's l2: 0.694365\tvalid_1's l1: 0.571086\n",
      "Early stopping, best iteration is:\n",
      "[2138]\ttraining's l2: 0.244239\ttraining's l1: 0.358841\tvalid_1's l2: 0.69354\tvalid_1's l1: 0.570797\n",
      "Fitting model for type 6\n",
      "Training until validation scores don't improve for 20 rounds.\n",
      "[100]\ttraining's l2: 2.47904\ttraining's l1: 1.12589\tvalid_1's l2: 2.58913\tvalid_1's l1: 1.14239\n",
      "[200]\ttraining's l2: 2.0874\ttraining's l1: 1.03102\tvalid_1's l2: 2.25397\tvalid_1's l1: 1.05812\n",
      "[300]\ttraining's l2: 1.89566\ttraining's l1: 0.98183\tvalid_1's l2: 2.1027\tvalid_1's l1: 1.01832\n",
      "[400]\ttraining's l2: 1.74455\ttraining's l1: 0.942205\tvalid_1's l2: 1.99026\tvalid_1's l1: 0.987446\n",
      "[500]\ttraining's l2: 1.63675\ttraining's l1: 0.913662\tvalid_1's l2: 1.91864\tvalid_1's l1: 0.96799\n",
      "[600]\ttraining's l2: 1.54068\ttraining's l1: 0.888046\tvalid_1's l2: 1.85323\tvalid_1's l1: 0.950404\n",
      "[700]\ttraining's l2: 1.45606\ttraining's l1: 0.864881\tvalid_1's l2: 1.80281\tvalid_1's l1: 0.935692\n",
      "[800]\ttraining's l2: 1.3891\ttraining's l1: 0.845738\tvalid_1's l2: 1.75992\tvalid_1's l1: 0.923741\n",
      "[900]\ttraining's l2: 1.32748\ttraining's l1: 0.827206\tvalid_1's l2: 1.7238\tvalid_1's l1: 0.912813\n",
      "[1000]\ttraining's l2: 1.27354\ttraining's l1: 0.810224\tvalid_1's l2: 1.69308\tvalid_1's l1: 0.902802\n",
      "[1100]\ttraining's l2: 1.22616\ttraining's l1: 0.795722\tvalid_1's l2: 1.66724\tvalid_1's l1: 0.894947\n",
      "[1200]\ttraining's l2: 1.18236\ttraining's l1: 0.782555\tvalid_1's l2: 1.64556\tvalid_1's l1: 0.888745\n",
      "[1300]\ttraining's l2: 1.14754\ttraining's l1: 0.771176\tvalid_1's l2: 1.63019\tvalid_1's l1: 0.883984\n",
      "[1400]\ttraining's l2: 1.1135\ttraining's l1: 0.760668\tvalid_1's l2: 1.61748\tvalid_1's l1: 0.880263\n",
      "[1500]\ttraining's l2: 1.07848\ttraining's l1: 0.749551\tvalid_1's l2: 1.60221\tvalid_1's l1: 0.876097\n",
      "[1600]\ttraining's l2: 1.04712\ttraining's l1: 0.738905\tvalid_1's l2: 1.58621\tvalid_1's l1: 0.871186\n",
      "[1700]\ttraining's l2: 1.02145\ttraining's l1: 0.730287\tvalid_1's l2: 1.57827\tvalid_1's l1: 0.86885\n",
      "[1800]\ttraining's l2: 0.992845\ttraining's l1: 0.720488\tvalid_1's l2: 1.56777\tvalid_1's l1: 0.865415\n",
      "[1900]\ttraining's l2: 0.968405\ttraining's l1: 0.711975\tvalid_1's l2: 1.55998\tvalid_1's l1: 0.862855\n",
      "[2000]\ttraining's l2: 0.944387\ttraining's l1: 0.703601\tvalid_1's l2: 1.5524\tvalid_1's l1: 0.860487\n",
      "[2100]\ttraining's l2: 0.920276\ttraining's l1: 0.695002\tvalid_1's l2: 1.54219\tvalid_1's l1: 0.857349\n",
      "[2200]\ttraining's l2: 0.897574\ttraining's l1: 0.686983\tvalid_1's l2: 1.53331\tvalid_1's l1: 0.854738\n",
      "[2300]\ttraining's l2: 0.875009\ttraining's l1: 0.678847\tvalid_1's l2: 1.52377\tvalid_1's l1: 0.851948\n",
      "[2400]\ttraining's l2: 0.854655\ttraining's l1: 0.67127\tvalid_1's l2: 1.51819\tvalid_1's l1: 0.849951\n",
      "[2500]\ttraining's l2: 0.834853\ttraining's l1: 0.663875\tvalid_1's l2: 1.51052\tvalid_1's l1: 0.847636\n",
      "[2600]\ttraining's l2: 0.815057\ttraining's l1: 0.656425\tvalid_1's l2: 1.50256\tvalid_1's l1: 0.845194\n",
      "[2700]\ttraining's l2: 0.798239\ttraining's l1: 0.649959\tvalid_1's l2: 1.49856\tvalid_1's l1: 0.843795\n",
      "[2800]\ttraining's l2: 0.781368\ttraining's l1: 0.643536\tvalid_1's l2: 1.49357\tvalid_1's l1: 0.842453\n",
      "[2900]\ttraining's l2: 0.766291\ttraining's l1: 0.63774\tvalid_1's l2: 1.49056\tvalid_1's l1: 0.841324\n",
      "[3000]\ttraining's l2: 0.749712\ttraining's l1: 0.63108\tvalid_1's l2: 1.48526\tvalid_1's l1: 0.839548\n",
      "[3100]\ttraining's l2: 0.733637\ttraining's l1: 0.624681\tvalid_1's l2: 1.48088\tvalid_1's l1: 0.838014\n",
      "[3200]\ttraining's l2: 0.716888\ttraining's l1: 0.618057\tvalid_1's l2: 1.47463\tvalid_1's l1: 0.836139\n",
      "[3300]\ttraining's l2: 0.702714\ttraining's l1: 0.612137\tvalid_1's l2: 1.47012\tvalid_1's l1: 0.834782\n",
      "[3400]\ttraining's l2: 0.688678\ttraining's l1: 0.606264\tvalid_1's l2: 1.46607\tvalid_1's l1: 0.833496\n",
      "[3500]\ttraining's l2: 0.676649\ttraining's l1: 0.600905\tvalid_1's l2: 1.46238\tvalid_1's l1: 0.832168\n",
      "[3600]\ttraining's l2: 0.664505\ttraining's l1: 0.595823\tvalid_1's l2: 1.45971\tvalid_1's l1: 0.831415\n",
      "[3700]\ttraining's l2: 0.652069\ttraining's l1: 0.590574\tvalid_1's l2: 1.45661\tvalid_1's l1: 0.830398\n",
      "[3800]\ttraining's l2: 0.639617\ttraining's l1: 0.585259\tvalid_1's l2: 1.4537\tvalid_1's l1: 0.829461\n",
      "[3900]\ttraining's l2: 0.628129\ttraining's l1: 0.580158\tvalid_1's l2: 1.4512\tvalid_1's l1: 0.828584\n",
      "Early stopping, best iteration is:\n",
      "[3887]\ttraining's l2: 0.629473\ttraining's l1: 0.580744\tvalid_1's l2: 1.45107\tvalid_1's l1: 0.828583\n",
      "Fitting model for type 7\n",
      "Training until validation scores don't improve for 20 rounds.\n",
      "[100]\ttraining's l2: 0.219031\ttraining's l1: 0.320891\tvalid_1's l2: 0.284109\tvalid_1's l1: 0.352609\n",
      "[200]\ttraining's l2: 0.157703\ttraining's l1: 0.275499\tvalid_1's l2: 0.252479\tvalid_1's l1: 0.330335\n",
      "[300]\ttraining's l2: 0.125417\ttraining's l1: 0.247932\tvalid_1's l2: 0.238922\tvalid_1's l1: 0.320751\n",
      "[400]\ttraining's l2: 0.104221\ttraining's l1: 0.227187\tvalid_1's l2: 0.231908\tvalid_1's l1: 0.315251\n",
      "[500]\ttraining's l2: 0.0875418\ttraining's l1: 0.210664\tvalid_1's l2: 0.227366\tvalid_1's l1: 0.312469\n",
      "[600]\ttraining's l2: 0.0750628\ttraining's l1: 0.196695\tvalid_1's l2: 0.224524\tvalid_1's l1: 0.310366\n",
      "[700]\ttraining's l2: 0.0654441\ttraining's l1: 0.184495\tvalid_1's l2: 0.221916\tvalid_1's l1: 0.308511\n",
      "[800]\ttraining's l2: 0.0575631\ttraining's l1: 0.173838\tvalid_1's l2: 0.220489\tvalid_1's l1: 0.307248\n",
      "Early stopping, best iteration is:\n",
      "[840]\ttraining's l2: 0.0546322\ttraining's l1: 0.169542\tvalid_1's l2: 0.219685\tvalid_1's l1: 0.306414\n"
     ]
    }
   ],
   "source": [
    "model = ModelPerType(**best_grid_params)\n",
    "model.fit(train_df, verbose=100, eval_metric='mae')"
   ]
  },
  {
   "cell_type": "code",
   "execution_count": 195,
   "metadata": {
    "collapsed": true
   },
   "outputs": [],
   "source": [
    "predictions = model.predict(test_df)"
   ]
  },
  {
   "cell_type": "code",
   "execution_count": 197,
   "metadata": {},
   "outputs": [],
   "source": [
    "predictions.drop('type', axis=1).to_csv('submission_model_per_type.csv', header=True, index=False)"
   ]
  },
  {
   "cell_type": "markdown",
   "metadata": {},
   "source": [
    "**Kaggle result: -0.38**"
   ]
  },
  {
   "cell_type": "markdown",
   "metadata": {},
   "source": [
    "### Model per set of features"
   ]
  },
  {
   "cell_type": "markdown",
   "metadata": {},
   "source": [
    "Let's try to separate the data vertically: we will build a model per each of three types of features: RDKit ones, TF-IDF ones and original data-based."
   ]
  },
  {
   "cell_type": "code",
   "execution_count": 198,
   "metadata": {},
   "outputs": [
    {
     "data": {
      "text/plain": [
       "Index(['id', 'molecule_name', 'atom_index_0', 'atom_index_1', 'type',\n",
       "       'scalar_coupling_constant', 'x_0', 'y_0', 'z_0', 'atom_0', 'x_1', 'y_1',\n",
       "       'z_1', 'atom_1', 'distance', 'mean_distance_0', 'mean_distance_1',\n",
       "       'size', 'connections_0', 'connections_1', 'mass', 'atom_0_mass',\n",
       "       'atom_1_mass', 'gravity', 'x_0^2', 'y_0^2', 'z_0^2', 'x_1^2', 'y_1^2',\n",
       "       'z_1^2', 'degree_x', 'hybridization_x', 'inring_x', 'inring3_x',\n",
       "       'inring4_x', 'inring5_x', 'inring6_x', 'inring7_x', 'inring8_x',\n",
       "       'nb_h_x', 'nb_o_x', 'nb_c_x', 'nb_n_x', 'nb_na_x', 'degree_y',\n",
       "       'hybridization_y', 'inring_y', 'inring3_y', 'inring4_y', 'inring5_y',\n",
       "       'inring6_y', 'inring7_y', 'inring8_y', 'nb_h_y', 'nb_o_y', 'nb_c_y',\n",
       "       'nb_n_y', 'nb_na_y', 'delta', 'C C', 'C F', 'C H', 'C N', 'C O', 'F C',\n",
       "       'F F', 'F H', 'F N', 'F O', 'H C', 'H F', 'H H', 'H N', 'H O', 'N C',\n",
       "       'N F', 'N H', 'N N', 'N O', 'O C', 'O F', 'O H', 'O N', 'O O'],\n",
       "      dtype='object')"
      ]
     },
     "execution_count": 198,
     "metadata": {},
     "output_type": "execute_result"
    }
   ],
   "source": [
    "train_df.columns"
   ]
  },
  {
   "cell_type": "code",
   "execution_count": 218,
   "metadata": {
    "collapsed": true
   },
   "outputs": [],
   "source": [
    "class ModelPerFeatureSet:\n",
    "    def __init__(self, **lgbm_config):\n",
    "        self.lgbm_config = lgbm_config\n",
    "        self.model_dict = {}\n",
    "        self.common_features = ['type', 'atom_1']\n",
    "    \n",
    "    def fit(self, X, **lgbm_fit_params):\n",
    "        self.feature_fields = [col for col in train_df.columns if col not in ['id', 'atom_index_0', 'atom_index_1', 'scalar_coupling_constant', 'molecule_name', 'atom_0', 'scalar_coupling_constant']]\n",
    "        tf_idf_features = [col for col in self.feature_fields if len(col) == 3 and col.upper() == col] + self.common_features\n",
    "        rdkit_features = [col for col in self.feature_fields if col.startswith('nb') or col.startswith('inring') or col.startswith('degree') or col.startswith('hyb')] + self.common_features\n",
    "        original_features = list(set(self.feature_fields) - set(tf_idf_features) - set(rdkit_features)) + self.common_features\n",
    "        self.name_to_features = {\n",
    "            'tf-idf': tf_idf_features,\n",
    "            'rdkit': rdkit_features,\n",
    "            'original': original_features\n",
    "        }\n",
    "        \n",
    "        model_scores = pd.DataFrame(columns=[])\n",
    "        X_train, X_valid, y_train, y_valid = train_test_split(X[self.feature_fields], X['scalar_coupling_constant'], test_size=0.2)\n",
    "        for name, features in self.name_to_features.items():\n",
    "            X_train_local = X_train[features]\n",
    "            X_valid_local = X_valid[features]\n",
    "            print('Fitting model {}'.format(name.upper()))\n",
    "            print('This features will be used: {}'.format(features))\n",
    "            model = LGBMRegressor(**self.lgbm_config)\n",
    "            model.fit(X_train_local, y_train, eval_set=[(X_train_local, y_train), (X_valid_local, y_valid)], **lgbm_fit_params)\n",
    "            print('Predicting model {}'.format(name.upper()))\n",
    "            model_scores[name] = model.predict(X[features])\n",
    "            \n",
    "            self.model_dict[name] = model\n",
    "        \n",
    "        self.combining_model = LGBMRegressor(**self.lgbm_config)\n",
    "        X_train, X_valid, y_train, y_valid = train_test_split(model_scores, X['scalar_coupling_constant'], test_size=0.2)\n",
    "        print('Fitting combining model')\n",
    "        self.combining_model.fit(X_train, y_train, eval_set=[(X_train, y_train), (X_valid, y_valid)], **lgbm_fit_params)\n",
    "    \n",
    "    def predict(self, X):\n",
    "        model_scores = pd.DataFrame(columns=[])\n",
    "        for name, features in self.name_to_features.items():\n",
    "            print('Predicting model {}'.format(name.upper()))\n",
    "            model_scores[name] = self.model_dict[name].predict(X[self.name_to_features[name]])\n",
    "        print('Predicting combining model')\n",
    "        return pd.DataFrame({\n",
    "            'id': X['id'],\n",
    "            'type': X['type'],\n",
    "            'scalar_coupling_constant': self.combining_model.predict(model_scores)\n",
    "        })\n",
    "            "
   ]
  },
  {
   "cell_type": "code",
   "execution_count": 219,
   "metadata": {},
   "outputs": [
    {
     "name": "stdout",
     "output_type": "stream",
     "text": [
      "Fitting model TF-IDF\n",
      "This features will be used: ['C C', 'C F', 'C H', 'C N', 'C O', 'F C', 'F F', 'F H', 'F N', 'F O', 'H C', 'H F', 'H H', 'H N', 'H O', 'N C', 'N F', 'N H', 'N N', 'N O', 'O C', 'O F', 'O H', 'O N', 'O O', 'type', 'atom_1']\n",
      "Training until validation scores don't improve for 20 rounds.\n",
      "Early stopping, best iteration is:\n",
      "[74]\ttraining's l2: 51.2867\ttraining's l1: 3.87064\tvalid_1's l2: 51.7669\tvalid_1's l1: 3.8672\n",
      "Predicting model TF-IDF\n",
      "Fitting model RDKIT\n",
      "This features will be used: ['degree_x', 'hybridization_x', 'inring_x', 'inring3_x', 'inring4_x', 'inring5_x', 'inring6_x', 'inring7_x', 'inring8_x', 'nb_h_x', 'nb_o_x', 'nb_c_x', 'nb_n_x', 'nb_na_x', 'degree_y', 'hybridization_y', 'inring_y', 'inring3_y', 'inring4_y', 'inring5_y', 'inring6_y', 'inring7_y', 'inring8_y', 'nb_h_y', 'nb_o_y', 'nb_c_y', 'nb_n_y', 'nb_na_y', 'type', 'atom_1']\n",
      "Training until validation scores don't improve for 20 rounds.\n",
      "[100]\ttraining's l2: 14.098\ttraining's l1: 2.63024\tvalid_1's l2: 14.0679\tvalid_1's l1: 2.6278\n",
      "[200]\ttraining's l2: 14.0943\ttraining's l1: 2.62955\tvalid_1's l2: 14.0647\tvalid_1's l1: 2.62718\n",
      "Early stopping, best iteration is:\n",
      "[216]\ttraining's l2: 14.0942\ttraining's l1: 2.62951\tvalid_1's l2: 14.0646\tvalid_1's l1: 2.62716\n",
      "Predicting model RDKIT\n",
      "Fitting model ORIGINAL\n",
      "This features will be used: ['z_0', 'x_0', 'gravity', 'atom_0_mass', 'z_1^2', 'size', 'mean_distance_0', 'y_1^2', 'delta', 'z_0^2', 'mass', 'y_0^2', 'atom_1_mass', 'connections_1', 'mean_distance_1', 'distance', 'x_0^2', 'y_1', 'z_1', 'connections_0', 'y_0', 'x_1', 'x_1^2', 'type', 'atom_1']\n",
      "Training until validation scores don't improve for 20 rounds.\n",
      "[100]\ttraining's l2: 5.43225\ttraining's l1: 1.56023\tvalid_1's l2: 5.51053\tvalid_1's l1: 1.56866\n",
      "[200]\ttraining's l2: 4.84956\ttraining's l1: 1.46608\tvalid_1's l2: 4.99998\tvalid_1's l1: 1.48259\n",
      "[300]\ttraining's l2: 4.47094\ttraining's l1: 1.40535\tvalid_1's l2: 4.68674\tvalid_1's l1: 1.42936\n",
      "[400]\ttraining's l2: 4.20977\ttraining's l1: 1.36323\tvalid_1's l2: 4.49097\tvalid_1's l1: 1.3944\n",
      "[500]\ttraining's l2: 4.02767\ttraining's l1: 1.33354\tvalid_1's l2: 4.35996\tvalid_1's l1: 1.37089\n",
      "[600]\ttraining's l2: 3.86049\ttraining's l1: 1.30607\tvalid_1's l2: 4.24907\tvalid_1's l1: 1.35002\n",
      "[700]\ttraining's l2: 3.70695\ttraining's l1: 1.28211\tvalid_1's l2: 4.14031\tvalid_1's l1: 1.33187\n",
      "[800]\ttraining's l2: 3.5723\ttraining's l1: 1.26034\tvalid_1's l2: 4.05899\tvalid_1's l1: 1.31633\n",
      "[900]\ttraining's l2: 3.47292\ttraining's l1: 1.24235\tvalid_1's l2: 3.99966\tvalid_1's l1: 1.30401\n",
      "[1000]\ttraining's l2: 3.37856\ttraining's l1: 1.22671\tvalid_1's l2: 3.94565\tvalid_1's l1: 1.29404\n",
      "[1100]\ttraining's l2: 3.29266\ttraining's l1: 1.21157\tvalid_1's l2: 3.89641\tvalid_1's l1: 1.28406\n",
      "[1200]\ttraining's l2: 3.21972\ttraining's l1: 1.19898\tvalid_1's l2: 3.85651\tvalid_1's l1: 1.27649\n",
      "[1300]\ttraining's l2: 3.14518\ttraining's l1: 1.18607\tvalid_1's l2: 3.81791\tvalid_1's l1: 1.26906\n",
      "[1400]\ttraining's l2: 3.07952\ttraining's l1: 1.17426\tvalid_1's l2: 3.78776\tvalid_1's l1: 1.2626\n",
      "[1500]\ttraining's l2: 3.01532\ttraining's l1: 1.16278\tvalid_1's l2: 3.75759\tvalid_1's l1: 1.25633\n",
      "[1600]\ttraining's l2: 2.95343\ttraining's l1: 1.15192\tvalid_1's l2: 3.72943\tvalid_1's l1: 1.25064\n",
      "[1700]\ttraining's l2: 2.89771\ttraining's l1: 1.14197\tvalid_1's l2: 3.70575\tvalid_1's l1: 1.24575\n",
      "[1800]\ttraining's l2: 2.84514\ttraining's l1: 1.13242\tvalid_1's l2: 3.68542\tvalid_1's l1: 1.24137\n",
      "[1900]\ttraining's l2: 2.79603\ttraining's l1: 1.1239\tvalid_1's l2: 3.66664\tvalid_1's l1: 1.23795\n",
      "[2000]\ttraining's l2: 2.74381\ttraining's l1: 1.11462\tvalid_1's l2: 3.64545\tvalid_1's l1: 1.2337\n",
      "[2100]\ttraining's l2: 2.6985\ttraining's l1: 1.10601\tvalid_1's l2: 3.62776\tvalid_1's l1: 1.22967\n",
      "[2200]\ttraining's l2: 2.65406\ttraining's l1: 1.09808\tvalid_1's l2: 3.61285\tvalid_1's l1: 1.22665\n",
      "[2300]\ttraining's l2: 2.61267\ttraining's l1: 1.09031\tvalid_1's l2: 3.59854\tvalid_1's l1: 1.22344\n",
      "[2400]\ttraining's l2: 2.57346\ttraining's l1: 1.08256\tvalid_1's l2: 3.58403\tvalid_1's l1: 1.2203\n",
      "[2500]\ttraining's l2: 2.53475\ttraining's l1: 1.07555\tvalid_1's l2: 3.57179\tvalid_1's l1: 1.21785\n",
      "[2600]\ttraining's l2: 2.49433\ttraining's l1: 1.06761\tvalid_1's l2: 3.55656\tvalid_1's l1: 1.21441\n",
      "[2700]\ttraining's l2: 2.4616\ttraining's l1: 1.06103\tvalid_1's l2: 3.54682\tvalid_1's l1: 1.2121\n",
      "[2800]\ttraining's l2: 2.42836\ttraining's l1: 1.0545\tvalid_1's l2: 3.53711\tvalid_1's l1: 1.20985\n",
      "[2900]\ttraining's l2: 2.39453\ttraining's l1: 1.04847\tvalid_1's l2: 3.52846\tvalid_1's l1: 1.20828\n",
      "[3000]\ttraining's l2: 2.36304\ttraining's l1: 1.04227\tvalid_1's l2: 3.51771\tvalid_1's l1: 1.20623\n",
      "[3100]\ttraining's l2: 2.33054\ttraining's l1: 1.03542\tvalid_1's l2: 3.50652\tvalid_1's l1: 1.20353\n",
      "[3200]\ttraining's l2: 2.2975\ttraining's l1: 1.02897\tvalid_1's l2: 3.4957\tvalid_1's l1: 1.20145\n",
      "[3300]\ttraining's l2: 2.26508\ttraining's l1: 1.02247\tvalid_1's l2: 3.484\tvalid_1's l1: 1.19891\n",
      "[3400]\ttraining's l2: 2.23812\ttraining's l1: 1.017\tvalid_1's l2: 3.47835\tvalid_1's l1: 1.19771\n",
      "[3500]\ttraining's l2: 2.20962\ttraining's l1: 1.01144\tvalid_1's l2: 3.47136\tvalid_1's l1: 1.19618\n",
      "[3600]\ttraining's l2: 2.18495\ttraining's l1: 1.00626\tvalid_1's l2: 3.46567\tvalid_1's l1: 1.19494\n",
      "[3700]\ttraining's l2: 2.16039\ttraining's l1: 1.00119\tvalid_1's l2: 3.4617\tvalid_1's l1: 1.19396\n",
      "[3800]\ttraining's l2: 2.13627\ttraining's l1: 0.995954\tvalid_1's l2: 3.45615\tvalid_1's l1: 1.19257\n",
      "[3900]\ttraining's l2: 2.11111\ttraining's l1: 0.990785\tvalid_1's l2: 3.45056\tvalid_1's l1: 1.19125\n",
      "[4000]\ttraining's l2: 2.08688\ttraining's l1: 0.985739\tvalid_1's l2: 3.44394\tvalid_1's l1: 1.18999\n",
      "[4100]\ttraining's l2: 2.06328\ttraining's l1: 0.980689\tvalid_1's l2: 3.43712\tvalid_1's l1: 1.18869\n",
      "[4200]\ttraining's l2: 2.04127\ttraining's l1: 0.975859\tvalid_1's l2: 3.43105\tvalid_1's l1: 1.18739\n",
      "[4300]\ttraining's l2: 2.01906\ttraining's l1: 0.970934\tvalid_1's l2: 3.42642\tvalid_1's l1: 1.18613\n",
      "[4400]\ttraining's l2: 1.99727\ttraining's l1: 0.966344\tvalid_1's l2: 3.42207\tvalid_1's l1: 1.18521\n",
      "[4500]\ttraining's l2: 1.97743\ttraining's l1: 0.961886\tvalid_1's l2: 3.41787\tvalid_1's l1: 1.18432\n",
      "[4600]\ttraining's l2: 1.95438\ttraining's l1: 0.956789\tvalid_1's l2: 3.41191\tvalid_1's l1: 1.18264\n",
      "[4700]\ttraining's l2: 1.9337\ttraining's l1: 0.952182\tvalid_1's l2: 3.40754\tvalid_1's l1: 1.18152\n",
      "[4800]\ttraining's l2: 1.91367\ttraining's l1: 0.947658\tvalid_1's l2: 3.40225\tvalid_1's l1: 1.1805\n",
      "[4900]\ttraining's l2: 1.89444\ttraining's l1: 0.943147\tvalid_1's l2: 3.39703\tvalid_1's l1: 1.17921\n",
      "[5000]\ttraining's l2: 1.87347\ttraining's l1: 0.938612\tvalid_1's l2: 3.39275\tvalid_1's l1: 1.17819\n",
      "[5100]\ttraining's l2: 1.85174\ttraining's l1: 0.933926\tvalid_1's l2: 3.38778\tvalid_1's l1: 1.17705\n",
      "[5200]\ttraining's l2: 1.83221\ttraining's l1: 0.929464\tvalid_1's l2: 3.38201\tvalid_1's l1: 1.17599\n",
      "Early stopping, best iteration is:\n",
      "[5210]\ttraining's l2: 1.83044\ttraining's l1: 0.929113\tvalid_1's l2: 3.38153\tvalid_1's l1: 1.17594\n",
      "Predicting model ORIGINAL\n",
      "Fitting combining model\n",
      "Training until validation scores don't improve for 20 rounds.\n",
      "[100]\ttraining's l2: 2.45119\ttraining's l1: 0.984632\tvalid_1's l2: 2.47903\tvalid_1's l1: 0.987908\n",
      "[200]\ttraining's l2: 2.42207\ttraining's l1: 0.977704\tvalid_1's l2: 2.46588\tvalid_1's l1: 0.98332\n",
      "[300]\ttraining's l2: 2.40549\ttraining's l1: 0.974012\tvalid_1's l2: 2.46262\tvalid_1's l1: 0.981569\n",
      "Early stopping, best iteration is:\n",
      "[318]\ttraining's l2: 2.40293\ttraining's l1: 0.973387\tvalid_1's l2: 2.46238\tvalid_1's l1: 0.981357\n"
     ]
    }
   ],
   "source": [
    "gc.collect()\n",
    "best_grid_params = {\n",
    "    'colsample_bytree': 1,\n",
    "    'early_stopping_rounds': 20,\n",
    "    'learning_rate': 0.5,\n",
    "    'n_estimators': 10000,\n",
    "    'reg_alpha': 2.0,\n",
    "    'reg_lambda': 2.0\n",
    "}\n",
    "\n",
    "model = ModelPerFeatureSet(**best_grid_params)\n",
    "X_train, X_test = train_test_split(train_df, test_size=0.3, random_state=42)\n",
    "model.fit(X_train, verbose=100, eval_metric='mae')"
   ]
  },
  {
   "cell_type": "code",
   "execution_count": 220,
   "metadata": {},
   "outputs": [
    {
     "name": "stdout",
     "output_type": "stream",
     "text": [
      "Predicting model TF-IDF\n",
      "Predicting model RDKIT\n",
      "Predicting model ORIGINAL\n",
      "Predicting combining model\n"
     ]
    },
    {
     "data": {
      "text/plain": [
       "0.03981890823899739"
      ]
     },
     "execution_count": 220,
     "metadata": {},
     "output_type": "execute_result"
    }
   ],
   "source": [
    "predictions = model.predict(X_test)\n",
    "evaluate(X_test['scalar_coupling_constant'], predictions)"
   ]
  },
  {
   "cell_type": "markdown",
   "metadata": {},
   "source": [
    "# Results"
   ]
  },
  {
   "cell_type": "markdown",
   "metadata": {},
   "source": [
    "Results of the models we used are:\n",
    "\n",
    "1. Single LGBMRegressor model for all data: -0.165 (Kaggle)\n",
    "2. Ensemble of 8 LGBMRegressor models (one per each type of atom connection): -0.38 (Kaggle)\n",
    "3. Ensemble of 3 LGBMRegressor models (one per each set of different features: TF-IDF features, RDKit features and original data features): 0.039 (training dataframe)\n",
    "\n",
    "So the best result was provided by the per-type modeling approach."
   ]
  }
 ],
 "metadata": {
  "kernelspec": {
   "display_name": "Python 3.7 (main conda env)",
   "language": "python",
   "name": "main-env"
  },
  "language_info": {
   "codemirror_mode": {
    "name": "ipython",
    "version": 3
   },
   "file_extension": ".py",
   "mimetype": "text/x-python",
   "name": "python",
   "nbconvert_exporter": "python",
   "pygments_lexer": "ipython3",
   "version": "3.7.4"
  }
 },
 "nbformat": 4,
 "nbformat_minor": 2
}
