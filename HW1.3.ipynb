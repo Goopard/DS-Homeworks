{
 "cells": [
  {
   "cell_type": "code",
   "execution_count": 1,
   "metadata": {},
   "outputs": [],
   "source": [
    "import pandas as pd\n",
    "import numpy as np\n",
    "import matplotlib.pyplot as plt\n",
    "from scipy import integrate\n",
    "from scipy.stats.mstats import pearsonr as corr\n",
    "from math import pi\n",
    "from functools import reduce\n",
    "from operator import mul\n",
    "from math import log"
   ]
  },
  {
   "cell_type": "code",
   "execution_count": 2,
   "metadata": {},
   "outputs": [],
   "source": [
    "np.random.seed(42)\n",
    "dist = [np.random.normal(0, 5, 10000), np.random.normal(0, 2, 10000)]\n",
    "general = dist[0]"
   ]
  },
  {
   "cell_type": "code",
   "execution_count": 3,
   "metadata": {},
   "outputs": [
    {
     "data": {
      "image/png": "[encoded data removed]",
      "text/plain": [
       "<Figure size 432x288 with 1 Axes>"
      ]
     },
     "metadata": {},
     "output_type": "display_data"
    }
   ],
   "source": [
    "plot = plt.hist(general, bins=30)"
   ]
  },
  {
   "cell_type": "code",
   "execution_count": 4,
   "metadata": {},
   "outputs": [],
   "source": [
    "def f_norm(mean, std):\n",
    "    return lambda x: np.exp(-(x - mean)**2 / (2 * std ** 2)) / (std * (2 * pi) ** 0.5)\n",
    "\n",
    "\n",
    "def llf(sample, f0, f1):\n",
    "    return np.log(f1(sample) / f0(sample))\n",
    "\n",
    "\n",
    "def sprt(general, f0, f1, alpha, beta, num_iterations=10000):\n",
    "    c0 = np.log(beta / (1 - alpha))\n",
    "    c1 = np.log((1 - beta) / alpha)\n",
    "    results = []\n",
    "    for i in range(num_iterations):\n",
    "        sample = np.array([])\n",
    "        while True:\n",
    "            sample = np.hstack([sample, np.random.choice(general, 1)])\n",
    "            Z = llf(sample, f0, f1).sum()\n",
    "            if Z < c0:\n",
    "                results.append((0, len(sample)))\n",
    "                break\n",
    "            elif Z > c1:\n",
    "                results.append((1, len(sample)))\n",
    "                break\n",
    "    return results\n",
    "\n",
    "\n",
    "def w(x, y):\n",
    "    return (1 - x) * np.log((1 - x) / y) + x * np.log(x / (1 - y))\n",
    "\n",
    "\n",
    "def E(f, mean0, mean1, std):\n",
    "    func = lambda x: f(x) * (-(x - mean1) ** 2 + (x - mean0) ** 2) / (2 * std ** 2)\n",
    "    return integrate.quad(func, -np.inf, np.inf)[0]\n",
    "\n",
    "\n",
    "def estimation(alpha, beta, mean0, mean1, std, f0, f1):\n",
    "    return -w(alpha, beta) / E(f0, mean0, mean1, std), w(beta, alpha) / E(f1, mean0, mean1, std)"
   ]
  },
  {
   "cell_type": "code",
   "execution_count": 5,
   "metadata": {},
   "outputs": [],
   "source": [
    "mean0 = 0\n",
    "mean1 = 0.1\n",
    "\n",
    "f0 = f_norm(mean0, 5)\n",
    "f1 = f_norm(mean1, 5)\n",
    "alpha = 0.05\n",
    "beta = 0.1"
   ]
  },
  {
   "cell_type": "code",
   "execution_count": 14,
   "metadata": {},
   "outputs": [
    {
     "name": "stdout",
     "output_type": "stream",
     "text": [
      "Wall time: 57min 35s\n"
     ]
    }
   ],
   "source": [
    "%%time\n",
    "\n",
    "result = pd.DataFrame(sprt(general, f0, f1, alpha, beta, num_iterations=500), columns=['result', 'len_sample'])"
   ]
  },
  {
   "cell_type": "markdown",
   "metadata": {},
   "source": [
    "Results of the tests, 0 stands for the 0 hypothesis (correct one), and 1 stands for 1 hypotesis (incorrect):"
   ]
  },
  {
   "cell_type": "code",
   "execution_count": 15,
   "metadata": {},
   "outputs": [
    {
     "data": {
      "text/plain": [
       "0    487\n",
       "1     13\n",
       "Name: result, dtype: int64"
      ]
     },
     "execution_count": 15,
     "metadata": {},
     "output_type": "execute_result"
    }
   ],
   "source": [
    "result.result.value_counts()"
   ]
  },
  {
   "cell_type": "markdown",
   "metadata": {},
   "source": [
    "Average number of observations for both results:"
   ]
  },
  {
   "cell_type": "code",
   "execution_count": 16,
   "metadata": {},
   "outputs": [
    {
     "data": {
      "text/plain": [
       "(6416.538461538462, 9417.854209445586)"
      ]
     },
     "execution_count": 16,
     "metadata": {},
     "output_type": "execute_result"
    }
   ],
   "source": [
    "result[result.result == 1].len_sample.mean(), result[result.result == 0].len_sample.mean()"
   ]
  },
  {
   "cell_type": "code",
   "execution_count": null,
   "metadata": {},
   "outputs": [],
   "source": [
    "Expected number of obser"
   ]
  },
  {
   "cell_type": "code",
   "execution_count": 17,
   "metadata": {},
   "outputs": [
    {
     "data": {
      "text/plain": [
       "(9971.043101562955, 11881.027011229726)"
      ]
     },
     "execution_count": 17,
     "metadata": {},
     "output_type": "execute_result"
    }
   ],
   "source": [
    "estimation(alpha, beta, mean0, mean1, 5, f0, f1)"
   ]
  },
  {
   "cell_type": "markdown",
   "metadata": {},
   "source": [
    "As we can see, the results of the SPRT runs in most cases (487 out of 500) return the correct result. Also the "
   ]
  }
 ],
 "metadata": {
  "kernelspec": {
   "display_name": "Python 3",
   "language": "python",
   "name": "python3"
  },
  "language_info": {
   "codemirror_mode": {
    "name": "ipython",
    "version": 3
   },
   "file_extension": ".py",
   "mimetype": "text/x-python",
   "name": "python",
   "nbconvert_exporter": "python",
   "pygments_lexer": "ipython3",
   "version": "3.6.4"
  }
 },
 "nbformat": 4,
 "nbformat_minor": 2
}
