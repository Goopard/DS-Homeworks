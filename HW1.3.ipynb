{
 "cells": [
  {
   "cell_type": "code",
   "execution_count": 2,
   "metadata": {},
   "outputs": [],
   "source": [
    "import pandas as pd\n",
    "import numpy as np\n",
    "import matplotlib.pyplot as plt\n",
    "from scipy import integrate\n",
    "from scipy.stats.mstats import pearsonr as corr\n",
    "from math import pi\n",
    "from functools import reduce\n",
    "from operator import mul\n",
    "from math import log"
   ]
  },
  {
   "cell_type": "code",
   "execution_count": 8,
   "metadata": {},
   "outputs": [],
   "source": [
    "np.random.seed(42)\n",
    "dist = [np.random.normal(0, 5, 10000), np.random.normal(-2, 3, 10000)]\n",
    "general = np.hstack(dist)"
   ]
  },
  {
   "cell_type": "code",
   "execution_count": 9,
   "metadata": {},
   "outputs": [
    {
     "data": {
      "image/png": "[encoded data removed]",
      "text/plain": [
       "<Figure size 432x288 with 1 Axes>"
      ]
     },
     "metadata": {},
     "output_type": "display_data"
    }
   ],
   "source": [
    "plot = plt.hist(general, bins=30)"
   ]
  },
  {
   "cell_type": "code",
   "execution_count": 10,
   "metadata": {},
   "outputs": [],
   "source": [
    "def f_norm(mean, std):\n",
    "    return lambda x: np.exp(-(x - mean)**2 / (2 * std ** 2)) / (std * (2 * pi) ** 0.5)\n",
    "\n",
    "\n",
    "def llf(sample, f0, f1):\n",
    "    return np.log(f1(sample) / f0(sample))\n",
    "\n",
    "\n",
    "def sprt(general, f0, f1, alpha, beta, num_iterations=10000):\n",
    "    c0 = np.log(beta / (1 - alpha))\n",
    "    c1 = np.log((1 - beta) / alpha)\n",
    "    results = []\n",
    "    for i in range(num_iterations):\n",
    "        sample = np.array([])\n",
    "        while True:\n",
    "            sample = np.hstack([sample, np.random.choice(general, 1)])\n",
    "            Z = llf(sample, f0, f1).sum()\n",
    "            if Z < c0:\n",
    "                results.append((0, len(sample)))\n",
    "                break\n",
    "            elif Z > c1:\n",
    "                results.append((1, len(sample)))\n",
    "                break\n",
    "    return results\n",
    "\n",
    "\n",
    "def w(x, y):\n",
    "    return (1 - x) * np.log((1 - x) / y) + x * np.log(x / (1 - y))\n",
    "\n",
    "\n",
    "def E(f, mean0, mean1, std):\n",
    "    func = lambda x: f(x) * (-(x - mean1) ** 2 + (x - mean0) ** 2) / (2 * std ** 2)\n",
    "    return integrate.quad(func, -np.inf, np.inf)[0]\n",
    "\n",
    "\n",
    "def estimation(alpha, beta, mean0, mean1, std, f0, f1):\n",
    "    return -w(alpha, beta) / E(f0, mean0, mean1, std), w(beta, alpha) / E(f1, mean0, mean1, std)"
   ]
  },
  {
   "cell_type": "markdown",
   "metadata": {},
   "source": [
    "**Choosing the hypothesises**\n",
    "\n",
    "We will choose the normal distribution with the general sample's mean and std as the null hypothesis, and the normal distribution with the mean of some subsample of the general sample and the correct std as the alternative hypothesis:"
   ]
  },
  {
   "cell_type": "code",
   "execution_count": 14,
   "metadata": {},
   "outputs": [
    {
     "data": {
      "text/plain": [
       "(-0.9850388788237345, -1.1971064004469163, 4.247760825015384)"
      ]
     },
     "execution_count": 14,
     "metadata": {},
     "output_type": "execute_result"
    }
   ],
   "source": [
    "mean0 = general.mean()\n",
    "mean1 = np.random.choice(general, 1000).mean()\n",
    "std = general.std()\n",
    "\n",
    "f0 = f_norm(mean0, std)\n",
    "f1 = f_norm(mean1, std)\n",
    "alpha = 0.05\n",
    "beta = 0.1\n",
    "\n",
    "mean0, mean1, std"
   ]
  },
  {
   "cell_type": "markdown",
   "metadata": {},
   "source": [
    "**Run SPRT 1000 times**"
   ]
  },
  {
   "cell_type": "code",
   "execution_count": 24,
   "metadata": {},
   "outputs": [
    {
     "name": "stdout",
     "output_type": "stream",
     "text": [
      "Wall time: 2min 54s\n"
     ]
    }
   ],
   "source": [
    "%%time\n",
    "\n",
    "result = pd.DataFrame(sprt(general, f0, f1, alpha, beta, num_iterations=1000), columns=['result', 'len_sample'])"
   ]
  },
  {
   "cell_type": "markdown",
   "metadata": {},
   "source": [
    "**Analyzing results**"
   ]
  },
  {
   "cell_type": "markdown",
   "metadata": {},
   "source": [
    "Results of the tests, 0 stands for the 0 hypothesis (correct one), and 1 stands for 1 hypotesis (incorrect):"
   ]
  },
  {
   "cell_type": "code",
   "execution_count": 25,
   "metadata": {},
   "outputs": [
    {
     "data": {
      "text/plain": [
       "0    954\n",
       "1     46\n",
       "Name: result, dtype: int64"
      ]
     },
     "execution_count": 25,
     "metadata": {},
     "output_type": "execute_result"
    }
   ],
   "source": [
    "result.result.value_counts()"
   ]
  },
  {
   "cell_type": "markdown",
   "metadata": {},
   "source": [
    "Since we now that the null hypothesis is correct (well, pretty close to be correct), we can see that the propability of type-I error is very close to the one we originally set (alpha=0.05) - after the run of a 1000 tests we ended up with this probability equal to 0.046."
   ]
  },
  {
   "cell_type": "markdown",
   "metadata": {},
   "source": [
    "**Average number of observations for both results:**"
   ]
  },
  {
   "cell_type": "code",
   "execution_count": 26,
   "metadata": {},
   "outputs": [
    {
     "data": {
      "text/plain": [
       "(1554.9916142557652, 1916.608695652174)"
      ]
     },
     "execution_count": 26,
     "metadata": {},
     "output_type": "execute_result"
    }
   ],
   "source": [
    "result[result.result == 0].len_sample.mean(), result[result.result == 1].len_sample.mean()"
   ]
  },
  {
   "cell_type": "markdown",
   "metadata": {},
   "source": [
    "**Expected number of observations:**"
   ]
  },
  {
   "cell_type": "code",
   "execution_count": 27,
   "metadata": {},
   "outputs": [
    {
     "data": {
      "text/plain": [
       "(2217.1356839686136, 2641.8348285418524)"
      ]
     },
     "execution_count": 27,
     "metadata": {},
     "output_type": "execute_result"
    }
   ],
   "source": [
    "estimation(alpha, beta, mean0, mean1, 5, f0, f1)"
   ]
  },
  {
   "cell_type": "markdown",
   "metadata": {},
   "source": [
    "The resulting numbers of observations are relatively close to the expected ones (no to close because of only 1000 runs of the SPRT)"
   ]
  }
 ],
 "metadata": {
  "kernelspec": {
   "display_name": "Python 3",
   "language": "python",
   "name": "python3"
  },
  "language_info": {
   "codemirror_mode": {
    "name": "ipython",
    "version": 3
   },
   "file_extension": ".py",
   "mimetype": "text/x-python",
   "name": "python",
   "nbconvert_exporter": "python",
   "pygments_lexer": "ipython3",
   "version": "3.6.4"
  }
 },
 "nbformat": 4,
 "nbformat_minor": 2
}
